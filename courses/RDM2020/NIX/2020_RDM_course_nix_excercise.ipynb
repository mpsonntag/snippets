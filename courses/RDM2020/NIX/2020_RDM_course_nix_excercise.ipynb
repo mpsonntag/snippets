{
 "cells": [
  {
   "cell_type": "markdown",
   "metadata": {},
   "source": [
    "This notebook is set up to be used with Python 3(.6+). Also to properly run this notebook the following libraries need to be installed:\n",
    "- `pip install matplotlib`\n",
    "- `pip install numpy`\n",
    "- `pip install pandas`\n",
    "- `pip install nixio==1.5.0b4`\n"
   ]
  },
  {
   "cell_type": "code",
   "execution_count": 8,
   "metadata": {},
   "outputs": [
    {
     "data": {
      "text/plain": [
       "['LICENSE',\n",
       " 'runtime.txt',\n",
       " 'excercise',\n",
       " 'requirements.txt',\n",
       " 'resources',\n",
       " '2020_RDM_course_nix_excercise.ipynb',\n",
       " '2020_RDM_course_nix.ipynb',\n",
       " 'README.md',\n",
       " '.git',\n",
       " 'Exercise.nix',\n",
       " '.ipynb_checkpoints']"
      ]
     },
     "execution_count": 8,
     "metadata": {},
     "output_type": "execute_result"
    }
   ],
   "source": [
    "# First lets check which files are available to us in the general and in the excercise folder\n",
    "import os\n",
    "\n",
    "os.listdir()"
   ]
  },
  {
   "cell_type": "code",
   "execution_count": 9,
   "metadata": {},
   "outputs": [
    {
     "data": {
      "text/plain": [
       "['20121202Pflp178GCaMP5kN2shift_210421W2bag.log',\n",
       " '20121202Pflp178GCaMP5kN2shift_210421W1bag.log',\n",
       " 'README.md',\n",
       " '20121205Pflp178GCaMP5kN2shift_210421W4bag.log']"
      ]
     },
     "execution_count": 9,
     "metadata": {},
     "output_type": "execute_result"
    }
   ],
   "source": [
    "os.listdir(\"./excercise\")"
   ]
  },
  {
   "cell_type": "code",
   "execution_count": 10,
   "metadata": {},
   "outputs": [],
   "source": [
    "# Use the pandas library to read in columns from CSV files\n",
    "import pandas as pd"
   ]
  },
  {
   "cell_type": "code",
   "execution_count": 11,
   "metadata": {},
   "outputs": [],
   "source": [
    "# The raw data files do not provide column headers so we'll write them first.\n",
    "#   Check the \"README.md\" files for details.\n",
    "col_names = [\"current_frame\", \"time_elapsed\", \"obj_substracted\", \"substracted_value\", \"obj_value\", \"obj_size\", \"background_value\", \"x_old\", \"y_old\"]"
   ]
  },
  {
   "cell_type": "code",
   "execution_count": 12,
   "metadata": {},
   "outputs": [],
   "source": [
    "# Read the content of the first file.\n",
    "content = pd.read_csv(\"./excercise/20121202Pflp178GCaMP5kN2shift_210421W1bag.log\", header=None, names=col_names)"
   ]
  },
  {
   "cell_type": "code",
   "execution_count": 13,
   "metadata": {},
   "outputs": [
    {
     "data": {
      "text/html": [
       "<div>\n",
       "<style scoped>\n",
       "    .dataframe tbody tr th:only-of-type {\n",
       "        vertical-align: middle;\n",
       "    }\n",
       "\n",
       "    .dataframe tbody tr th {\n",
       "        vertical-align: top;\n",
       "    }\n",
       "\n",
       "    .dataframe thead th {\n",
       "        text-align: right;\n",
       "    }\n",
       "</style>\n",
       "<table border=\"1\" class=\"dataframe\">\n",
       "  <thead>\n",
       "    <tr style=\"text-align: right;\">\n",
       "      <th></th>\n",
       "      <th>current_frame</th>\n",
       "      <th>time_elapsed</th>\n",
       "      <th>obj_substracted</th>\n",
       "      <th>substracted_value</th>\n",
       "      <th>obj_value</th>\n",
       "      <th>obj_size</th>\n",
       "      <th>background_value</th>\n",
       "      <th>x_old</th>\n",
       "      <th>y_old</th>\n",
       "    </tr>\n",
       "  </thead>\n",
       "  <tbody>\n",
       "    <tr>\n",
       "      <th>0</th>\n",
       "      <td>2</td>\n",
       "      <td>100</td>\n",
       "      <td>562645.0</td>\n",
       "      <td>103971.0</td>\n",
       "      <td>666616.0</td>\n",
       "      <td>225</td>\n",
       "      <td>462.093</td>\n",
       "      <td>131</td>\n",
       "      <td>104</td>\n",
       "    </tr>\n",
       "    <tr>\n",
       "      <th>1</th>\n",
       "      <td>3</td>\n",
       "      <td>200</td>\n",
       "      <td>557944.0</td>\n",
       "      <td>101495.0</td>\n",
       "      <td>659439.0</td>\n",
       "      <td>224</td>\n",
       "      <td>453.102</td>\n",
       "      <td>131</td>\n",
       "      <td>104</td>\n",
       "    </tr>\n",
       "    <tr>\n",
       "      <th>2</th>\n",
       "      <td>4</td>\n",
       "      <td>300</td>\n",
       "      <td>552561.0</td>\n",
       "      <td>99455.9</td>\n",
       "      <td>652017.0</td>\n",
       "      <td>220</td>\n",
       "      <td>452.072</td>\n",
       "      <td>131</td>\n",
       "      <td>104</td>\n",
       "    </tr>\n",
       "    <tr>\n",
       "      <th>3</th>\n",
       "      <td>5</td>\n",
       "      <td>400</td>\n",
       "      <td>548347.0</td>\n",
       "      <td>98163.5</td>\n",
       "      <td>646510.0</td>\n",
       "      <td>220</td>\n",
       "      <td>446.198</td>\n",
       "      <td>131</td>\n",
       "      <td>104</td>\n",
       "    </tr>\n",
       "    <tr>\n",
       "      <th>4</th>\n",
       "      <td>6</td>\n",
       "      <td>500</td>\n",
       "      <td>543663.0</td>\n",
       "      <td>96318.0</td>\n",
       "      <td>639981.0</td>\n",
       "      <td>218</td>\n",
       "      <td>441.826</td>\n",
       "      <td>131</td>\n",
       "      <td>104</td>\n",
       "    </tr>\n",
       "    <tr>\n",
       "      <th>...</th>\n",
       "      <td>...</td>\n",
       "      <td>...</td>\n",
       "      <td>...</td>\n",
       "      <td>...</td>\n",
       "      <td>...</td>\n",
       "      <td>...</td>\n",
       "      <td>...</td>\n",
       "      <td>...</td>\n",
       "      <td>...</td>\n",
       "    </tr>\n",
       "    <tr>\n",
       "      <th>6194</th>\n",
       "      <td>6196</td>\n",
       "      <td>620511</td>\n",
       "      <td>254501.0</td>\n",
       "      <td>39819.4</td>\n",
       "      <td>294320.0</td>\n",
       "      <td>138</td>\n",
       "      <td>288.547</td>\n",
       "      <td>288</td>\n",
       "      <td>101</td>\n",
       "    </tr>\n",
       "    <tr>\n",
       "      <th>6195</th>\n",
       "      <td>6197</td>\n",
       "      <td>620611</td>\n",
       "      <td>255895.0</td>\n",
       "      <td>40211.3</td>\n",
       "      <td>296106.0</td>\n",
       "      <td>140</td>\n",
       "      <td>287.223</td>\n",
       "      <td>288</td>\n",
       "      <td>101</td>\n",
       "    </tr>\n",
       "    <tr>\n",
       "      <th>6196</th>\n",
       "      <td>6198</td>\n",
       "      <td>620711</td>\n",
       "      <td>252538.0</td>\n",
       "      <td>39373.5</td>\n",
       "      <td>291911.0</td>\n",
       "      <td>137</td>\n",
       "      <td>287.398</td>\n",
       "      <td>288</td>\n",
       "      <td>101</td>\n",
       "    </tr>\n",
       "    <tr>\n",
       "      <th>6197</th>\n",
       "      <td>6199</td>\n",
       "      <td>620811</td>\n",
       "      <td>247750.0</td>\n",
       "      <td>38085.9</td>\n",
       "      <td>285836.0</td>\n",
       "      <td>133</td>\n",
       "      <td>286.360</td>\n",
       "      <td>288</td>\n",
       "      <td>101</td>\n",
       "    </tr>\n",
       "    <tr>\n",
       "      <th>6198</th>\n",
       "      <td>6200</td>\n",
       "      <td>620912</td>\n",
       "      <td>248469.0</td>\n",
       "      <td>38510.4</td>\n",
       "      <td>286979.0</td>\n",
       "      <td>134</td>\n",
       "      <td>287.391</td>\n",
       "      <td>288</td>\n",
       "      <td>101</td>\n",
       "    </tr>\n",
       "  </tbody>\n",
       "</table>\n",
       "<p>6199 rows × 9 columns</p>\n",
       "</div>"
      ],
      "text/plain": [
       "      current_frame  time_elapsed  obj_substracted  substracted_value  \\\n",
       "0                 2           100         562645.0           103971.0   \n",
       "1                 3           200         557944.0           101495.0   \n",
       "2                 4           300         552561.0            99455.9   \n",
       "3                 5           400         548347.0            98163.5   \n",
       "4                 6           500         543663.0            96318.0   \n",
       "...             ...           ...              ...                ...   \n",
       "6194           6196        620511         254501.0            39819.4   \n",
       "6195           6197        620611         255895.0            40211.3   \n",
       "6196           6198        620711         252538.0            39373.5   \n",
       "6197           6199        620811         247750.0            38085.9   \n",
       "6198           6200        620912         248469.0            38510.4   \n",
       "\n",
       "      obj_value  obj_size  background_value  x_old  y_old  \n",
       "0      666616.0       225           462.093    131    104  \n",
       "1      659439.0       224           453.102    131    104  \n",
       "2      652017.0       220           452.072    131    104  \n",
       "3      646510.0       220           446.198    131    104  \n",
       "4      639981.0       218           441.826    131    104  \n",
       "...         ...       ...               ...    ...    ...  \n",
       "6194   294320.0       138           288.547    288    101  \n",
       "6195   296106.0       140           287.223    288    101  \n",
       "6196   291911.0       137           287.398    288    101  \n",
       "6197   285836.0       133           286.360    288    101  \n",
       "6198   286979.0       134           287.391    288    101  \n",
       "\n",
       "[6199 rows x 9 columns]"
      ]
     },
     "execution_count": 13,
     "metadata": {},
     "output_type": "execute_result"
    }
   ],
   "source": [
    "# Briefly check the content\n",
    "content"
   ]
  },
  {
   "cell_type": "code",
   "execution_count": 14,
   "metadata": {},
   "outputs": [
    {
     "data": {
      "image/png": "[encoded data removed]",
      "text/plain": [
       "<Figure size 432x288 with 1 Axes>"
      ]
     },
     "metadata": {
      "needs_background": "light"
     },
     "output_type": "display_data"
    }
   ],
   "source": [
    "# Plot raw data to get a general idea how it looks like\n",
    "import matplotlib.pyplot as plot\n",
    "\n",
    "x = content[\"current_frame\"]\n",
    "y = content[\"obj_substracted\"]\n",
    "plot.plot(x,y)\n",
    "plot.show()"
   ]
  },
  {
   "cell_type": "markdown",
   "metadata": {},
   "source": [
    "Now we are set\n",
    "- create a NIX file and a Block in it.\n",
    "- create a DataArray for each raw data file and transfer the data of one of the columns.\n",
    "- properly add Dimensions, labels and units.\n",
    "- plot the data from the data stored in the NIX file.\n",
    "- add meaningful metadata to the general NIX file and the individual DataArrays from information found in the README.md.\n",
    "- connect all three DataArrays via a MultiTag. You can use the shift paradim as a reference or come up with your own points of interest.\n",
    "- Plot the data using the MultiTag.\n",
    "- If you work with Binder, make sure you regularly download the notebook to your local machine."
   ]
  },
  {
   "cell_type": "code",
   "execution_count": 4,
   "metadata": {},
   "outputs": [],
   "source": [
    "# Create a new, writeable NIX file. Don't forget to close it when you are done.\n",
    "import nixio\n"
   ]
  },
  {
   "cell_type": "code",
   "execution_count": 5,
   "metadata": {},
   "outputs": [],
   "source": [
    "f = nixio.File.open(\"Exercise.nix\", nixio.FileMode.Overwrite)\n"
   ]
  },
  {
   "cell_type": "code",
   "execution_count": 7,
   "metadata": {},
   "outputs": [],
   "source": [
    "# Create a Block to store Data in, use an appropriate naming and type scheme.\n",
    "block = f.create_block(name=\"calcium_data\", type_=\"raw_data\")\n"
   ]
  },
  {
   "cell_type": "code",
   "execution_count": 15,
   "metadata": {},
   "outputs": [],
   "source": [
    "# Create a DataArray on the block with the already loaded data above.\n",
    "#  Again use appropriate naming and type, label and unit.\n",
    "#  Make sure you can identify the corresponding data later on.\n",
    "da_A = block.create_data_array(name=\"20121202\", array_type=\"Pflp178GCaMP5kN2\", data=content[\"obj_substracted\"])\n",
    "da_A.label = \"Fluorescence\"\n",
    "da_A.unit = \"AU\"\n"
   ]
  },
  {
   "cell_type": "code",
   "execution_count": 16,
   "metadata": {},
   "outputs": [],
   "source": [
    "# Add the appropriate two dimensions to the DataArray.\n",
    "dim = da_A.append_sampled_dimension(100)\n",
    "dim.label = \"time\"\n",
    "dim.unit = \"ms\"\n",
    "\n",
    "dim_set = da_A.append_set_dimension()\n"
   ]
  },
  {
   "cell_type": "code",
   "execution_count": 20,
   "metadata": {},
   "outputs": [
    {
     "data": {
      "text/plain": [
       "Text(0.5, 1.0, '20121202/Pflp178GCaMP5kN2')"
      ]
     },
     "execution_count": 20,
     "metadata": {},
     "output_type": "execute_result"
    },
    {
     "data": {
      "image/png": "[encoded data removed]",
      "text/plain": [
       "<Figure size 720x360 with 1 Axes>"
      ]
     },
     "metadata": {
      "needs_background": "light"
     },
     "output_type": "display_data"
    }
   ],
   "source": [
    "# Plot data from the DataArray and compare to the plot above.\n",
    "import matplotlib.pyplot as plot\n",
    "\n",
    "plot_data = f.blocks['calcium_data'].data_arrays['20121202']\n",
    "\n",
    "y = plot_data[:]\n",
    "x = plot_data.dimensions[0].axis(y.shape[0])\n",
    "\n",
    "plot.figure(figsize=(10,5))\n",
    "plot.plot(x, y, '-')\n",
    "plot.xlabel(\"%s [%s]\" % (dim.label, dim.unit))\n",
    "plot.ylabel(\"%s [%s]\" % (plot_data.label, plot_data.unit))\n",
    "plot.title(\"%s/%s\" % (plot_data.name, plot_data.type))\n"
   ]
  },
  {
   "cell_type": "code",
   "execution_count": 25,
   "metadata": {},
   "outputs": [],
   "source": [
    "# Add DataArrays for the other two data files as well.\n",
    "cont_B = pd.read_csv(\"./excercise/20121202Pflp178GCaMP5kN2shift_210421W2bag.log\", header=None, names=col_names)\n",
    "cont_C = pd.read_csv(\"./excercise/20121205Pflp178GCaMP5kN2shift_210421W4bag.log\", header=None, names=col_names)\n",
    "\n",
    "y_B = cont_B[\"obj_substracted\"]\n",
    "y_C = cont_C[\"obj_substracted\"]\n",
    "\n",
    "da_B = block.create_data_array(name=\"20121202W2_BAG\", array_type=\"Pflp178GCaMP5kN2\", data=cont_B[\"obj_substracted\"])\n",
    "da_B.label = \"Fluorescence\"\n",
    "da_B.unit = \"AU\"\n",
    "\n",
    "dim = da_B.append_sampled_dimension(100)\n",
    "dim.label = \"time\"\n",
    "dim.unit = \"ms\"\n",
    "\n",
    "dim_set = da_B.append_set_dimension()\n",
    "\n",
    "\n",
    "da_C = block.create_data_array(name=\"20121205W4_BAG\", array_type=\"Pflp178GCaMP5kN2\", data=cont_C[\"obj_substracted\"])\n",
    "da_C.label = \"Fluorescence\"\n",
    "da_C.unit = \"AU\"\n",
    "\n",
    "dim = da_C.append_sampled_dimension(100)\n",
    "dim.label = \"time\"\n",
    "dim.unit = \"ms\"\n",
    "\n",
    "dim_set = da_C.append_set_dimension()\n"
   ]
  },
  {
   "cell_type": "code",
   "execution_count": 26,
   "metadata": {},
   "outputs": [],
   "source": [
    "# Create metadata Sections and Properties in the file to document general metadata e.g. Species and Hardware\n",
    "sec_spec = f.create_section(name=\"species\")\n",
    "\n",
    "_ = sec_spec.create_property(name=\"name\", values_or_dtype=\"C.Elegans\")\n",
    "_ = sec_spec.create_property(name=\"strain\", values_or_dtype=\"N2\")\n",
    "_ = sec_spec.create_property(name=\"genetic_modification\", values_or_dtype=\"Pflp178GCaMP5k\")"
   ]
  },
  {
   "cell_type": "code",
   "execution_count": 28,
   "metadata": {},
   "outputs": [],
   "source": [
    "# Create metadata Sections specific to the DataArrays, document metadata specific to the raw data \n",
    "#  and connect them to the appropriate DataArrays.\n",
    "#  Where appropriate try to add units to the Property values via the \"property.unit\" method.\n",
    "sec_exp = f.create_section(name=\"experiments\")\n",
    "\n",
    "subsec_A = sec_exp.create_section(name=\"20121202W2_BAG\")"
   ]
  },
  {
   "cell_type": "code",
   "execution_count": 29,
   "metadata": {},
   "outputs": [],
   "source": [
    "_ = subsec_A.create_property(name=\"protocol\", values_or_dtype=\"cs01_shift 21-04-21\")\n",
    "_ = subsec_A.create_property(name=\"protocol_shift_times\", values_or_dtype=[110, 360, 150])\n",
    "_ = subsec_A.create_property(name=\"intensity\", values_or_dtype=\"4000/400\")\n",
    "\n",
    "da_A.metadata = subsec_A\n"
   ]
  },
  {
   "cell_type": "code",
   "execution_count": 31,
   "metadata": {},
   "outputs": [],
   "source": [
    "# Try to access the saved metadata from the DataArrays\n",
    "\n",
    "subsec_B = sec_exp.create_section(name=\"20121202W1_BAG\")\n",
    "_ = subsec_B.create_property(name=\"protocol\", values_or_dtype=\"cs01_shift 21-04-21\")\n",
    "_ = subsec_B.create_property(name=\"protocol_shift_times\", values_or_dtype=[110, 360, 150])\n",
    "_ = subsec_B.create_property(name=\"intensity\", values_or_dtype=\"4000/500\")\n",
    "\n",
    "da_B.metadata = subsec_B\n",
    "\n",
    "subsec_C = sec_exp.create_section(name=\"20121205W4_BAG\")\n",
    "_ = subsec_C.create_property(name=\"protocol\", values_or_dtype=\"cs01_shift 21-04-21\")\n",
    "_ = subsec_C.create_property(name=\"protocol_shift_times\", values_or_dtype=[110, 360, 150])\n",
    "_ = subsec_C.create_property(name=\"intensity\", values_or_dtype=\"6200/500\")\n",
    "\n",
    "da_C.metadata = subsec_C\n"
   ]
  },
  {
   "cell_type": "code",
   "execution_count": 36,
   "metadata": {},
   "outputs": [],
   "source": [
    "p = da_C.metadata.props[\"protocol_shift_times\"]\n"
   ]
  },
  {
   "cell_type": "code",
   "execution_count": 37,
   "metadata": {},
   "outputs": [],
   "source": [
    "p.unit = \"[s]\""
   ]
  },
  {
   "cell_type": "code",
   "execution_count": null,
   "metadata": {},
   "outputs": [],
   "source": [
    "# Use a MultiTag to connect all three DataArrays via a common region of interest\n",
    "#  e.g. using the experiments' stimulus protocol oxygen upshift from t1 110s to t2 470s\n",
    "#  or define your own region of interest. You will need an additional DataArray providing \n",
    "#  this region of interest. Connect the three DataArrays to the MultiTag after it has been\n",
    "#  created.\n"
   ]
  }
 ],
 "metadata": {
  "kernelspec": {
   "display_name": "Python 3",
   "language": "python",
   "name": "python3"
  },
  "language_info": {
   "codemirror_mode": {
    "name": "ipython",
    "version": 3
   },
   "file_extension": ".py",
   "mimetype": "text/x-python",
   "name": "python",
   "nbconvert_exporter": "python",
   "pygments_lexer": "ipython3",
   "version": "3.8.1"
  }
 },
 "nbformat": 4,
 "nbformat_minor": 4
}
