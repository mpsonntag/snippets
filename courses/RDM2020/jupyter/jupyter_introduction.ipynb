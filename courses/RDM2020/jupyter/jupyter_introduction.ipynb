{
 "cells": [
  {
   "cell_type": "markdown",
   "metadata": {
    "slideshow": {
     "slide_type": "slide"
    }
   },
   "source": [
    "### Research Data Management in Neuroscience\n",
    "\n",
    "# An introduction to Jupyter notebooks\n",
    "\n",
    "\n",
    "                                    Michael Sonntag\n",
    "\n",
    "                                    Department Biologie II\n",
    "                                    Ludwig-Maximilians-Universität München\n",
    "\n",
    "                                    Friday, 26 June, 2020\n",
    "\n",
    "\n",
    "![G-Node-logo.png](./G-Node-logo.png)"
   ]
  },
  {
   "cell_type": "markdown",
   "metadata": {
    "slideshow": {
     "slide_type": "slide"
    }
   },
   "source": [
    "## Overview of Jupyter notebook qualities\n",
    "- reconcile code and documentation using the browser\n",
    "  - like a labbook for code and plots\n",
    "  - easy to view and hand over\n"
   ]
  },
  {
   "cell_type": "markdown",
   "metadata": {
    "slideshow": {
     "slide_type": "fragment"
    }
   },
   "source": [
    "- can be used with different scripting languages\n",
    "  - Python\n",
    "  - R\n",
    "  - (Matlab)\n"
   ]
  },
  {
   "cell_type": "markdown",
   "metadata": {
    "slideshow": {
     "slide_type": "fragment"
    }
   },
   "source": [
    "- has tools built around it\n",
    "  - can be used for presentations\n",
    "  - can be shared and read online using nbviewer\n",
    "  - can be shared, run and modified online using binder\n"
   ]
  },
  {
   "cell_type": "markdown",
   "metadata": {
    "slideshow": {
     "slide_type": "fragment"
    }
   },
   "source": [
    "\n",
    "Find a short introduction at \n",
    "- https://nbviewer.jupyter.org/github/jupyter/notebook/blob/master/docs/source/examples/Notebook/Notebook%20Basics.ipynb\n"
   ]
  },
  {
   "cell_type": "markdown",
   "metadata": {
    "slideshow": {
     "slide_type": "slide"
    }
   },
   "source": [
    "# Detour 1: Package managers and virtual environments\n",
    "\n",
    "A package manager\n",
    "- keeps track of installed software packages\n",
    "- provides a list of available software packages\n",
    "- enables a user to install available software packages from available off-site repositories\n",
    "- different ones exist for OS system packages or programming language libraries\n"
   ]
  },
  {
   "cell_type": "markdown",
   "metadata": {
    "slideshow": {
     "slide_type": "fragment"
    }
   },
   "source": [
    "\n",
    "A virtual environment\n",
    "- is a tool that keeps software packages separate from the operating system.\n",
    "- can be used to install different versions of the same software.\n",
    "- can be used to document and re-create and share an analysis environment.\n"
   ]
  },
  {
   "cell_type": "markdown",
   "metadata": {
    "slideshow": {
     "slide_type": "fragment"
    }
   },
   "source": [
    "(Ana)Conda is a cross platform (Linux, macOS, Windows) package manager and a virtual environment."
   ]
  },
  {
   "cell_type": "markdown",
   "metadata": {
    "slideshow": {
     "slide_type": "slide"
    }
   },
   "source": [
    "## Conda installation and resources\n",
    "\n",
    "Installation files and instructions\n",
    "- https://docs.conda.io/en/latest/miniconda.html\n",
    "\n",
    "20 minute introduction to conda\n",
    "- https://conda.io/projects/conda/en/latest/user-guide/getting-started.html\n",
    "\n",
    "Conda commands cheat sheet\n",
    "- https://docs.conda.io/projects/conda/en/latest/_downloads/843d9e0198f2a193a3484886fa28163c/conda-cheatsheet.pdf\n"
   ]
  },
  {
   "cell_type": "markdown",
   "metadata": {
    "slideshow": {
     "slide_type": "slide"
    }
   },
   "source": [
    "## Working with conda - essential commands I\n",
    "- open a terminal\n",
    "- create a new conda virtual environment\n",
    "\n",
    "        conda create -n [env_name] python=3.8\n",
    "\n",
    "- activate the environment; Operating System (OS) software packages are no longer available\n",
    "\n",
    "        conda activate [env_name]\n",
    "\n",
    "- install software packages using the conda package manager; will be installed into the active environment only\n",
    "\n",
    "        conda install [library]\n",
    "\n",
    "- install python packages using pip; when using pip, it will be installed into the active environment only\n",
    "\n",
    "        pip install [library]\n"
   ]
  },
  {
   "cell_type": "markdown",
   "metadata": {
    "slideshow": {
     "slide_type": "slide"
    }
   },
   "source": [
    "## Working with conda - essential commands II\n",
    "\n",
    "- deactivate an active environment; the installed packages are no longer available. The OS packages are now available again.\n",
    "\n",
    "        conda deactivate\n",
    "\n",
    "- delete an environment with all installed software packages\n",
    "\n",
    "        conda remove -n [env_name] --all\n"
   ]
  },
  {
   "cell_type": "markdown",
   "metadata": {
    "slideshow": {
     "slide_type": "slide"
    }
   },
   "source": [
    "## Conda pitfalls and issues\n",
    "\n",
    "### Installing into the base conda installation\n",
    "\n",
    "- Do not use `conda activate`.\n",
    "- Immediately do `conda deactivate`.\n",
    "- Otherwise the installation of conda will be affected and can become unusable.\n",
    "\n",
    "### Conda terminal in Windows\n",
    "- Start menu; search for and open \"Anaconda Prompt\"\n",
    "\n",
    "### Conda and the Windows directory path issue\n",
    "Python/Conda known issue on Windows: whitespaces in directory paths\n",
    "- https://github.com/conda/conda/issues/8725\n",
    "- https://docs.anaconda.com/anaconda/user-guide/faq/\n",
    "\n",
    "                \"\n",
    "                In what folder should I install Anaconda on Windows?\n",
    "\n",
    "                We recommend installing Anaconda or Miniconda into a directory that\n",
    "                - contains only 7-bit ASCII characters and no spaces, such as C:\\anaconda.\n",
    "                - Do not install into paths that contain spaces such as C:\\Program Files or \n",
    "                    include Unicode characters.\n",
    "                \"\n",
    "\n",
    "Anaconda claims that they are compliant, but that third party packages that will be installed might not be compliant."
   ]
  },
  {
   "cell_type": "markdown",
   "metadata": {
    "slideshow": {
     "slide_type": "slide"
    }
   },
   "source": [
    "# Finally: Jupyter notebooks\n",
    "\n",
    "\"Project Jupyter exists to develop open-source software, open-standards, and services for interactive computing across dozens of programming languages.\"\n",
    "\n",
    "                                                        https://jupyter.org/\n",
    "\n",
    "\n",
    "- all Jupyter notebooks require a Python installation\n",
    "- Python is the default scripting language in Jupyter notebooks\n"
   ]
  },
  {
   "cell_type": "markdown",
   "metadata": {
    "slideshow": {
     "slide_type": "slide"
    }
   },
   "source": [
    "## Detour 2: Introduction to Python\n",
    "\n",
    "Not by this course\n",
    "\n",
    "Here are three links to lessons tailored for scientists; can each be done in 1/2 - 1 day:\n",
    "- https://swcarpentry.github.io/python-novice-inflammation\n",
    "- https://swcarpentry.github.io/python-novice-gapminder\n",
    "- https://datacarpentry.org/python-ecology-lesson\n",
    "\n",
    "They include\n",
    "- Python essentials: very basics, functions, exceptions, debugging\n",
    "- Data loading, handling and plotting\n",
    "- Libraries for Data handling"
   ]
  },
  {
   "cell_type": "markdown",
   "metadata": {
    "slideshow": {
     "slide_type": "slide"
    }
   },
   "source": [
    "### Useful Python Libraries\n",
    "\n",
    "The most important Datascience packages and how they can be installed\n",
    "\n",
    "    pip install jupyter\n",
    "    pip install ipython\n",
    "    pip install numpy\n",
    "    pip install matplotlib\n"
   ]
  },
  {
   "cell_type": "markdown",
   "metadata": {
    "slideshow": {
     "slide_type": "slide"
    }
   },
   "source": [
    "## Installation example of Jupyter in a conda environment I\n",
    "\n",
    "- open a (conda) terminal\n",
    "- create the python conda environment\n",
    "\n",
    "        conda create -n jnb-py38 python=3.8 -y\n",
    "\n",
    "- activate the environment\n",
    "\n",
    "        conda activate jnb-py38\n",
    "\n",
    "- install jupyter into the active conda environment\n",
    "\n",
    "        pip install jupyter\n",
    "\n",
    "- navigate to a directory on you operating system where you want to save files or have datafiles you want to use\n",
    "\n",
    "        cd [path/to/working/directory]\n",
    "\n",
    "- open jupyter\n",
    "\n",
    "        jupyter notebook"
   ]
  },
  {
   "cell_type": "markdown",
   "metadata": {
    "slideshow": {
     "slide_type": "slide"
    }
   },
   "source": [
    "## Installation example of Jupyter in a conda environment II\n",
    "\n",
    "\n",
    "- automatic switch to the browser\n",
    "- select `New -> Notebook: Python3`\n",
    "- opens another tab with an unsaved notebook\n",
    "- save the notebook under a name\n",
    "\n",
    "- to close a notebook, switch to the terminal\n",
    "- press `ctrl+C` (`⌘+C` on macOS)\n",
    "\n",
    "- you can directly start an existing notebook from the command line\n",
    "\n",
    "\n",
    "    jupyter notebook [file_name.ipynb]\n"
   ]
  },
  {
   "cell_type": "markdown",
   "metadata": {
    "slideshow": {
     "slide_type": "slide"
    }
   },
   "source": [
    "## Using Jupyter notebook\n",
    "\n",
    "Check the reference for FAQs and details\n",
    "- https://jupyter-notebook.readthedocs.io\n",
    "\n",
    "Find a quick tutorial about the basic features here\n",
    "- https://realpython.com/jupyter-notebook-introduction\n",
    "\n",
    "Jupyter cells for notes use a specific flavor of markdown (see Lecture05)\n",
    "- https://jupyter-notebook.readthedocs.io/en/stable/examples/Notebook/Working%20With%20Markdown%20Cells.html\n"
   ]
  },
  {
   "cell_type": "markdown",
   "metadata": {
    "slideshow": {
     "slide_type": "slide"
    }
   },
   "source": [
    "## Make your life easier\n",
    "### Use keyboard shortcuts\n",
    "\n",
    "The running notebook provides a full list of available shortcuts via the notebook menu:\n",
    "\n",
    "    `Help` -> `Keyboard Shortcuts`\n",
    "\n",
    "You can find a reference here\n",
    "- https://jupyter-notebook.readthedocs.io/en/stable/notebook.html?highlight=shortcuts#keyboard-shortcuts\n",
    "\n",
    "Nice rundown also comparing across OS platforms can be found here\n",
    "- https://towardsdatascience.com/jypyter-notebook-shortcuts-bf0101a98330\n"
   ]
  },
  {
   "cell_type": "markdown",
   "metadata": {
    "slideshow": {
     "slide_type": "slide"
    }
   },
   "source": [
    "### Use magic methods\n",
    "\n",
    "Jupyter specific magic methods (subset of Python magic)\n",
    "\n",
    "                       \"IPython has a system of commands we call 'magics' that provide \n",
    "                        a mini command language ... and is extensible by the user with new commands.\"\n",
    "\n",
    "- https://nbviewer.jupyter.org/github/ipython/ipython/blob/6.x/examples/IPython%20Kernel/Cell%20Magics.ipynb\n",
    "\n",
    "Python magic methods\n",
    "- https://ipython.readthedocs.io/en/stable/interactive/magics.html\n",
    "\n",
    "This is the full set of magic methods; Jupyter magic methods do not fully support all Python magic methods.\n"
   ]
  },
  {
   "cell_type": "markdown",
   "metadata": {
    "slideshow": {
     "slide_type": "slide"
    }
   },
   "source": [
    "### Use widgets with your code\n",
    "\n",
    "Interactive plots in Jupyter notebooks\n",
    "- https://www.mikulskibartosz.name/interactive-plots-in-jupyter-notebook/\n",
    "\n",
    "Interactive elements - sliders, dropdowns, textfields\n",
    "- https://ipywidgets.readthedocs.io/en/latest/index.html\n"
   ]
  },
  {
   "cell_type": "markdown",
   "metadata": {
    "slideshow": {
     "slide_type": "slide"
    }
   },
   "source": [
    "We'll now do a quick feature glimpse on a live Jupyter notebook."
   ]
  },
  {
   "cell_type": "markdown",
   "metadata": {
    "slideshow": {
     "slide_type": "fragment"
    }
   },
   "source": [
    "You can also check out this curated lust of published notebooks to get an idea what you can actually do with it.\n",
    "\n",
    "https://github.com/jupyter/jupyter/wiki/A-gallery-of-interesting-Jupyter-Notebooks\n",
    "\n",
    "Two interesting examples from the neuroscientific field:\n",
    "- https://nbviewer.jupyter.org/github/arokem/teach_optimization/blob/master/optimization.ipynb\n",
    "- https://nbviewer.jupyter.org/github/wtadler/cue-combination-with-neurons/blob/master/neural_cue_combination.ipynb"
   ]
  },
  {
   "cell_type": "markdown",
   "metadata": {
    "slideshow": {
     "slide_type": "slide"
    }
   },
   "source": [
    "## Use Jupyter notebooks as presentations\n",
    "\n",
    "- In a running notebook select from the menu bar:\n",
    "\n",
    "        `View` -> `Cell toolbar` -> `Slideshow`\n",
    "\n",
    "- You can now select how each cell should appear in a presentation.\n",
    "\n",
    "- After you have saved your notebook and closed Jupyter, restart Jupyter as a presentation tool:\n",
    "\n",
    "        jupyter nbconvert [file_name.ipynb] --to slides --post serve\n",
    "\n",
    "- When running the jupyter notebook, it will create a `[file_name].slides.html` file which can be used in presentations as well.\n",
    "- Use the following command to create a static html page.\n",
    "\n",
    "        jupyter nbconvert --to html BIDS_introduction.ipynb\n",
    "\n",
    "- This HTML file can be converted to a PDF and used as a handout.\n",
    "\n"
   ]
  },
  {
   "cell_type": "markdown",
   "metadata": {
    "slideshow": {
     "slide_type": "slide"
    }
   },
   "source": [
    "## Additional features when publishing notebooks\n",
    "\n",
    "Uploading Jupyter notebooks to public git repositories gives access to additional tools\n",
    "\n",
    "- can be published on any online git repository e.g. github, gitlab, gin ...\n",
    "\n",
    "- online browsing of published Jupyter notebooks content via `NBViewer`\n",
    "  - https://nbviewer.jupyter.org\n",
    "  - e.g. https://nbviewer.jupyter.org/github/arokem/teach_optimization/blob/master/optimization.ipynb\n",
    "\n",
    "- online editing and sharing of published Jupyter notebooks via `Binder`\n"
   ]
  },
  {
   "cell_type": "markdown",
   "metadata": {
    "slideshow": {
     "slide_type": "slide"
    }
   },
   "source": [
    "# Binder\n",
    "\n",
    "Binder is a free service that enables to run a published Jupyter notebook on a remote service machine.\n",
    "- minimal set up required\n",
    "- run full Jupyter notebooks remote - no local installation required\n",
    "\n",
    "The full documentation in how to properly use Binder can be found at\n",
    "- https://mybinder.readthedocs.io/en/latest\n",
    "\n",
    "You can find minimal examples how to set up a repository for use with Binder for Python and R at\n",
    "- https://github.com/binder-examples\n",
    "\n",
    "We will do a very quick introduction into how to set up and use Python and R Binder notebooks.\n"
   ]
  },
  {
   "cell_type": "markdown",
   "metadata": {
    "slideshow": {
     "slide_type": "slide"
    }
   },
   "source": [
    "## Empty Binder set up for Python Jupyter notebooks I\n",
    "\n",
    "- Prepare an empty, public git repository\n",
    "- To start a Python Jupyter notebook via Binder you need to provide two files at the root of the repository.\n",
    "    - `runtime.txt` ... this file contains the Python version that will be used for any Notebook started by this repository. It contains only one entry:\n",
    "\n",
    "            python-3.8\n",
    "    - `requirements.txt` ... this file contains the Python packages that will be installed when the container starts. In our example we will install the following python packages:\n",
    "\n",
    "\n",
    "            numpy\n",
    "            matplotlib\n",
    "            nixio==1.5.0b4\n",
    "\n",
    "- Commit and upload these files to the public git repository\n",
    "- Check the lecture repo for an example:\n",
    "  - https://gin.g-node.org/RDMcourse2020/Lectures/src/master/Lecture06\n"
   ]
  },
  {
   "cell_type": "markdown",
   "metadata": {
    "slideshow": {
     "slide_type": "slide"
    }
   },
   "source": [
    "## Empty Binder set up for Python Jupyter notebooks II\n",
    "\n",
    "- Go to https://mybinder.org/\n",
    "- Select `Git repository` and paste the URL of the repository e.g. https://gin.g-node.org/msonntag/demo\n",
    "- Select `Launch`; it can take some time until the environment is ready for use.\n",
    "- You can now create a new notebook vie the menu `New -> Notebook: Python3`.\n",
    "- A new tab will open and you can save it under a new name - this will still be on the remote machine.\n",
    "- Use the `Download` menu button fetch the notebook to your machine.\n",
    "- You can now work on this notebook as you would locally.\n"
   ]
  },
  {
   "cell_type": "markdown",
   "metadata": {
    "slideshow": {
     "slide_type": "slide"
    }
   },
   "source": [
    "## Python Binder with an existing notebook\n",
    "\n",
    "- Set up a git repository with environment and Python dependencies\n",
    "- Upload an existing Jupyter notebook to this repo and any data files to be used in this notebook\n",
    "- Use https://mybinder.org to set up the repository information as before\n",
    "- Now also provide the file name of the uploaded Jupyter notebook and select `Launch`\n",
    "- Binder will now launch the notebook directly"
   ]
  },
  {
   "cell_type": "markdown",
   "metadata": {
    "slideshow": {
     "slide_type": "slide"
    }
   },
   "source": [
    "## Notes on Binder usage\n",
    "\n",
    "Binder is a free service\n",
    "- building a `container` (running environment) might take up to 20min the first time around.\n",
    "- takes longer the more dependencies are defined.\n",
    "- built containers are kept for a while - the next time the Binder container is used, the start up will take less time.\n"
   ]
  },
  {
   "cell_type": "markdown",
   "metadata": {
    "slideshow": {
     "slide_type": "fragment"
    }
   },
   "source": [
    "Binder is a cloud service; all files are remote\n",
    "- upload required dependencies and files to the git repository\n",
    "- upload required files to the running cloud service\n",
    "- save changes to your notebook in the cloud service AND download the notebook to your local machine\n",
    "- Binder will time out when there is inactivity - save OFTEN\n"
   ]
  },
  {
   "cell_type": "markdown",
   "metadata": {
    "slideshow": {
     "slide_type": "slide"
    }
   },
   "source": [
    "## Notes on Binder usage\n",
    "\n",
    "https://mybinder.org can provide a permanent link to public Binder compatible git repositories\n",
    "- you can run your notebook from anywhere\n",
    "- collaborators can easily run and try out your notebook as well"
   ]
  },
  {
   "cell_type": "markdown",
   "metadata": {
    "slideshow": {
     "slide_type": "fragment"
    }
   },
   "source": [
    "You can have multiple Jupyter notebooks in the same directory\n",
    "- all can have their own permanent links\n",
    "- all will share the same environment and dependencies"
   ]
  },
  {
   "cell_type": "markdown",
   "metadata": {
    "slideshow": {
     "slide_type": "slide"
    }
   },
   "source": [
    "# Jupyter and R\n",
    "\n",
    "## Full example of an R Jupyter notebook set up via conda\n",
    "\n",
    "- Required the additional installation of an `R kernel`\n",
    "- The `R kernel` enables the notebook to \"understand\" R syntax\n",
    "\n",
    "        conda create -n r-jnb-py38 python=3.8 -y\n",
    "        conda activate r-jnb-py38\n",
    "        conda install -c conda-forge jupyterlab -y\n",
    "        conda install -c r r-base -y\n",
    "        conda install -c r r-irkernel -y\n",
    "\n",
    "        jupyter notebook\n",
    "\n",
    "- From the menu select `New -> Notebook: R`\n"
   ]
  },
  {
   "cell_type": "markdown",
   "metadata": {
    "slideshow": {
     "slide_type": "slide"
    }
   },
   "source": [
    "## Additional resources to set up Jupyter with R\n",
    "\n",
    "Jupyter and R - setup and use\n",
    "- https://www.datacamp.com/community/blog/jupyter-notebook-r\n",
    "- https://datatofish.com/r-jupyter-notebook/\n",
    "- https://plotly.com/r/using-r-in-jupyter-notebooks/\n",
    "\n",
    "R maintains its own channel on conda and provides all libraries for conda environments\n",
    "- https://anaconda.org/r"
   ]
  },
  {
   "cell_type": "markdown",
   "metadata": {
    "slideshow": {
     "slide_type": "slide"
    }
   },
   "source": [
    "\n",
    "### Useful R libraries available via conda\n",
    "\n",
    "- `r-base`\n",
    "  - core R installation\n",
    "- `r-tidyverse`\n",
    "  - scientific data package collection\n",
    "  - https://tidyverse.tidyverse.org\n",
    "  - it contains\n",
    "    - ggplot2, for data visualisation.\n",
    "    - dplyr, for data manipulation.\n",
    "    - tidyr, for data tidying.\n",
    "    - readr, for data import.\n",
    "    - ...\n",
    "- Installation via conda\n",
    "\n",
    "        conda install -c r r-base\n",
    "        conda install -c r r-tidyverse"
   ]
  },
  {
   "cell_type": "markdown",
   "metadata": {
    "slideshow": {
     "slide_type": "slide"
    }
   },
   "source": [
    "## R Jupyter notebook with Binder set up example I \n",
    "\n",
    "- We again need a public git repository\n",
    "- This time we need to provide the YAML file `environment.yml` at the root of the repository.\n",
    "- It contains all `conda` packages that need to be installed to run the `R` Jupyter notebook in Binder.\n",
    "\n",
    "        channels:\n",
    "          - r\n",
    "        dependencies:\n",
    "          - r-base\n",
    "          - r-tidyverse\n",
    "\n",
    "- Upload the file to the public git repository"
   ]
  },
  {
   "cell_type": "markdown",
   "metadata": {
    "slideshow": {
     "slide_type": "slide"
    }
   },
   "source": [
    "## R Jupyter notebook with Binder set up example II\n",
    "- Go to https://mybinder.org/\n",
    "- Select `Git repository` and paste the URL of the repository e.g. https://gin.g-node.org/msonntag/demo\n",
    "- Select `launch`; it will now take a bit until the environment is created and ready for you to use.\n",
    "- You can now create a new notebook vie the menu `New -> Notebook: R`. Note, that we also still have the Python dependencies in the same repository. That is why we could also start a Python3 notebook as well.\n",
    "- A new tab will open with the Jupyter notebook. Note the `R` logo which denotes that we are working in an R Jupyter notebook.\n"
   ]
  },
  {
   "cell_type": "markdown",
   "metadata": {
    "slideshow": {
     "slide_type": "slide"
    }
   },
   "source": [
    "## Jupyter and Matlab\n",
    "\n",
    "Matlab - live editor and Matlab online\n",
    "- https://www.mathworks.com/products/matlab/live-editor.html\n",
    "- https://www.mathworks.com/products/matlab-online.html\n",
    "\n",
    "Matlab in Jupyter notebooks:\n",
    "- https://anneurai.net/2015/11/12/matlab-based-ipython-notebooks\n",
    "\n",
    "Matlab kernels for Jupyter notebooks\n",
    "- https://github.com/Calysto/matlab_kernel\n",
    "- https://github.com/imatlab/imatlab\n"
   ]
  },
  {
   "cell_type": "markdown",
   "metadata": {
    "slideshow": {
     "slide_type": "fragment"
    }
   },
   "source": [
    "## Publishing a Jupyter notebooks\n",
    "\n",
    "Course notes on Jupyter notebooks and good practice:\n",
    "- https://reproducible-science-curriculum.github.io/publication-RR-Jupyter/\n"
   ]
  }
 ],
 "metadata": {
  "celltoolbar": "Slideshow",
  "kernelspec": {
   "display_name": "Python 3",
   "language": "python",
   "name": "python3"
  },
  "language_info": {
   "codemirror_mode": {
    "name": "ipython",
    "version": 3
   },
   "file_extension": ".py",
   "mimetype": "text/x-python",
   "name": "python",
   "nbconvert_exporter": "python",
   "pygments_lexer": "ipython3",
   "version": "3.8.1"
  }
 },
 "nbformat": 4,
 "nbformat_minor": 4
}
