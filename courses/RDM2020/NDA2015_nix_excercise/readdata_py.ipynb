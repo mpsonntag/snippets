{
 "cells": [
  {
   "cell_type": "code",
   "execution_count": null,
   "metadata": {},
   "outputs": [],
   "source": [
    "import matplotlib.pyplot as plot\n",
    "import numpy as np\n",
    "\n",
    "import nixio as nix\n",
    "\n",
    "from utils.plotting import Plotter\n"
   ]
  },
  {
   "cell_type": "markdown",
   "metadata": {},
   "source": [
    "read data from file"
   ]
  },
  {
   "cell_type": "code",
   "execution_count": null,
   "metadata": {},
   "outputs": [],
   "source": [
    "nixf = nix.File.open(\"module2x.h5\", nix.FileMode.ReadOnly)\n"
   ]
  },
  {
   "cell_type": "code",
   "execution_count": null,
   "metadata": {},
   "outputs": [],
   "source": [
    "nixf.blocks\n"
   ]
  },
  {
   "cell_type": "markdown",
   "metadata": {},
   "source": [
    "get overview of file contents"
   ]
  },
  {
   "cell_type": "code",
   "execution_count": null,
   "metadata": {},
   "outputs": [],
   "source": [
    "for b in nixf.blocks:\n",
    "    tlst = list(filter(lambda x: x.type == \"nix.trial\", b.tags))\n",
    "    print('session %s: %d trials' % (b.name, len(tlst)))\n",
    "    for s in b.sources:\n",
    "        print('\\t'+s.name)\n"
   ]
  },
  {
   "cell_type": "markdown",
   "metadata": {},
   "source": [
    "select some data from one of the blocks"
   ]
  },
  {
   "cell_type": "code",
   "execution_count": null,
   "metadata": {},
   "outputs": [],
   "source": [
    "b108 = nixf.blocks[\"joe108\"]\n"
   ]
  },
  {
   "cell_type": "code",
   "execution_count": null,
   "metadata": {},
   "outputs": [],
   "source": [
    "b108.sources\n"
   ]
  },
  {
   "cell_type": "code",
   "execution_count": null,
   "metadata": {},
   "outputs": [],
   "source": [
    "dalst = list(filter(lambda x:\n",
    "               (\"SpikeActivity\" in x.name) &\n",
    "               (filter(lambda s: s.name == \"Unit 7\", x.sources) != []) &\n",
    "               (x.metadata['Target'] == 2) & \n",
    "               (x.metadata['BehavioralCondition'] == 3),\n",
    "               b108.data_arrays))\n"
   ]
  },
  {
   "cell_type": "code",
   "execution_count": null,
   "metadata": {},
   "outputs": [],
   "source": [
    "print(dalst)"
   ]
  },
  {
   "cell_type": "markdown",
   "metadata": {},
   "source": [
    "scatter"
   ]
  },
  {
   "cell_type": "code",
   "execution_count": null,
   "metadata": {},
   "outputs": [],
   "source": [
    "[tind, jind] = np.nonzero(dalst[0])\n",
    "plot.scatter(tind, jind);"
   ]
  },
  {
   "cell_type": "code",
   "execution_count": null,
   "metadata": {},
   "outputs": [],
   "source": [
    "spike_times = [da for da in b108.data_arrays if da.type == \"nix.spiketimes\"]\n",
    "\n",
    "plotter = Plotter(width=800, height=300,lines=1)\n",
    "plotter.add(spike_times[0], xlim=[0, 2000], color=\"red\")\n",
    "plotter.add(spike_times[1], xlim=[0, 2000], color=\"red\")\n",
    "plotter.add(spike_times[2], xlim=[0, 2000], color=\"red\")\n",
    "plotter.plot()\n"
   ]
  },
  {
   "cell_type": "code",
   "execution_count": null,
   "metadata": {},
   "outputs": [],
   "source": [
    "nixf.close()"
   ]
  },
  {
   "cell_type": "code",
   "execution_count": null,
   "metadata": {},
   "outputs": [],
   "source": []
  }
 ],
 "metadata": {
  "kernelspec": {
   "display_name": "Python 3",
   "language": "python",
   "name": "python3"
  },
  "language_info": {
   "codemirror_mode": {
    "name": "ipython",
    "version": 3
   },
   "file_extension": ".py",
   "mimetype": "text/x-python",
   "name": "python",
   "nbconvert_exporter": "python",
   "pygments_lexer": "ipython3",
   "version": "3.8.1"
  }
 },
 "nbformat": 4,
 "nbformat_minor": 1
}
