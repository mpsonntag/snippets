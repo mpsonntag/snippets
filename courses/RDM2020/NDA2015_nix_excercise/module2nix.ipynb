{
 "cells": [
  {
   "cell_type": "code",
   "execution_count": null,
   "metadata": {},
   "outputs": [],
   "source": [
    "import matplotlib.pyplot as plot\n",
    "import numpy as np\n",
    "\n",
    "import nixio as nix"
   ]
  },
  {
   "cell_type": "code",
   "execution_count": null,
   "metadata": {},
   "outputs": [],
   "source": [
    "nixf = nix.File.open(\"module2x.h5\", nix.FileMode.Overwrite)"
   ]
  },
  {
   "cell_type": "code",
   "execution_count": null,
   "metadata": {},
   "outputs": [],
   "source": [
    "b097 = nixf.create_block(\"joe097\", \"nix.session\")\n",
    "b108 = nixf.create_block(\"joe108\", \"nix.session\")\n",
    "b147 = nixf.create_block(\"joe147\", \"nix.session\")\n",
    "b151 = nixf.create_block(\"joe151\", \"nix.session\")\n"
   ]
  },
  {
   "cell_type": "markdown",
   "metadata": {},
   "source": [
    "Metadata"
   ]
  },
  {
   "cell_type": "code",
   "execution_count": null,
   "metadata": {},
   "outputs": [],
   "source": [
    "m_gen = nixf.create_section(\"General\",\"odml.general\")\n",
    "m_gen.create_property(\"Experimenter\", values_or_dtype='Alexa Riehle')\n",
    "m_gen.create_property(\"Institution\", values_or_dtype='CNRS, Marseille, France')\n",
    "m_gen.create_property(\"RelatedPublications\", values_or_dtype='doi: 10.1523/JNEUROSCI.5441-08.2009')\n",
    "\n",
    "m_exp = nixf.create_section(\"Experiment\",\"odml.experiment\")\n",
    "m_exp.create_property(\"Task\", values_or_dtype='DelayedCenterOut')\n",
    "m_subj = m_exp.create_section(\"Subject\",\"odml.subject\")\n",
    "m_subj.create_property(\"Name\", values_or_dtype='Joe')\n",
    "m_subj.create_property(\"Species\", values_or_dtype='Macaca mulatta')\n",
    "m_subj.create_property(\"Sex\", values_or_dtype='male')\n",
    "m_rec = m_exp.create_section(\"Recording\",\"odml.recording\")\n",
    "m_rec.create_property(\"BrainArea\", values_or_dtype='M1')\n",
    "m_rec.create_property(\"RecordingType\", values_or_dtype='extracellular')\n",
    "m_rec.create_property(\"SpikeSortingMethod\", values_or_dtype='WindowDiscriminator')\n",
    "\n",
    "# trial conditions:\n",
    "condnames = {1 : \"full\", 2 : \"2 of 6\", 3 : \"3 of 6\"}\n",
    "m_cond = m_exp.create_section(\"TrialConditions\",\"odml.conditions\")\n",
    "def mkcond(cond, target):\n",
    "    condname = \"condition %d target %d\" % (cond,target)\n",
    "    sec = m_cond.create_section(condname, \"odml.section\")\n",
    "    sec.create_property(\"BehavioralCondition\", values_or_dtype=cond)\n",
    "    sec.create_property(\"BehavioralConditionName\", values_or_dtype=condnames[cond])\n",
    "    sec.create_property(\"Target\", values_or_dtype=target)\n",
    "\n",
    "    return sec\n",
    "\n",
    "m_infiles = {\"joe097\":\"joe097-23457.gdf\", \"joe108\":\"joe108-124567.gdf\", \"joe147\":\"joe147-12467.gdf\", \"joe151\":\"joe151-12346.gdf\"}\n",
    "#m_mlfiles = {\"joe097\":\"joe097-5-C3-MO.mat\", \"joe108\":\"joe108-4-C3-MO.mat\", \"joe147\":\"\", \"joe151\":\"\"}\n",
    "\n",
    "m_conds = [[mkcond(c,t) for t in range(1,7) ] for c in range(1,4) ]\n",
    "\n",
    "m_sess = nixf.create_section(\"Sessions\",\"odml.section\")\n",
    "for sess in [\"joe097\", \"joe108\", \"joe147\", \"joe151\" ]:\n",
    "    m_s1 = m_sess.create_section(sess,\"odml.session\")\n",
    "    m_s1id = m_s1.create_property(\"SessionID\", values_or_dtype=sess)\n",
    "    m_s1infile = m_s1.create_property(\"InputFile\", values_or_dtype=m_infiles[sess])\n",
    "    m_s1subject = m_s1.create_section(\"Subject\",\"odml.subject\")\n",
    "    m_s1subject.link = m_s1subject\n",
    "    m_s1conds = m_s1.create_section(\"TrialConditions\",\"odml.conditions\")\n",
    "    m_s1conds.link = m_cond\n"
   ]
  },
  {
   "cell_type": "code",
   "execution_count": null,
   "metadata": {},
   "outputs": [],
   "source": [
    "def mkunit(sblock,unitid):\n",
    "    print(sblock.name)\n",
    "    # create single unit\n",
    "    su = sblock.create_source(\"Unit %d\" % (unitid), \"nix.ephys.unit\")\n",
    "    su.definition = \"Single unit\"\n",
    "    # count trials as they appear\n",
    "    trialcnt = 0\n",
    "    # read all data\n",
    "    for target in range(1, 7):\n",
    "        # load spike matrix\n",
    "        smxdata = np.loadtxt('asciidata/%s-%d-C3-MO_spikematrix_%02d.dat' % (sblock.name,unitid,target), dtype=int)\n",
    "        # load motion end times\n",
    "        medata = np.loadtxt('asciidata/%s-%d-C3-MO_MEevents_%02d.dat' % (sblock.name,unitid,target), dtype=float)\n",
    "        medata = medata - 1000. # motion end time is stored as array index, so subtract the time offset\n",
    "        # load trial start times\n",
    "        tsdata = np.loadtxt('asciidata/%s-%d-C3-TS_MOevents_%02d.dat' % (sblock.name,unitid,target), dtype=float)\n",
    "        tsdata = -tsdata # calculate trial start relative to motion from MO time in TS-aligned data\n",
    "        # load spike times\n",
    "        stf = open('asciidata/%s-%d-C3-MO_spiketrains_%02d.dat' % (sblock.name,unitid,target), 'r')\n",
    "        stdata = []\n",
    "        for line in stf:\n",
    "            st = [int(i)-1000 for i in line.split()] # shift by -1000 ms for alignment to MO\n",
    "            stdata.append(st)\n",
    "        stf.close()\n",
    "        #_for line\n",
    "        #\n",
    "        # data array of all trials with this target; time dim first, as in Jans data\n",
    "        spikeactivity = sblock.create_data_array(\"SpikeActivity Unit %d Target %d\" % (unitid,target),\"nix.timeseries.binary\",data=smxdata.T)\n",
    "        spikeactivity.definition = \"Array of spike occurrences aligned to movement onset (MO)\"\n",
    "        sa_dim1 = spikeactivity.append_sampled_dimension(1.) # 1 ms sampling interval\n",
    "        sa_dim1.offset = -1000. # data aligned to MO\n",
    "        sa_dim1.unit = \"ms\"\n",
    "        sa_dim1.label = \"time\"\n",
    "        sa_dim2 = spikeactivity.append_set_dimension() # trials\n",
    "        sa_dim1.label = \"trial\"\n",
    "        spikeactivity.sources.append(su)\n",
    "        # mov tag\n",
    "        # this is not so great because the need to define the positions an extents as dataarrays,\n",
    "        # so stick to the movement epochs as tags for each trial\n",
    "        #movtag = filter(lambda x: x.name == \"Arm movement epochs for Target %d\" % (target), sblock.multi_tags )\n",
    "        #if not movtag:\n",
    "        #    MOlst = sblock.create_data_array(\"MO times for Target %d\" % (target), \"nix.positions\", data=[[0.0,tr] for tr in range(0,smxdata.shape[0])])\n",
    "        #    MOdim1 = MOlst.append_sampled_dimension(1.)\n",
    "        #    MOdim1.unit = \"ms\"\n",
    "        #    MOdim1.label = \"time\"\n",
    "        #    MOdim2 = MOlst.append_set_dimension()\n",
    "        #    MOdim2.label = \"trial\"\n",
    "        #    MElst = sblock.create_data_array(\"Movement durations for Target %d\" % (target), \"nix.positions\", data=[[medata[tr],0] for tr in range(0,smxdata.shape[0])])\n",
    "        #    MEdim1 = MElst.append_sampled_dimension(1.)\n",
    "        #    MEdim1.unit = \"ms\"\n",
    "        #    MEdim1.label = \"time\"\n",
    "        #    MEdim2 = MElst.append_set_dimension()\n",
    "        #    MEdim2.label = \"trial\"\n",
    "        #    mov = sblock.create_multi_tag(\"Arm movement epochs for Target %d\" % (target), \"nix.epoch\", MOlst)\n",
    "        #    mov.definition = \"Epochs between detected movement onset (MO) and movement end (ME)\"\n",
    "        #    mov.extents = MElst\n",
    "        #    mov.units = [\"ms\",]\n",
    "        #else:\n",
    "        #    mov = movtag[0]\n",
    "        #mov.references.append(spikeactivity)\n",
    "        #~~~~\n",
    "        # loop over all trials for this target\n",
    "        for tr in range(0,smxdata.shape[0]):\n",
    "            trialcnt += 1\n",
    "            #spikeactivity = sblock.create_data_array(\"SpikeActivity Unit %d Trial %03d\" % (unitid,trialcnt),\"nix.timeseries.binary\",data=smxdata[tr])\n",
    "            #spikeactivity.definition = \"Array of spike occurrences aligned to movement onset (MO)\" \n",
    "            #sa_dim.offset = -1000. # data aligned to MO\n",
    "            #sa_dim.unit = \"ms\"\n",
    "            #sa_dim.label = \"time\"\n",
    "            # array of spike times\n",
    "            spiketimes = sblock.create_data_array(\"SpikeTimes Unit %d Trial %03d\" % (unitid,trialcnt),\"nix.spiketimes\",data=stdata[tr])\n",
    "            spiketimes.definition = \"Spike times aligned to movement onset (MO)\"\n",
    "            spiketimes.append_set_dimension()\n",
    "            spiketimes.unit = \"ms\"\n",
    "            spiketimes.label = \"spikes\"\n",
    "            # spike train as multitag\n",
    "            #spikepos = [[x,tr] for x in stdata[tr]]\n",
    "            #spiketrain = sblock.create_multi_tag(\"Spiketrain Unit %d Trial %03d\" % (unitid,trialcnt), \"nix.spiketrain\",spikepos)\n",
    "            #spiketrain.definition = \"Spike times aligned to movement onset (MO)\"\n",
    "            #spiketrain.references.append(spikeactivity)\n",
    "            # assign sources\n",
    "            spiketimes.sources.append(su)\n",
    "            #spiketrain.sources.append(su)\n",
    "            # assign metadata\n",
    "            spikeactivity.metadata = m_conds[2][target-1] # so far all data are 'C3' -> index 2 in conds\n",
    "            spiketimes.metadata = m_conds[2][target-1]\n",
    "            # trial as tag\n",
    "            trialtag = list(filter(lambda x: x.name == \"Trial %03d\" % (trialcnt), sblock.tags ))\n",
    "            if not trialtag:\n",
    "                trial = sblock.create_tag(\"Trial %03d\" % (trialcnt), \"nix.trial\",[tsdata[tr],tr])\n",
    "                trial.definition = \"Trial start (TS) relative to motion onset (MO)\"\n",
    "                trial.extent = [3000.,0] # trial length of 3000ms is arbitrary\n",
    "                trial.units = [\"ms\"]\n",
    "                trial.metadata = m_conds[2][target-1]\n",
    "            else:\n",
    "                trial = trialtag[0]\n",
    "            \n",
    "            trial.references.append(spikeactivity)\n",
    "            # arm movement period as tag\n",
    "            movtag = list(filter(lambda x: x.name == \"Arm movement epoch Trial %03d\" % (trialcnt), sblock.tags ))\n",
    "            if not movtag:\n",
    "                mov = sblock.create_tag(\"Arm movement epoch Trial %03d\" % (trialcnt), \"nix.epoch\",[0.0,tr])\n",
    "                mov.definition = \"Epoch between detected movement onset (MO) and movement end (ME)\"\n",
    "                mov.extent = [medata[tr],0] # because motion onset is at 0.0, duration is equal to end time\n",
    "                mov.units = [\"ms\",]\n",
    "            else:\n",
    "                mov = movtag[0]\n",
    "            mov.references.append(spikeactivity)\n",
    "        #_for tr\n",
    "    #_for target\n",
    "#_def mkunit\n"
   ]
  },
  {
   "cell_type": "code",
   "execution_count": null,
   "metadata": {},
   "outputs": [],
   "source": [
    "mkunit(b097, 5)\n",
    "mkunit(b108, 4)\n",
    "mkunit(b108, 7)\n",
    "mkunit(b147, 1)\n",
    "mkunit(b151, 1)\n"
   ]
  },
  {
   "cell_type": "code",
   "execution_count": null,
   "metadata": {},
   "outputs": [],
   "source": [
    "nixf.close()"
   ]
  },
  {
   "cell_type": "markdown",
   "metadata": {},
   "source": [
    "read data from file"
   ]
  },
  {
   "cell_type": "code",
   "execution_count": null,
   "metadata": {},
   "outputs": [],
   "source": [
    "nixf = nix.File.open(\"module2x.h5\", nix.FileMode.ReadOnly)"
   ]
  },
  {
   "cell_type": "code",
   "execution_count": null,
   "metadata": {},
   "outputs": [],
   "source": [
    "nixf.blocks"
   ]
  },
  {
   "cell_type": "markdown",
   "metadata": {},
   "source": [
    "get overview of file contents"
   ]
  },
  {
   "cell_type": "code",
   "execution_count": null,
   "metadata": {},
   "outputs": [],
   "source": [
    "for b in nixf.blocks:\n",
    "    tlst = list(filter( lambda x : x.type == \"nix.trial\", b.tags))\n",
    "    print('%s: %d trials' % (b.name,len(tlst)))\n",
    "    for s in b.sources:\n",
    "        print('\\t%s ' % s.name)\n"
   ]
  },
  {
   "cell_type": "markdown",
   "metadata": {},
   "source": [
    "select some data from one of the blocks"
   ]
  },
  {
   "cell_type": "code",
   "execution_count": null,
   "metadata": {},
   "outputs": [],
   "source": [
    "b108 = nixf.blocks[\"joe108\"]"
   ]
  },
  {
   "cell_type": "code",
   "execution_count": null,
   "metadata": {},
   "outputs": [],
   "source": [
    "b108.sources"
   ]
  },
  {
   "cell_type": "code",
   "execution_count": null,
   "metadata": {},
   "outputs": [],
   "source": [
    "dalst = filter(lambda x: \n",
    "               (\"SpikeActivity\" in x.name) &\n",
    "               (filter(lambda s: s.name == \"Unit 7\", x.sources) != []) & \n",
    "               (x.metadata['Target'] == 2) & \n",
    "               (x.metadata['BehavioralCondition'] == 3),\n",
    "               b108.data_arrays)\n",
    "dalst = list(dalst)"
   ]
  },
  {
   "cell_type": "code",
   "execution_count": null,
   "metadata": {},
   "outputs": [],
   "source": [
    "print(dalst)"
   ]
  },
  {
   "cell_type": "code",
   "execution_count": null,
   "metadata": {},
   "outputs": [],
   "source": [
    "len(dalst)"
   ]
  },
  {
   "cell_type": "code",
   "execution_count": null,
   "metadata": {},
   "outputs": [],
   "source": [
    "dalst[0].shape"
   ]
  },
  {
   "cell_type": "code",
   "execution_count": null,
   "metadata": {},
   "outputs": [],
   "source": [
    "spikedata = dalst[0]"
   ]
  },
  {
   "cell_type": "code",
   "execution_count": null,
   "metadata": {},
   "outputs": [],
   "source": [
    "spikedata.shape"
   ]
  },
  {
   "cell_type": "code",
   "execution_count": null,
   "metadata": {},
   "outputs": [],
   "source": [
    "yyy = np.nonzero(spikedata)"
   ]
  },
  {
   "cell_type": "code",
   "execution_count": null,
   "metadata": {},
   "outputs": [],
   "source": [
    "[tind,jind] = np.nonzero(spikedata)"
   ]
  },
  {
   "cell_type": "code",
   "execution_count": null,
   "metadata": {},
   "outputs": [],
   "source": [
    "plot.scatter(tind, jind)"
   ]
  },
  {
   "cell_type": "code",
   "execution_count": null,
   "metadata": {},
   "outputs": [],
   "source": [
    "[jbla, tbla] = np.nonzero(np.array(spikedata).T)"
   ]
  },
  {
   "cell_type": "code",
   "execution_count": null,
   "metadata": {},
   "outputs": [],
   "source": [
    "plot.scatter(tbla, jbla)"
   ]
  },
  {
   "cell_type": "code",
   "execution_count": null,
   "metadata": {},
   "outputs": [],
   "source": [
    "nixf.close()"
   ]
  },
  {
   "cell_type": "code",
   "execution_count": null,
   "metadata": {},
   "outputs": [],
   "source": []
  }
 ],
 "metadata": {
  "kernelspec": {
   "display_name": "Python 3",
   "language": "python",
   "name": "python3"
  },
  "language_info": {
   "codemirror_mode": {
    "name": "ipython",
    "version": 3
   },
   "file_extension": ".py",
   "mimetype": "text/x-python",
   "name": "python",
   "nbconvert_exporter": "python",
   "pygments_lexer": "ipython3",
   "version": "3.8.1"
  }
 },
 "nbformat": 4,
 "nbformat_minor": 1
}
