{
 "cells": [
  {
   "cell_type": "markdown",
   "id": "f5c0f3f9",
   "metadata": {},
   "source": [
    "# RTG workshop\n",
    "## Testing code with Python and Matlab"
   ]
  },
  {
   "cell_type": "markdown",
   "id": "b05f83af",
   "metadata": {},
   "source": [
    "- why is it a good idea\n",
    "- requirements\n",
    "- how to do it\n",
    "- granularity\n",
    "- covering large projects"
   ]
  },
  {
   "cell_type": "markdown",
   "id": "6864de0c",
   "metadata": {},
   "source": [
    "## Increasing code quality with Python and Matlab"
   ]
  },
  {
   "cell_type": "markdown",
   "id": "4be7eb55",
   "metadata": {},
   "source": [
    "- why should we care\n",
    "- requirements\n",
    "- how to do it\n",
    "- how to start with a new project\n",
    "- what to do with an existing project"
   ]
  },
  {
   "cell_type": "code",
   "execution_count": null,
   "id": "4b874fcd",
   "metadata": {},
   "outputs": [],
   "source": []
  }
 ],
 "metadata": {
  "kernelspec": {
   "display_name": "Python 3",
   "language": "python",
   "name": "python3"
  },
  "language_info": {
   "codemirror_mode": {
    "name": "ipython",
    "version": 3
   },
   "file_extension": ".py",
   "mimetype": "text/x-python",
   "name": "python",
   "nbconvert_exporter": "python",
   "pygments_lexer": "ipython3",
   "version": "3.9.5"
  }
 },
 "nbformat": 4,
 "nbformat_minor": 5
}
