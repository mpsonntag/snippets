{
 "cells": [
  {
   "cell_type": "markdown",
   "id": "2245b930",
   "metadata": {},
   "source": [
    "# RTG workshop\n",
    "## Testing code with Python and Matlab"
   ]
  },
  {
   "cell_type": "markdown",
   "id": "0fa45364",
   "metadata": {},
   "source": [
    "- why is it a good idea\n",
    "- requirements\n",
    "- how to do it\n",
    "- granularity\n",
    "- covering large projects\n",
    "- write test before changing a function and check if the function returns the expected result."
   ]
  },
  {
   "cell_type": "markdown",
   "id": "78f26bea",
   "metadata": {},
   "source": [
    "- when switching to a new version of a programming language - happens more often with Matlab but can be an issue with Python as well -> be sure that the code still finishes with the same result as with the version before\n",
    "- document how your code is supposed to be used: you can simply point people to your tests and tell them: this is how you should run it."
   ]
  },
  {
   "cell_type": "markdown",
   "id": "464f24fd",
   "metadata": {},
   "source": [
    "## Increasing code quality with Python and Matlab"
   ]
  },
  {
   "cell_type": "markdown",
   "id": "cd1d4c78",
   "metadata": {},
   "source": [
    "- why should we care\n",
    "- requirements\n",
    "- how to do it\n",
    "- how to start with a new project\n",
    "- what to do with an existing project"
   ]
  },
  {
   "cell_type": "markdown",
   "id": "ba9097bb",
   "metadata": {},
   "source": [
    "<table>\n",
    "<tr>\n",
    "<th>Python</th>\n",
    "<th>Matlab</th>\n",
    "</tr>\n",
    "<tr>\n",
    "<td>\n",
    "\n",
    "```python\n",
    "pytest test/testfile.py\n",
    "```\n",
    "\n",
    "</td>\n",
    "<td>\n",
    "\n",
    "```matlab\n",
    "import matlab.unittest.TestRunner\n",
    "import matlab.unittest.TestSuite\n",
    "\n",
    "suite = TestSuite.fromClass(?mypackage.MyTestClass);\n",
    "runner = TestRunner.withTextOutput;\n",
    "result = runner.run(suite)\n",
    "```\n",
    "\n",
    "</td>\n",
    "</tr>\n",
    "</table>\n"
   ]
  },
  {
   "cell_type": "markdown",
   "id": "416a1907",
   "metadata": {},
   "source": [
    "jupyter nbconvert --to=script --output-dir=/tmp/converted-notebooks/ notebook_name.ipynb\n",
    "pylint --disable=C0103,C0413,C0305 /tmp/converted-notebooks/notebook_name.py"
   ]
  },
  {
   "cell_type": "code",
   "execution_count": null,
   "id": "4aad1589",
   "metadata": {},
   "outputs": [],
   "source": []
  }
 ],
 "metadata": {
  "kernelspec": {
   "display_name": "Python 3 (ipykernel)",
   "language": "python",
   "name": "python3"
  },
  "language_info": {
   "codemirror_mode": {
    "name": "ipython",
    "version": 3
   },
   "file_extension": ".py",
   "mimetype": "text/x-python",
   "name": "python",
   "nbconvert_exporter": "python",
   "pygments_lexer": "ipython3",
   "version": "3.9.7"
  }
 },
 "nbformat": 4,
 "nbformat_minor": 5
}
