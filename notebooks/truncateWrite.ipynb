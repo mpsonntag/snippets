{
 "cells": [
  {
   "cell_type": "code",
   "execution_count": 7,
   "metadata": {
    "collapsed": false
   },
   "outputs": [],
   "source": [
    "import os\n",
    "\n",
    "filename = './exampleFiles/truncateFile.txt'\n",
    "\n",
    "changes = False\n",
    "with open(filename, 'r+') as f:\n",
    "    doc = f.read()\n",
    "    doc = doc.replace('line', '+line')\n",
    "    changes = True\n",
    "\n",
    "    if changes:\n",
    "        f.truncate(0)\n",
    "        f.write(doc)\n"
   ]
  }
 ],
 "metadata": {
  "kernelspec": {
   "display_name": "Python 3",
   "language": "python",
   "name": "python3"
  },
  "language_info": {
   "codemirror_mode": {
    "name": "ipython",
    "version": 3
   },
   "file_extension": ".py",
   "mimetype": "text/x-python",
   "name": "python",
   "nbconvert_exporter": "python",
   "pygments_lexer": "ipython3",
   "version": "3.5.1+"
  }
 },
 "nbformat": 4,
 "nbformat_minor": 0
}
