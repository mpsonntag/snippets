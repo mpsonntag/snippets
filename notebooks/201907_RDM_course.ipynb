{
 "cells": [
  {
   "cell_type": "markdown",
   "metadata": {},
   "source": [
    "# Introduction to working with NIX"
   ]
  },
  {
   "cell_type": "markdown",
   "metadata": {},
   "source": [
    "For an online introduction please see the [nixio readthedocs page](https://nixio.readthedocs.io). This introduction closely follows the introduction presented there."
   ]
  },
  {
   "cell_type": "markdown",
   "metadata": {},
   "source": [
    "## Storing data"
   ]
  },
  {
   "cell_type": "markdown",
   "metadata": {},
   "source": [
    "When storing data, we have two main requirements:\n",
    "\n",
    "1. We want to be able to store n-dimensional data structures.\n",
    "2. The data structures must be self-explanatory, that is, they must contain sufficient information to draw a basic plot of the data."
   ]
  },
  {
   "cell_type": "markdown",
   "metadata": {},
   "source": [
    "![](https://nixio.readthedocs.io/en/latest/_images/regular_sampled.png)"
   ]
  },
  {
   "cell_type": "markdown",
   "metadata": {},
   "source": [
    "Considering the simple plot above, we can list all information that it shows and by extension, that needs to be stored in order to reproduce it.\n",
    "\n",
    "- the data (voltage measurements)\n",
    "- the y-axis labeling, i.e. label (voltage) and unit (mV)\n",
    "- the x-axis labeling, i.e. label (time) and unit (s)\n",
    "- the x-position for each data point\n",
    "- a title/legend\n",
    "\n",
    "In this, and in most cases, it would be inefficient to store x-, and y-position for each data point. The voltage measurements have been done in regular (time) intervals. Thus, we rather need to store the measured values and a definition of the x-axis consisting of an offset, the sampling interval, a label, and a unit.\n",
    "\n",
    "This is exactly the approach chosen in NIX. For each dimension of the data a dimension descriptor must be given. In NIX we define three (and a half) dimension descriptors:\n",
    "\n",
    "1. SampledDimension: Used if a dimension is sampled at regular intervals.\n",
    "- RangeDimension: Used if a dimension is sampled at irregular intervals.\n",
    "- There is a special case of the RangeDimension, the AliasRangeDimension, which is used when e.g. event times are stored.\n",
    "- SetDimension: Used for dimensions that represent categories rather than physical quantities.\n"
   ]
  },
  {
   "cell_type": "markdown",
   "metadata": {},
   "source": [
    "## The DataArray"
   ]
  },
  {
   "cell_type": "markdown",
   "metadata": {},
   "source": [
    "The DataArray is the most central entity of the NIX data model. As almost all other NIX-entities it requires a name and a type. Both are not restricted but names must be unique inside a Block. type information can be used to introduce semantic meaning and domain-specificity. Upon creation, a unique ID will be assigned to the DataArray.\n",
    "\n",
    "The DataArray stores the actual data together with label and unit. In addition, the DataArray needs a dimension descriptor for each dimension. The following snippet shows how to create a DataArray and store data in it."
   ]
  },
  {
   "cell_type": "code",
   "execution_count": 17,
   "metadata": {},
   "outputs": [],
   "source": [
    "import nixio\n",
    "\n",
    "# First create a file we'll use to work with\n",
    "f = nixio.File.open('Tutorial.nix', nixio.FileMode.Overwrite)\n",
    "\n",
    "# Please note, that nix works on an open file and reads and writes directly from this file.\n",
    "# Always close the file using 'f.close()' when you are done.\n"
   ]
  },
  {
   "cell_type": "code",
   "execution_count": 28,
   "metadata": {},
   "outputs": [],
   "source": [
    "# Lets create a DataArray in our nix file"
   ]
  },
  {
   "cell_type": "markdown",
   "metadata": {},
   "source": [
    "As you can see in the NIX data model above, NIX files are hierarchically structured. Data is stored in 'DataArrays'. DataArrays are contained in 'Blocks'. When we want to create a DataArray, we need to create at least one Block first, that will contain the DataArray."
   ]
  },
  {
   "cell_type": "code",
   "execution_count": 20,
   "metadata": {},
   "outputs": [
    {
     "data": {
      "text/plain": [
       "[]"
      ]
     },
     "execution_count": 20,
     "metadata": {},
     "output_type": "execute_result"
    }
   ],
   "source": [
    "# Lets check the blocks we currently have defined in our file; it should be emtpy\n",
    "f.blocks\n"
   ]
  },
  {
   "cell_type": "code",
   "execution_count": 23,
   "metadata": {},
   "outputs": [
    {
     "name": "stdout",
     "output_type": "stream",
     "text": [
      "Help on method create_block in module nixio.file:\n",
      "\n",
      "create_block(name, type_, compression=<Compression.Auto: 'Auto'>) method of nixio.file.File instance\n",
      "    Create a new block inside the file.\n",
      "    \n",
      "    :param name: The name of the block to create.\n",
      "    :type name: str\n",
      "    :param type_: The type of the block.\n",
      "    :type type_: str\n",
      "    :param compression: No, DeflateNormal, Auto (default: Auto)\n",
      "    \n",
      "    :returns: The newly created block.\n",
      "    :rtype: Block\n",
      "\n"
     ]
    }
   ],
   "source": [
    "# Lets see how we can create a block in our file; we'll use the handy python help function to get more information\n",
    "help(f.create_block)\n"
   ]
  },
  {
   "cell_type": "code",
   "execution_count": 39,
   "metadata": {},
   "outputs": [],
   "source": [
    "# \"name\" and \"type\" of a block can be used to filter and find our blocks later on when the file contains more content\n",
    "block = f.create_block(name=\"experimentA\", type_=\"projectA\")\n",
    "\n",
    "# Please note at this point, that the 'name' of any NIX entity e.g. Blocks, DataArrays, etc. has to be unique\n",
    "# since it can be used to find and return this exact entity via the 'name'.\n",
    "# The 'type' can also be used to find entities, but it does not need to be unique. You can use 'name' to uniquely\n",
    "# identify a particular entity and use 'type' to find groups of related entities"
   ]
  },
  {
   "cell_type": "code",
   "execution_count": 26,
   "metadata": {},
   "outputs": [
    {
     "data": {
      "text/plain": [
       "Block: {name = demo_block, type = demo, id = 090373a6-8a63-420a-9127-7036cdbb5f98}"
      ]
     },
     "execution_count": 26,
     "metadata": {},
     "output_type": "execute_result"
    }
   ],
   "source": [
    "# Great, we have an empty block\n",
    "block"
   ]
  },
  {
   "cell_type": "code",
   "execution_count": 27,
   "metadata": {},
   "outputs": [
    {
     "data": {
      "text/plain": [
       "[Block: {name = demo_block, type = demo, id = 090373a6-8a63-420a-9127-7036cdbb5f98}]"
      ]
     },
     "execution_count": 27,
     "metadata": {},
     "output_type": "execute_result"
    }
   ],
   "source": [
    "f.blocks"
   ]
  },
  {
   "cell_type": "code",
   "execution_count": 31,
   "metadata": {},
   "outputs": [],
   "source": [
    "# We are ready to put actual data into the NIX file. We'll try to put the example data \n",
    "# from the image above in our first DataArray\n",
    "\n",
    "# Define the content we'll put into our DataArray\n",
    "interval = 0.01;\n",
    "pi = 3.1415;\n",
    "freq = 1.5;\n",
    "voltage = []"
   ]
  },
  {
   "cell_type": "code",
   "execution_count": 33,
   "metadata": {},
   "outputs": [
    {
     "name": "stdout",
     "output_type": "stream",
     "text": [
      "Help on method create_data_array in module nixio.block:\n",
      "\n",
      "create_data_array(name, array_type, dtype=None, shape=None, data=None, compression=<Compression.Auto: 'Auto'>) method of nixio.block.Block instance\n",
      "    Create a new data array for this block. Either ``shape``\n",
      "    or ``data`` must be given. If both are given their shape must agree.\n",
      "    If ``dtype`` is not specified it will default to 64-bit floating\n",
      "    points.\n",
      "    \n",
      "    :param name: The name of the data array to create.\n",
      "    :type name: str\n",
      "    :param array_type: The type of the data array.\n",
      "    :type array_type: str\n",
      "    :param dtype: Which data-type to use for storage\n",
      "    :type dtype:  :class:`numpy.dtype`\n",
      "    :param shape: Layout (dimensionality and extent)\n",
      "    :type shape: tuple of int or long\n",
      "    :param data: Data to write after storage has been created\n",
      "    :type data: array-like data\n",
      "    :param compression: En-/disable dataset compression.\n",
      "    :type compression: :class:`~nixio.Compression`\n",
      "    \n",
      "    :returns: The newly created data array.\n",
      "    :rtype: :class:`~nixio.DataArray`\n",
      "\n"
     ]
    }
   ],
   "source": [
    "# First lets check how we can actually create a DataArray\n",
    "help(block.create_data_array)"
   ]
  },
  {
   "cell_type": "code",
   "execution_count": 35,
   "metadata": {},
   "outputs": [
    {
     "ename": "DuplicateName",
     "evalue": "Duplicate name - names have to be unique for a given entity type & parent. (create_data_array)",
     "output_type": "error",
     "traceback": [
      "\u001b[0;31m---------------------------------------------------------------------------\u001b[0m",
      "\u001b[0;31mDuplicateName\u001b[0m                             Traceback (most recent call last)",
      "\u001b[0;32m<ipython-input-35-ee7025bf0a53>\u001b[0m in \u001b[0;36m<module>\u001b[0;34m()\u001b[0m\n\u001b[1;32m      1\u001b[0m \u001b[0;31m# Now we create the DataArray within the Block created above and with the data\u001b[0m\u001b[0;34m\u001b[0m\u001b[0;34m\u001b[0m\u001b[0;34m\u001b[0m\u001b[0m\n\u001b[1;32m      2\u001b[0m \u001b[0;31m# We also add the appropriate labels immediately to interpret the contained data correctly.\u001b[0m\u001b[0;34m\u001b[0m\u001b[0;34m\u001b[0m\u001b[0;34m\u001b[0m\u001b[0m\n\u001b[0;32m----> 3\u001b[0;31m \u001b[0mda\u001b[0m \u001b[0;34m=\u001b[0m \u001b[0mblock\u001b[0m\u001b[0;34m.\u001b[0m\u001b[0mcreate_data_array\u001b[0m\u001b[0;34m(\u001b[0m\u001b[0mname\u001b[0m\u001b[0;34m=\u001b[0m\u001b[0;34m\"sinedata\"\u001b[0m\u001b[0;34m,\u001b[0m \u001b[0marray_type\u001b[0m\u001b[0;34m=\u001b[0m\u001b[0;34m\"sine\"\u001b[0m\u001b[0;34m,\u001b[0m \u001b[0mdata\u001b[0m\u001b[0;34m=\u001b[0m\u001b[0mvoltage\u001b[0m\u001b[0;34m)\u001b[0m\u001b[0;34m\u001b[0m\u001b[0;34m\u001b[0m\u001b[0m\n\u001b[0m\u001b[1;32m      4\u001b[0m \u001b[0mda\u001b[0m\u001b[0;34m.\u001b[0m\u001b[0mlabel\u001b[0m \u001b[0;34m=\u001b[0m \u001b[0;34m\"voltage\"\u001b[0m\u001b[0;34m\u001b[0m\u001b[0;34m\u001b[0m\u001b[0m\n\u001b[1;32m      5\u001b[0m \u001b[0mda\u001b[0m\u001b[0;34m.\u001b[0m\u001b[0munit\u001b[0m \u001b[0;34m=\u001b[0m \u001b[0;34m\"mV\"\u001b[0m\u001b[0;34m\u001b[0m\u001b[0;34m\u001b[0m\u001b[0m\n",
      "\u001b[0;32m/home/msonntag/Chaos/software/pyvirtualenv/py3main/lib/python3.6/site-packages/nixio/block.py\u001b[0m in \u001b[0;36mcreate_data_array\u001b[0;34m(self, name, array_type, dtype, shape, data, compression)\u001b[0m\n\u001b[1;32m    185\u001b[0m         \u001b[0mdata_arrays\u001b[0m \u001b[0;34m=\u001b[0m \u001b[0mself\u001b[0m\u001b[0;34m.\u001b[0m\u001b[0m_h5group\u001b[0m\u001b[0;34m.\u001b[0m\u001b[0mopen_group\u001b[0m\u001b[0;34m(\u001b[0m\u001b[0;34m\"data_arrays\"\u001b[0m\u001b[0;34m)\u001b[0m\u001b[0;34m\u001b[0m\u001b[0;34m\u001b[0m\u001b[0m\n\u001b[1;32m    186\u001b[0m         \u001b[0;32mif\u001b[0m \u001b[0mname\u001b[0m \u001b[0;32min\u001b[0m \u001b[0mdata_arrays\u001b[0m\u001b[0;34m:\u001b[0m\u001b[0;34m\u001b[0m\u001b[0;34m\u001b[0m\u001b[0m\n\u001b[0;32m--> 187\u001b[0;31m             \u001b[0;32mraise\u001b[0m \u001b[0mexceptions\u001b[0m\u001b[0;34m.\u001b[0m\u001b[0mDuplicateName\u001b[0m\u001b[0;34m(\u001b[0m\u001b[0;34m\"create_data_array\"\u001b[0m\u001b[0;34m)\u001b[0m\u001b[0;34m\u001b[0m\u001b[0;34m\u001b[0m\u001b[0m\n\u001b[0m\u001b[1;32m    188\u001b[0m         \u001b[0;32mif\u001b[0m \u001b[0mcompression\u001b[0m \u001b[0;34m==\u001b[0m \u001b[0mCompression\u001b[0m\u001b[0;34m.\u001b[0m\u001b[0mAuto\u001b[0m\u001b[0;34m:\u001b[0m\u001b[0;34m\u001b[0m\u001b[0;34m\u001b[0m\u001b[0m\n\u001b[1;32m    189\u001b[0m             \u001b[0mcompression\u001b[0m \u001b[0;34m=\u001b[0m \u001b[0mself\u001b[0m\u001b[0;34m.\u001b[0m\u001b[0m_compr\u001b[0m\u001b[0;34m\u001b[0m\u001b[0;34m\u001b[0m\u001b[0m\n",
      "\u001b[0;31mDuplicateName\u001b[0m: Duplicate name - names have to be unique for a given entity type & parent. (create_data_array)"
     ]
    }
   ],
   "source": [
    "# Now we create the DataArray within the Block created above and with the data\n",
    "# We also add the appropriate labels immediately.\n",
    "da = block.create_data_array(name=\"sinedata\", array_type=\"sine\", data=voltage)\n",
    "da.label = \"voltage\"\n",
    "da.unit = \"mV\""
   ]
  },
  {
   "cell_type": "code",
   "execution_count": 40,
   "metadata": {},
   "outputs": [
    {
     "name": "stdout",
     "output_type": "stream",
     "text": [
      "Help on method append_sampled_dimension in module nixio.data_array:\n",
      "\n",
      "append_sampled_dimension(sampling_interval, label=None, unit=None, offset=None) method of nixio.data_array.DataArray instance\n",
      "    Append a new SampledDimension to the list of existing dimension\n",
      "    descriptors.\n",
      "    \n",
      "    :param sampling_interval: The sampling interval of the SetDimension\n",
      "                              to create.\n",
      "    :type sampling_interval: float\n",
      "    \n",
      "    :returns: The newly created SampledDimension.\n",
      "    :rtype: SampledDimension\n",
      "\n"
     ]
    }
   ],
   "source": [
    "# Now we will also add the appropriate Dimension to this DataArray, so it can be correctly interpreted for\n",
    "# later plotting. We will look into the different Dimensions in a second.\n",
    "\n",
    "# First we check how to properly create the Dimension we need\n",
    "help(da.append_sampled_dimension)"
   ]
  },
  {
   "cell_type": "code",
   "execution_count": 42,
   "metadata": {},
   "outputs": [],
   "source": [
    "# And lets add it to our DataArray, again with \n",
    "dim = da.append_sampled_dimension(interval)\n",
    "dim.label = \"time\"\n",
    "dim.unit = \"s\""
   ]
  },
  {
   "cell_type": "code",
   "execution_count": 43,
   "metadata": {},
   "outputs": [],
   "source": [
    "# And finally we close our file.\n",
    "f.close()"
   ]
  },
  {
   "cell_type": "code",
   "execution_count": null,
   "metadata": {},
   "outputs": [],
   "source": []
  }
 ],
 "metadata": {
  "kernelspec": {
   "display_name": "Python 3",
   "language": "python",
   "name": "python3"
  },
  "language_info": {
   "codemirror_mode": {
    "name": "ipython",
    "version": 3
   },
   "file_extension": ".py",
   "mimetype": "text/x-python",
   "name": "python",
   "nbconvert_exporter": "python",
   "pygments_lexer": "ipython3",
   "version": "3.6.5"
  }
 },
 "nbformat": 4,
 "nbformat_minor": 2
}
