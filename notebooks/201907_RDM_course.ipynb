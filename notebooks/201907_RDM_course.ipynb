{
 "cells": [
  {
   "cell_type": "markdown",
   "metadata": {},
   "source": [
    "# Introduction to working with NIX"
   ]
  },
  {
   "cell_type": "markdown",
   "metadata": {},
   "source": [
    "For an online introduction please see the [nixio readthedocs page](https://nixio.readthedocs.io). This introduction closely follows the introduction presented there."
   ]
  },
  {
   "cell_type": "markdown",
   "metadata": {},
   "source": [
    "## Storing data"
   ]
  },
  {
   "cell_type": "markdown",
   "metadata": {},
   "source": [
    "When storing data, we have two main requirements:\n",
    "\n",
    "1. We want to be able to store n-dimensional data structures.\n",
    "2. The data structures must be self-explanatory, that is, they must contain sufficient information to draw a basic plot of the data."
   ]
  },
  {
   "cell_type": "markdown",
   "metadata": {},
   "source": [
    "![](https://nixio.readthedocs.io/en/latest/_images/regular_sampled.png)"
   ]
  },
  {
   "cell_type": "markdown",
   "metadata": {},
   "source": [
    "Considering the simple plot above, we can list all information that it shows and by extension, that needs to be stored in order to reproduce it.\n",
    "\n",
    "- the data (voltage measurements)\n",
    "- the y-axis labeling, i.e. label (voltage) and unit (mV)\n",
    "- the x-axis labeling, i.e. label (time) and unit (s)\n",
    "- the x-position for each data point\n",
    "- a title/legend\n",
    "\n",
    "In this, and in most cases, it would be inefficient to store x-, and y-position for each data point. The voltage measurements have been done in regular (time) intervals. Thus, we rather need to store the measured values and a definition of the x-axis consisting of an offset, the sampling interval, a label, and a unit.\n",
    "\n",
    "This is exactly the approach chosen in NIX. For each dimension of the data a dimension descriptor must be given. In NIX we define three (and a half) dimension descriptors:\n",
    "\n",
    "1. SampledDimension: Used if a dimension is sampled at regular intervals.\n",
    "- RangeDimension: Used if a dimension is sampled at irregular intervals.\n",
    "- There is a special case of the RangeDimension, the AliasRangeDimension, which is used when e.g. event times are stored.\n",
    "- SetDimension: Used for dimensions that represent categories rather than physical quantities.\n"
   ]
  },
  {
   "cell_type": "markdown",
   "metadata": {},
   "source": [
    "## The DataArray"
   ]
  },
  {
   "cell_type": "markdown",
   "metadata": {},
   "source": [
    "The DataArray is the most central entity of the NIX data model. As almost all other NIX-entities it requires a name and a type. Both are not restricted but names must be unique inside a Block. type information can be used to introduce semantic meaning and domain-specificity. Upon creation, a unique ID will be assigned to the DataArray.\n",
    "\n",
    "The DataArray stores the actual data together with label and unit. In addition, the DataArray needs a dimension descriptor for each dimension. The following snippet shows how to create a DataArray and store data in it."
   ]
  },
  {
   "cell_type": "code",
   "execution_count": 17,
   "metadata": {},
   "outputs": [],
   "source": [
    "import nixio\n",
    "\n",
    "# First create a file we'll use to work with\n",
    "f = nixio.File.open('Tutorial.nix', nixio.FileMode.Overwrite)\n",
    "\n",
    "# Please note, that nix works on an open file and reads and writes directly from this file.\n",
    "# Always close the file using 'f.close()' when you are done.\n"
   ]
  },
  {
   "cell_type": "code",
   "execution_count": 28,
   "metadata": {},
   "outputs": [],
   "source": [
    "# Lets create a DataArray in our nix file"
   ]
  },
  {
   "cell_type": "markdown",
   "metadata": {},
   "source": [
    "As you can see in the NIX data model above, NIX files are hierarchically structured. Data is stored in 'DataArrays'. DataArrays are contained in 'Blocks'. When we want to create a DataArray, we need to create at least one Block first, that will contain the DataArray."
   ]
  },
  {
   "cell_type": "code",
   "execution_count": 20,
   "metadata": {},
   "outputs": [
    {
     "data": {
      "text/plain": [
       "[]"
      ]
     },
     "execution_count": 20,
     "metadata": {},
     "output_type": "execute_result"
    }
   ],
   "source": [
    "# Lets check the blocks we currently have defined in our file; it should be emtpy\n",
    "f.blocks\n"
   ]
  },
  {
   "cell_type": "code",
   "execution_count": 23,
   "metadata": {},
   "outputs": [
    {
     "name": "stdout",
     "output_type": "stream",
     "text": [
      "Help on method create_block in module nixio.file:\n",
      "\n",
      "create_block(name, type_, compression=<Compression.Auto: 'Auto'>) method of nixio.file.File instance\n",
      "    Create a new block inside the file.\n",
      "    \n",
      "    :param name: The name of the block to create.\n",
      "    :type name: str\n",
      "    :param type_: The type of the block.\n",
      "    :type type_: str\n",
      "    :param compression: No, DeflateNormal, Auto (default: Auto)\n",
      "    \n",
      "    :returns: The newly created block.\n",
      "    :rtype: Block\n",
      "\n"
     ]
    }
   ],
   "source": [
    "# Lets see how we can create a block in our file; we'll use the handy python help function to get more information\n",
    "help(f.create_block)\n"
   ]
  },
  {
   "cell_type": "code",
   "execution_count": 24,
   "metadata": {},
   "outputs": [],
   "source": [
    "# \"name\" and \"type\" of a block can be used to filter and find our blocks later on when the file contains more content\n",
    "block = f.create_block(name=\"demo_block\", type_=\"demo\")"
   ]
  },
  {
   "cell_type": "code",
   "execution_count": 26,
   "metadata": {},
   "outputs": [
    {
     "data": {
      "text/plain": [
       "Block: {name = demo_block, type = demo, id = 090373a6-8a63-420a-9127-7036cdbb5f98}"
      ]
     },
     "execution_count": 26,
     "metadata": {},
     "output_type": "execute_result"
    }
   ],
   "source": [
    "# Great, we have an empty block\n",
    "block"
   ]
  },
  {
   "cell_type": "code",
   "execution_count": 27,
   "metadata": {},
   "outputs": [
    {
     "data": {
      "text/plain": [
       "[Block: {name = demo_block, type = demo, id = 090373a6-8a63-420a-9127-7036cdbb5f98}]"
      ]
     },
     "execution_count": 27,
     "metadata": {},
     "output_type": "execute_result"
    }
   ],
   "source": [
    "f.blocks"
   ]
  },
  {
   "cell_type": "code",
   "execution_count": null,
   "metadata": {},
   "outputs": [],
   "source": [
    "# We are ready to put actual data into the NIX file. We'll try to put the example data from the image above in our first DataArray\n",
    "\n",
    "# Define the content we'll put into our DataArray\n",
    "interval = 0.01;\n",
    "pi = 3.1415;\n",
    "freq = 1.5;\n",
    "voltage = []"
   ]
  }
 ],
 "metadata": {
  "kernelspec": {
   "display_name": "Python 3",
   "language": "python",
   "name": "python3"
  },
  "language_info": {
   "codemirror_mode": {
    "name": "ipython",
    "version": 3
   },
   "file_extension": ".py",
   "mimetype": "text/x-python",
   "name": "python",
   "nbconvert_exporter": "python",
   "pygments_lexer": "ipython3",
   "version": "3.6.5"
  }
 },
 "nbformat": 4,
 "nbformat_minor": 2
}
