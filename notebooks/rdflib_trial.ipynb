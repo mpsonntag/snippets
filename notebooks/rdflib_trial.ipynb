{
 "cells": [
  {
   "cell_type": "code",
   "execution_count": 84,
   "metadata": {
    "collapsed": false
   },
   "outputs": [],
   "source": [
    "from rdflib import Graph, BNode, RDF, RDFS, Literal, URIRef"
   ]
  },
  {
   "cell_type": "code",
   "execution_count": 85,
   "metadata": {
    "collapsed": true
   },
   "outputs": [],
   "source": [
    "g = Graph()"
   ]
  },
  {
   "cell_type": "code",
   "execution_count": 86,
   "metadata": {
    "collapsed": false
   },
   "outputs": [
    {
     "name": "stdout",
     "output_type": "stream",
     "text": [
      "@prefix rdf: <http://www.w3.org/1999/02/22-rdf-syntax-ns#> .\n",
      "@prefix rdfs: <http://www.w3.org/2000/01/rdf-schema#> .\n",
      "@prefix xml: <http://www.w3.org/XML/1998/namespace> .\n",
      "@prefix xsd: <http://www.w3.org/2001/XMLSchema#> .\n",
      "\n",
      "\n"
     ]
    }
   ],
   "source": [
    "print g.serialize(format='turtle')"
   ]
  },
  {
   "cell_type": "code",
   "execution_count": 87,
   "metadata": {
    "collapsed": true
   },
   "outputs": [],
   "source": [
    "statementId = BNode()"
   ]
  },
  {
   "cell_type": "code",
   "execution_count": 88,
   "metadata": {
    "collapsed": true
   },
   "outputs": [],
   "source": [
    "g.add((statementId, RDF.type, RDF.Statement))\n",
    "g.add((statementId, RDF.predicate, Literal(\"hurra\")))"
   ]
  },
  {
   "cell_type": "code",
   "execution_count": 89,
   "metadata": {
    "collapsed": false
   },
   "outputs": [
    {
     "name": "stdout",
     "output_type": "stream",
     "text": [
      "<?xml version=\"1.0\" encoding=\"UTF-8\"?>\n",
      "<rdf:RDF\n",
      "   xmlns:rdf=\"http://www.w3.org/1999/02/22-rdf-syntax-ns#\"\n",
      ">\n",
      "  <rdf:Description rdf:nodeID=\"Ne630e2eb50b146b2ada52c413a66bed8\">\n",
      "    <rdf:type rdf:resource=\"http://www.w3.org/1999/02/22-rdf-syntax-ns#Statement\"/>\n",
      "    <rdf:predicate>hurra</rdf:predicate>\n",
      "  </rdf:Description>\n",
      "</rdf:RDF>\n",
      "\n"
     ]
    }
   ],
   "source": [
    "print g.serialize()"
   ]
  },
  {
   "cell_type": "code",
   "execution_count": 90,
   "metadata": {
    "collapsed": false
   },
   "outputs": [
    {
     "name": "stdout",
     "output_type": "stream",
     "text": [
      "@prefix rdf: <http://www.w3.org/1999/02/22-rdf-syntax-ns#> .\n",
      "@prefix rdfs: <http://www.w3.org/2000/01/rdf-schema#> .\n",
      "@prefix xml: <http://www.w3.org/XML/1998/namespace> .\n",
      "@prefix xsd: <http://www.w3.org/2001/XMLSchema#> .\n",
      "\n",
      "[] a rdf:Statement ;\n",
      "    rdf:predicate \"hurra\" .\n",
      "\n",
      "\n"
     ]
    }
   ],
   "source": [
    "print g.serialize(format='turtle')"
   ]
  },
  {
   "cell_type": "code",
   "execution_count": 91,
   "metadata": {
    "collapsed": false
   },
   "outputs": [
    {
     "name": "stdout",
     "output_type": "stream",
     "text": [
      "https://github.com/G-Node/python-odml#fb8315dbd78c30a542941162fbe0ac01de748d38\n"
     ]
    }
   ],
   "source": [
    "odmlns = 'https://github.com/G-Node/python-odml#'\n",
    "id = 'fb8315dbd78c30a542941162fbe0ac01de748d38'\n",
    "newRefID = odmlns + id\n",
    "uri = URIRef(newRefID)\n",
    "print(uri)\n",
    "opred = URIRef(odmlns+'hasNode')"
   ]
  },
  {
   "cell_type": "code",
   "execution_count": 92,
   "metadata": {
    "collapsed": false
   },
   "outputs": [],
   "source": [
    "g.add([uri, RDF.type, URIRef(odmlns+'Labelmonster')])\n",
    "g.add([uri, RDFS.label, Literal(\"a label\")])\n",
    "g.add([uri, RDFS.label, Literal(\"another label\")])\n",
    "g.add([uri, RDFS.label, Literal(\"and a third label\")])\n",
    "g.add([uri, opred, statementId])"
   ]
  },
  {
   "cell_type": "code",
   "execution_count": 93,
   "metadata": {
    "collapsed": false
   },
   "outputs": [
    {
     "name": "stdout",
     "output_type": "stream",
     "text": [
      "<?xml version=\"1.0\" encoding=\"UTF-8\"?>\n",
      "<rdf:RDF\n",
      "   xmlns:ns1=\"https://github.com/G-Node/python-odml#\"\n",
      "   xmlns:rdf=\"http://www.w3.org/1999/02/22-rdf-syntax-ns#\"\n",
      "   xmlns:rdfs=\"http://www.w3.org/2000/01/rdf-schema#\"\n",
      ">\n",
      "  <rdf:Description rdf:about=\"https://github.com/G-Node/python-odml#fb8315dbd78c30a542941162fbe0ac01de748d38\">\n",
      "    <rdfs:label>a label</rdfs:label>\n",
      "    <rdfs:label>another label</rdfs:label>\n",
      "    <ns1:hasNode rdf:nodeID=\"Ne630e2eb50b146b2ada52c413a66bed8\"/>\n",
      "    <rdf:type rdf:resource=\"https://github.com/G-Node/python-odml#Labelmonster\"/>\n",
      "    <rdfs:label>and a third label</rdfs:label>\n",
      "  </rdf:Description>\n",
      "  <rdf:Description rdf:nodeID=\"Ne630e2eb50b146b2ada52c413a66bed8\">\n",
      "    <rdf:type rdf:resource=\"http://www.w3.org/1999/02/22-rdf-syntax-ns#Statement\"/>\n",
      "    <rdf:predicate>hurra</rdf:predicate>\n",
      "  </rdf:Description>\n",
      "</rdf:RDF>\n",
      "\n"
     ]
    }
   ],
   "source": [
    "print g.serialize()"
   ]
  },
  {
   "cell_type": "code",
   "execution_count": 94,
   "metadata": {
    "collapsed": false
   },
   "outputs": [
    {
     "name": "stdout",
     "output_type": "stream",
     "text": [
      "@prefix ns1: <https://github.com/G-Node/python-odml#> .\n",
      "@prefix rdf: <http://www.w3.org/1999/02/22-rdf-syntax-ns#> .\n",
      "@prefix rdfs: <http://www.w3.org/2000/01/rdf-schema#> .\n",
      "@prefix xml: <http://www.w3.org/XML/1998/namespace> .\n",
      "@prefix xsd: <http://www.w3.org/2001/XMLSchema#> .\n",
      "\n",
      "ns1:fb8315dbd78c30a542941162fbe0ac01de748d38 a ns1:Labelmonster ;\n",
      "    rdfs:label \"a label\",\n",
      "        \"and a third label\",\n",
      "        \"another label\" ;\n",
      "    ns1:hasNode [ a rdf:Statement ;\n",
      "            rdf:predicate \"hurra\" ] .\n",
      "\n",
      "\n"
     ]
    }
   ],
   "source": [
    "print g.serialize(format='turtle')"
   ]
  },
  {
   "cell_type": "code",
   "execution_count": null,
   "metadata": {
    "collapsed": true
   },
   "outputs": [],
   "source": []
  }
 ],
 "metadata": {
  "kernelspec": {
   "display_name": "Python 2",
   "language": "python",
   "name": "python2"
  },
  "language_info": {
   "codemirror_mode": {
    "name": "ipython",
    "version": 2
   },
   "file_extension": ".py",
   "mimetype": "text/x-python",
   "name": "python",
   "nbconvert_exporter": "python",
   "pygments_lexer": "ipython2",
   "version": "2.7.11+"
  }
 },
 "nbformat": 4,
 "nbformat_minor": 0
}
