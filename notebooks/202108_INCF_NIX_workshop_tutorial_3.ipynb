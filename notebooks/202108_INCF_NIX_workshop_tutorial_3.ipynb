{
 "cells": [
  {
   "cell_type": "markdown",
   "metadata": {},
   "source": [
    "\n",
    "### INCF Workshop \n",
    "\n",
    "# Integrated Storage and Management of Data & Metadata with NIX\n",
    "\n",
    "                                    The Neuroscience Information eXchange format\n",
    "\n",
    "                                    Jan Grewe1, Michael Sonntag2\n",
    "\n",
    "                                    1 Institute for Neurobiology\n",
    "                                      Eberhard-Karls-Universität Tübingen\n",
    "                                    \n",
    "                                    2 Department Biologie II\n",
    "                                      Ludwig-Maximilians-Universität München\n",
    "\n",
    "                                    30.08. - 01.09.2021\n",
    "\n",
    "\n",
    "![G-Node-logo.png](./resources/G-Node-logo.png)"
   ]
  },
  {
   "cell_type": "markdown",
   "metadata": {},
   "source": [
    "## Data and Metadata (data annotation) - Tutorial 3"
   ]
  },
  {
   "cell_type": "markdown",
   "metadata": {},
   "source": [
    "### What are metadata and why are they needed?"
   ]
  },
  {
   "cell_type": "markdown",
   "metadata": {},
   "source": [
    "Metadata are data about data. As a non-scientific example: title and director of a movie are metadata.\n",
    "\n",
    "In science metadata describe the conditions under which the raw data of an experimental study were acquired.\n",
    "\n",
    "Metadata can be anything that is related to an experiment or an analysis step\n",
    "- stimulus / protocols\n",
    "- environmental factors e.g. temperature, gas or liquid concentrations, ...\n",
    "- operational information e.g. experimenter, date, time, organism, strain, ...\n",
    "- subject information e.g. animal strain, history, ...\n",
    "- hardware/software used\n",
    "- settings\n",
    "\n",
    "Traditionally, actively collected metadata will be found in spreadsheets or lab books. Further metadata is found in raw data files, hardware information, code comments, etc.\n",
    "\n",
    "The organization of such metadata and their accessibility is not a trivial task, most laboratories developed their home-made solutions over time to keep track of their metadata. The collection and organization of these metadata in its own right is already a tough job since experiments are diverse and may even change over time [lyuba comic?].\n",
    "\n",
    "Metadata is especially important when trying to make sense of data \n",
    "- that you are not familiar with\n",
    "- that you have not worked with for a while\n",
    "\n",
    "A hard issue in this respect is that most of the metadata information is usually disconnected from the data it belongs to; searching data and retrieving the corresponding metadata or vice versa is usually not trivial, especially after a period of time has passed.\n",
    "\n",
    "With NIX, metadata can be stored alongside the data it belongs to, the process of collecting the metadata can be automatized and the results are machine readable and can be searched programatically."
   ]
  },
  {
   "cell_type": "markdown",
   "metadata": {},
   "source": [
    "## Data and data annotation in the same file"
   ]
  },
  {
   "cell_type": "markdown",
   "metadata": {},
   "source": [
    "The entities of the data model that were discussed so far carry just enough information to get a basic understanding of the stored data. Often much more information than that is required."
   ]
  },
  {
   "cell_type": "markdown",
   "metadata": {},
   "source": [
    "NIX does not only allow to save initial data and analysed data within the same file. It also allows to create structured annotations of the experiments that were conducted and connects this information directly to the data."
   ]
  },
  {
   "cell_type": "markdown",
   "metadata": {},
   "source": [
    "Metadata in NIX files is stored in the [odML format](https://g-node.github.io/python-odml); odML is a hierarchically structured data format that provides grouping in nestable `Sections` and stores information in `Property`-`Value` pairs. `Sections` are the main structural elements, while `Properties` hold the actual metadata information."
   ]
  },
  {
   "cell_type": "markdown",
   "metadata": {},
   "source": [
    "## The odml data model in NIX\n",
    "![](./resources/nix_odML_model_simplified.png)"
   ]
  },
  {
   "cell_type": "markdown",
   "metadata": {},
   "source": [
    " On a conceptual level, data and metadata in a NIX file live side by side in parallel trees. The different layers can be connected from the data tree to the metadata tree. Corresponding data can be retrieved when exploring the metadata tree."
   ]
  },
  {
   "cell_type": "markdown",
   "metadata": {},
   "source": [
    "    ---------------- NIX File --------\n",
    "    ├─ Section                  <--- ├─ Block\n",
    "    |  ├─ Section                    |  ├─ DataArray\n",
    "    |  |  └─ Property                |  ├─ DataArray\n",
    "    |  └─ Section                    |  ├─ Tag\n",
    "    |     └─ Property                |  └─ Multitag\n",
    "    └─ Section                  <--- └─ Block\n",
    "       └─ Section               <---    ├─ DataArray\n",
    "          ├─ Property                   ├─ DataArray\n",
    "          ├─ Property                   └─ Group\n",
    "          └─ Property                    \n"
   ]
  },
  {
   "cell_type": "markdown",
   "metadata": {},
   "source": [
    "# Storing metadata in NIX"
   ]
  },
  {
   "cell_type": "markdown",
   "metadata": {},
   "source": [
    "## Metadata basics: creating section-property trees"
   ]
  },
  {
   "cell_type": "markdown",
   "metadata": {},
   "source": [
    "To introduce the usage of metadata functions in NIX, we'll keep it simple and abstract for now."
   ]
  },
  {
   "cell_type": "code",
   "execution_count": 27,
   "metadata": {},
   "outputs": [],
   "source": [
    "# Lets explore the metadata functions of NIX before going more into detail\n",
    "\n",
    "import nixio as nix\n",
    "\n",
    "f = nix.File.open(\"metadata.nix\", nix.FileMode.Overwrite)\n"
   ]
  },
  {
   "cell_type": "code",
   "execution_count": 28,
   "metadata": {},
   "outputs": [
    {
     "name": "stdout",
     "output_type": "stream",
     "text": [
      "[]\n"
     ]
    }
   ],
   "source": [
    "# As expected there are no metadata in our current file yet.\n",
    "print(f.sections)\n"
   ]
  },
  {
   "cell_type": "code",
   "execution_count": 40,
   "metadata": {},
   "outputs": [
    {
     "name": "stdout",
     "output_type": "stream",
     "text": [
      "Help on method create_section in module nixio.file:\n",
      "\n",
      "create_section(name, type_='undefined', oid=None) method of nixio.file.File instance\n",
      "    Create a new metadata section inside the file.\n",
      "    \n",
      "    :param name: The name of the section to create.\n",
      "    :type name: str\n",
      "    :param type_: The type of the section.\n",
      "    :type type_: str\n",
      "    :param oid: object id, UUID string as specified in RFC 4122. If no id\n",
      "                is provided, an id will be generated and assigned.\n",
      "    :type oid: str\n",
      "    \n",
      "    :returns: The newly created section.\n",
      "    :rtype: nixio.Section\n",
      "\n"
     ]
    }
   ],
   "source": [
    "# Lets check how we can create a new Section. Sections can be created from File and Section objects.\n",
    "help(f.create_section)\n"
   ]
  },
  {
   "cell_type": "code",
   "execution_count": 30,
   "metadata": {},
   "outputs": [
    {
     "data": {
      "text/plain": [
       "[Section: {name = experiment_42, type = project_AB}]"
      ]
     },
     "execution_count": 30,
     "metadata": {},
     "output_type": "execute_result"
    }
   ],
   "source": [
    "# First we need to create a Section that can hold our annotations. We'll use abstract names and types for now.\n",
    "sec = f.create_section(name=\"experiment_42\", type_=\"project_AB\")\n",
    "\n",
    "f.sections\n"
   ]
  },
  {
   "cell_type": "code",
   "execution_count": 31,
   "metadata": {},
   "outputs": [
    {
     "ename": "DuplicateName",
     "evalue": "Duplicate name - names have to be unique for a given entity type & parent. (create_section)",
     "output_type": "error",
     "traceback": [
      "\u001b[0;31m---------------------------------------------------------------------------\u001b[0m",
      "\u001b[0;31mDuplicateName\u001b[0m                             Traceback (most recent call last)",
      "\u001b[0;32m<ipython-input-31-967cf9a46062>\u001b[0m in \u001b[0;36m<module>\u001b[0;34m\u001b[0m\n\u001b[1;32m      1\u001b[0m \u001b[0;31m# Like other NIX objects Section names on the same level have to be unique\u001b[0m\u001b[0;34m\u001b[0m\u001b[0;34m\u001b[0m\u001b[0;34m\u001b[0m\u001b[0m\n\u001b[0;32m----> 2\u001b[0;31m \u001b[0msection\u001b[0m \u001b[0;34m=\u001b[0m \u001b[0mf\u001b[0m\u001b[0;34m.\u001b[0m\u001b[0mcreate_section\u001b[0m\u001b[0;34m(\u001b[0m\u001b[0mname\u001b[0m\u001b[0;34m=\u001b[0m\u001b[0;34m\"experiment_42\"\u001b[0m\u001b[0;34m,\u001b[0m \u001b[0mtype_\u001b[0m\u001b[0;34m=\u001b[0m\u001b[0;34m\"project_AB\"\u001b[0m\u001b[0;34m)\u001b[0m\u001b[0;34m\u001b[0m\u001b[0;34m\u001b[0m\u001b[0m\n\u001b[0m",
      "\u001b[0;32m~/Chaos/software/miniconda3/envs/work/lib/python3.8/site-packages/nixio/file.py\u001b[0m in \u001b[0;36mcreate_section\u001b[0;34m(self, name, type_, oid)\u001b[0m\n\u001b[1;32m    443\u001b[0m         \"\"\"\n\u001b[1;32m    444\u001b[0m         \u001b[0;32mif\u001b[0m \u001b[0mname\u001b[0m \u001b[0;32min\u001b[0m \u001b[0mself\u001b[0m\u001b[0;34m.\u001b[0m\u001b[0msections\u001b[0m\u001b[0;34m:\u001b[0m\u001b[0;34m\u001b[0m\u001b[0;34m\u001b[0m\u001b[0m\n\u001b[0;32m--> 445\u001b[0;31m             \u001b[0;32mraise\u001b[0m \u001b[0mDuplicateName\u001b[0m\u001b[0;34m(\u001b[0m\u001b[0;34m\"create_section\"\u001b[0m\u001b[0;34m)\u001b[0m\u001b[0;34m\u001b[0m\u001b[0;34m\u001b[0m\u001b[0m\n\u001b[0m\u001b[1;32m    446\u001b[0m         \u001b[0msec\u001b[0m \u001b[0;34m=\u001b[0m \u001b[0mSection\u001b[0m\u001b[0;34m.\u001b[0m\u001b[0mcreate_new\u001b[0m\u001b[0;34m(\u001b[0m\u001b[0mself\u001b[0m\u001b[0;34m,\u001b[0m \u001b[0mself\u001b[0m\u001b[0;34m,\u001b[0m \u001b[0mself\u001b[0m\u001b[0;34m.\u001b[0m\u001b[0m_metadata\u001b[0m\u001b[0;34m,\u001b[0m \u001b[0mname\u001b[0m\u001b[0;34m,\u001b[0m \u001b[0mtype_\u001b[0m\u001b[0;34m,\u001b[0m \u001b[0moid\u001b[0m\u001b[0;34m)\u001b[0m\u001b[0;34m\u001b[0m\u001b[0;34m\u001b[0m\u001b[0m\n\u001b[1;32m    447\u001b[0m         \u001b[0;32mreturn\u001b[0m \u001b[0msec\u001b[0m\u001b[0;34m\u001b[0m\u001b[0;34m\u001b[0m\u001b[0m\n",
      "\u001b[0;31mDuplicateName\u001b[0m: Duplicate name - names have to be unique for a given entity type & parent. (create_section)"
     ]
    }
   ],
   "source": [
    "# Like other NIX objects Section names on the same level have to be unique\n",
    "section = f.create_section(name=\"experiment_42\", type_=\"project_AB\")"
   ]
  },
  {
   "cell_type": "code",
   "execution_count": 32,
   "metadata": {},
   "outputs": [
    {
     "data": {
      "text/plain": [
       "[]"
      ]
     },
     "execution_count": 32,
     "metadata": {},
     "output_type": "execute_result"
    }
   ],
   "source": [
    "# Sections can hold further multiple Sections as well as multiple Properties.\n",
    "sec.sections\n"
   ]
  },
  {
   "cell_type": "code",
   "execution_count": 33,
   "metadata": {},
   "outputs": [
    {
     "data": {
      "text/plain": [
       "[]"
      ]
     },
     "execution_count": 33,
     "metadata": {},
     "output_type": "execute_result"
    }
   ],
   "source": [
    "# The section currently does not contain any Properties.\n",
    "sec.props"
   ]
  },
  {
   "cell_type": "code",
   "execution_count": 34,
   "metadata": {},
   "outputs": [],
   "source": [
    "# We want to add information about a subject that was used in the experiment.\n",
    "sub_sec = sec.create_section(name=\"subject\", type_=\"experiment_42\")\n"
   ]
  },
  {
   "cell_type": "code",
   "execution_count": 42,
   "metadata": {},
   "outputs": [
    {
     "name": "stdout",
     "output_type": "stream",
     "text": [
      "Help on method create_property in module nixio.section:\n",
      "\n",
      "create_property(name='', values_or_dtype=0, oid=None, copy_from=None, keep_copy_id=True) method of nixio.section.Section instance\n",
      "    Add a new property to the section.\n",
      "    \n",
      "    :param name: The name of the property to create/copy.\n",
      "    :type name: str\n",
      "    :param values_or_dtype: The values of the property or a valid DataType.\n",
      "    :type values_or_dtype: list of values or a nixio.DataType\n",
      "    :param oid: object id, UUID string as specified in RFC 4122. If no id\n",
      "                is provided, an id will be generated and assigned.\n",
      "    :type oid: str\n",
      "    :param copy_from: The Property to be copied, None in normal mode\n",
      "    :type copy_from: nixio.Property\n",
      "    :param keep_copy_id: Specify if the id should be copied in copy mode\n",
      "    :type keep_copy_id: bool\n",
      "    \n",
      "    :returns: The newly created property.\n",
      "    :rtype: nixio.Property\n",
      "\n"
     ]
    }
   ],
   "source": [
    "# Properties can be created from Section objects.\n",
    "help(sub_sec.create_property)\n"
   ]
  },
  {
   "cell_type": "code",
   "execution_count": 56,
   "metadata": {},
   "outputs": [
    {
     "ename": "DuplicateName",
     "evalue": "Duplicate name - names have to be unique for a given entity type & parent. (create_property)",
     "output_type": "error",
     "traceback": [
      "\u001b[0;31m---------------------------------------------------------------------------\u001b[0m",
      "\u001b[0;31mDuplicateName\u001b[0m                             Traceback (most recent call last)",
      "\u001b[0;32m<ipython-input-56-f512a03dca9c>\u001b[0m in \u001b[0;36m<module>\u001b[0;34m\u001b[0m\n\u001b[1;32m      1\u001b[0m \u001b[0;31m# We'll add metadata about subjectID, subject species and subject age as Properties to the \"Subject\" section.\u001b[0m\u001b[0;34m\u001b[0m\u001b[0;34m\u001b[0m\u001b[0;34m\u001b[0m\u001b[0m\n\u001b[0;32m----> 2\u001b[0;31m \u001b[0mprop\u001b[0m \u001b[0;34m=\u001b[0m \u001b[0msub_sec\u001b[0m\u001b[0;34m.\u001b[0m\u001b[0mcreate_property\u001b[0m\u001b[0;34m(\u001b[0m\u001b[0mname\u001b[0m\u001b[0;34m=\u001b[0m\u001b[0;34m\"subjectID\"\u001b[0m\u001b[0;34m,\u001b[0m \u001b[0mvalues_or_dtype\u001b[0m\u001b[0;34m=\u001b[0m\u001b[0;34m\"78376446-f096-47b9-8bfe-ce1eb43a48dc\"\u001b[0m\u001b[0;34m)\u001b[0m\u001b[0;34m\u001b[0m\u001b[0;34m\u001b[0m\u001b[0m\n\u001b[0m\u001b[1;32m      3\u001b[0m \u001b[0mprop\u001b[0m \u001b[0;34m=\u001b[0m \u001b[0msub_sec\u001b[0m\u001b[0;34m.\u001b[0m\u001b[0mcreate_property\u001b[0m\u001b[0;34m(\u001b[0m\u001b[0mname\u001b[0m\u001b[0;34m=\u001b[0m\u001b[0;34m\"species\"\u001b[0m\u001b[0;34m,\u001b[0m \u001b[0mvalues_or_dtype\u001b[0m\u001b[0;34m=\u001b[0m\u001b[0;34m\"Mus Musculus\"\u001b[0m\u001b[0;34m)\u001b[0m\u001b[0;34m\u001b[0m\u001b[0;34m\u001b[0m\u001b[0m\n\u001b[1;32m      4\u001b[0m \u001b[0;34m\u001b[0m\u001b[0m\n\u001b[1;32m      5\u001b[0m \u001b[0;31m# To fully describe metadata, properties support saving \"unit\" and \"uncertainty\" together with values.\u001b[0m\u001b[0;34m\u001b[0m\u001b[0;34m\u001b[0m\u001b[0;34m\u001b[0m\u001b[0m\n",
      "\u001b[0;32m~/Chaos/software/miniconda3/envs/work/lib/python3.8/site-packages/nixio/section.py\u001b[0m in \u001b[0;36mcreate_property\u001b[0;34m(self, name, values_or_dtype, oid, copy_from, keep_copy_id)\u001b[0m\n\u001b[1;32m    131\u001b[0m         \u001b[0mproperties\u001b[0m \u001b[0;34m=\u001b[0m \u001b[0mself\u001b[0m\u001b[0;34m.\u001b[0m\u001b[0m_h5group\u001b[0m\u001b[0;34m.\u001b[0m\u001b[0mopen_group\u001b[0m\u001b[0;34m(\u001b[0m\u001b[0;34m\"properties\"\u001b[0m\u001b[0;34m,\u001b[0m \u001b[0;32mTrue\u001b[0m\u001b[0;34m)\u001b[0m\u001b[0;34m\u001b[0m\u001b[0;34m\u001b[0m\u001b[0m\n\u001b[1;32m    132\u001b[0m         \u001b[0;32mif\u001b[0m \u001b[0mname\u001b[0m \u001b[0;32min\u001b[0m \u001b[0mproperties\u001b[0m\u001b[0;34m:\u001b[0m\u001b[0;34m\u001b[0m\u001b[0;34m\u001b[0m\u001b[0m\n\u001b[0;32m--> 133\u001b[0;31m             \u001b[0;32mraise\u001b[0m \u001b[0mexceptions\u001b[0m\u001b[0;34m.\u001b[0m\u001b[0mDuplicateName\u001b[0m\u001b[0;34m(\u001b[0m\u001b[0;34m\"create_property\"\u001b[0m\u001b[0;34m)\u001b[0m\u001b[0;34m\u001b[0m\u001b[0;34m\u001b[0m\u001b[0m\n\u001b[0m\u001b[1;32m    134\u001b[0m \u001b[0;34m\u001b[0m\u001b[0m\n\u001b[1;32m    135\u001b[0m         \u001b[0;31m# Handle handed in DataType\u001b[0m\u001b[0;34m\u001b[0m\u001b[0;34m\u001b[0m\u001b[0;34m\u001b[0m\u001b[0m\n",
      "\u001b[0;31mDuplicateName\u001b[0m: Duplicate name - names have to be unique for a given entity type & parent. (create_property)"
     ]
    }
   ],
   "source": [
    "# We'll add metadata about subjectID, subject species and subject age as Properties to the \"Subject\" section.\n",
    "prop = sub_sec.create_property(name=\"subjectID\", values_or_dtype=\"78376446-f096-47b9-8bfe-ce1eb43a48dc\")\n",
    "prop = sub_sec.create_property(name=\"species\", values_or_dtype=\"Mus Musculus\")\n",
    "\n",
    "# To fully describe metadata, properties support saving \"unit\" and \"uncertainty\" together with values.\n",
    "prop = sub_sec.create_property(name=\"age\", values_or_dtype=\"4\")\n",
    "prop.unit = \"weeks\"\n"
   ]
  },
  {
   "cell_type": "code",
   "execution_count": 50,
   "metadata": {},
   "outputs": [
    {
     "data": {
      "text/plain": [
       "[Section: {name = experiment_42, type = project_AB}]"
      ]
     },
     "execution_count": 50,
     "metadata": {},
     "output_type": "execute_result"
    }
   ],
   "source": [
    "# Lets check what we have so far at the root of the file.\n",
    "f.sections\n"
   ]
  },
  {
   "cell_type": "code",
   "execution_count": 53,
   "metadata": {},
   "outputs": [
    {
     "name": "stdout",
     "output_type": "stream",
     "text": [
      "File: name = metadata.nix\n",
      "  experiment_42 [project_AB]\n",
      "    subject [experiment_42]\n",
      "        |- subjectID: ('78376446-f096-47b9-8bfe-ce1eb43a48dc',)\n",
      "        |- species: ('Mus Musculus',)\n",
      "        |- age: ('4',)weeks\n"
     ]
    }
   ],
   "source": [
    "# File and Sections also support the \"pprint\" function to make it easier to get an overview \n",
    "# over the contents of the metadata tree.\n",
    "f.pprint()"
   ]
  },
  {
   "cell_type": "code",
   "execution_count": 54,
   "metadata": {},
   "outputs": [
    {
     "data": {
      "text/plain": [
       "[Property: {name = subjectID}, Property: {name = species}, Property: {name = age}]"
      ]
     },
     "execution_count": 54,
     "metadata": {},
     "output_type": "execute_result"
    }
   ],
   "source": [
    "# We access all Properties of the subsection containing subject related information.\n",
    "# Sections can be accessed via index or via name\n",
    "f.sections[0].sections['subject'].props\n"
   ]
  },
  {
   "cell_type": "code",
   "execution_count": 55,
   "metadata": {},
   "outputs": [
    {
     "name": "stdout",
     "output_type": "stream",
     "text": [
      "subject [experiment_42]\n",
      "    |- subjectID: ('78376446-f096-47b9-8bfe-ce1eb43a48dc',)\n",
      "    |- species: ('Mus Musculus',)\n",
      "    |- age: ('4',)weeks\n"
     ]
    }
   ],
   "source": [
    "# We can also again use the pprint function\n",
    "f.sections[0].sections['subject'].pprint()"
   ]
  },
  {
   "cell_type": "markdown",
   "metadata": {},
   "source": [
    "## Connecting data and metadata"
   ]
  },
  {
   "cell_type": "markdown",
   "metadata": {},
   "source": [
    "Until now we have seen how to create and store metadata in NIX files. Now we can check how to connect them to actualy data."
   ]
  },
  {
   "cell_type": "markdown",
   "metadata": {},
   "source": [
    "## Automated handling of metadata"
   ]
  },
  {
   "cell_type": "markdown",
   "metadata": {},
   "source": [
    "Metadata can become quite complex and it can become tedious to create large trees over and over again. To this end, \"template\" sections can be created and re-used.\n",
    "\n",
    "As an example: when running an experiment, usually there are a couple of different stimulus protocols or one or two hardware setups, but the stimulus or the hardware itself does not change. When adding data to an existing NIX file, the hardware metadata can be pre-defined for these setups and attached to the specific experimental data once it is stored in the file."
   ]
  },
  {
   "cell_type": "code",
   "execution_count": null,
   "metadata": {},
   "outputs": [],
   "source": [
    "f "
   ]
  },
  {
   "cell_type": "code",
   "execution_count": null,
   "metadata": {},
   "outputs": [],
   "source": [
    "# We can now connect the Section describing our experiment directly to the MultiTag \n",
    "#  that references both the raw as well as the analysed data.\n",
    "\n",
    "multi_tag = f.blocks['tag_examples'].multi_tags['tag_A']\n",
    "multi_tag.metadata = f.sections['experiment_42']\n"
   ]
  },
  {
   "cell_type": "code",
   "execution_count": null,
   "metadata": {},
   "outputs": [],
   "source": [
    "# Now when we look at the data via a MultiTag we can directly access all metadata that has been attached to it.\n",
    "# E.g. get information about the subject the experiment was conducted with.\n",
    "multi_tag.metadata.sections['subject'].props\n"
   ]
  },
  {
   "cell_type": "code",
   "execution_count": null,
   "metadata": {},
   "outputs": [],
   "source": [
    "# We can also attach the same Section to the raw DataArray itself e.g. when no MultTags have been used.\n",
    "init_data = f.blocks['tag_examples'].data_arrays['membrane_voltage_A']\n",
    "init_data.metadata = f.sections['experiment_42']\n"
   ]
  },
  {
   "cell_type": "code",
   "execution_count": null,
   "metadata": {},
   "outputs": [],
   "source": [
    "# And we can also find it in reverse: we can select a Section and find all data, that are connected to it.\n",
    "sec = f.sections['experiment_42']\n",
    "\n",
    "# Either via connected DataArrays.\n",
    "sec.referring_data_arrays\n"
   ]
  },
  {
   "cell_type": "code",
   "execution_count": null,
   "metadata": {},
   "outputs": [],
   "source": [
    "# Or via connected MultiTags.\n",
    "sec.referring_multi_tags\n"
   ]
  },
  {
   "cell_type": "code",
   "execution_count": 26,
   "metadata": {},
   "outputs": [],
   "source": [
    "# And finally we close our file.\n",
    "f.close()\n"
   ]
  },
  {
   "cell_type": "markdown",
   "metadata": {},
   "source": [
    "## Try it out\n",
    "\n",
    "Now we move on to an actual exercise.\n",
    "\n",
    "The public repository https://gin.g-node.org/RDMcourse2020/demo-lecture-07 contains a Jupyter notebook \"2020_RDM_course_nix_exercise.ipynb\".\n",
    "\n",
    "Start it either\n",
    "- locally if you can use Python and make sure all dependencies are installed.\n",
    "- or use Binder if you cannot use Python locally. The repository is already set up for the use with Binder. Check the last lecture if you are unsure how to start the notebook using Binder.\n",
    "\n",
    "This repository further contains a folder called \"excercise\". It contains calcium imaging data and rough metadata about the recordings.\n",
    "\n",
    "The exercise is to\n",
    "- read through the README.md and briefly familiarize yourself with the project and the data.\n",
    "- load the raw data to the notebook. Ideally transfer the \"obj_substracted\" column from the data files (column 3) but it can be any other column as well.\n",
    "- the \"time_elapsed\" column is roughly 100ms. If you want to you can use a SampledDimension with an interval of 100 which should be easier or try to include the real times as a RangeDimension.\n",
    "- create a new NIX file and put the raw data traces into NIX DataArrays including labels and units - note that the signal is Flourescence with unit AU (arbitrary unit). \n",
    "- plot data from these DataArrays.\n",
    "- read through the metadata, try to put useful metadata into a NIX Section/Property structure and connect it to the DataArrays. Examples would be\n",
    "  - original file names of raw data files.\n",
    "  - species.\n",
    "  - recording equipment.\n",
    "\n",
    "- identify and specify a region of interest via the used shift paradigm with start and extent and try to create a MultiTag connecting all three DataArrays via the same paradigm MultiTag.\n",
    "\n",
    "Alternatively you can also take some of your own data and try to put it into a NIX file along with some of your metadata."
   ]
  }
 ],
 "metadata": {
  "kernelspec": {
   "display_name": "Python 3",
   "language": "python",
   "name": "python3"
  },
  "language_info": {
   "codemirror_mode": {
    "name": "ipython",
    "version": 3
   },
   "file_extension": ".py",
   "mimetype": "text/x-python",
   "name": "python",
   "nbconvert_exporter": "python",
   "pygments_lexer": "ipython3",
   "version": "3.8.3"
  }
 },
 "nbformat": 4,
 "nbformat_minor": 2
}
