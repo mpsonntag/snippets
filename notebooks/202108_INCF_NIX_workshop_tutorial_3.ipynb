{
 "cells": [
  {
   "cell_type": "markdown",
   "metadata": {},
   "source": [
    "\n",
    "### INCF Workshop \n",
    "\n",
    "# Integrated Storage and Management of Data & Metadata with NIX\n",
    "\n",
    "                                    The Neuroscience Information eXchange format\n",
    "\n",
    "                                    Jan Grewe1, Michael Sonntag2\n",
    "\n",
    "                                    1 Institute for Neurobiology\n",
    "                                      Eberhard-Karls-Universität Tübingen\n",
    "                                    \n",
    "                                    2 Department Biologie II\n",
    "                                      Ludwig-Maximilians-Universität München\n",
    "\n",
    "                                    30.08. - 01.09.2021\n",
    "\n",
    "\n",
    "![G-Node-logo.png](./resources/G-Node-logo.png)"
   ]
  },
  {
   "cell_type": "markdown",
   "metadata": {},
   "source": [
    "## Data and Metadata (data annotation) - Tutorial 3"
   ]
  },
  {
   "cell_type": "markdown",
   "metadata": {},
   "source": [
    "### What are metadata and why are they needed?"
   ]
  },
  {
   "cell_type": "markdown",
   "metadata": {},
   "source": [
    "Metadata are data about data. They describe the conditions under which the actual raw-data of an experimental study were acquired. The organization of such metadata and their accessibility may sound like a trivial task, and most laboratories developed their home-made solutions to keep track of their metadata. Most of these solutions, however, break down if data and metadata need to be shared within a collaboration, because implicit knowledge of what is important and how it is organized is often underestimated."
   ]
  },
  {
   "cell_type": "markdown",
   "metadata": {},
   "source": [
    "## Data and data annotation in the same file"
   ]
  },
  {
   "cell_type": "markdown",
   "metadata": {},
   "source": [
    "The entities of the data model that were discussed so far carry just enough information to get a basic understanding of the stored data. Often much more information than that is required."
   ]
  },
  {
   "cell_type": "markdown",
   "metadata": {},
   "source": [
    "NIX does not only allow to save initial data and analysed data within the same file. It also allows to create structured annotations of the experiments that were conducted and connects this information directly to the data."
   ]
  },
  {
   "cell_type": "markdown",
   "metadata": {},
   "source": [
    "Metadata in NIX files is stored in the [odML format](https://g-node.github.io/python-odml) and is saved side by side with the actual \"DataTree\" in a \"MetadataTree\" but can easily be connected to Data in the DataTree."
   ]
  },
  {
   "cell_type": "markdown",
   "metadata": {},
   "source": [
    "odML is a hierarchically structured data format that provides grouping in nestable `Sections` and stores information in `Property`-`Value` pairs."
   ]
  },
  {
   "cell_type": "markdown",
   "metadata": {},
   "source": [
    "## The odml data model\n",
    "![](./resources/nix_odML_model_simplified.png)"
   ]
  },
  {
   "cell_type": "markdown",
   "metadata": {},
   "source": [
    "On a conceptual level, data and metadata in a NIX file live side by side in parallel trees. The different layers can be connected from the data side to the metadata side. Corresponding data can be retrieved when exploring the metadata tree."
   ]
  },
  {
   "cell_type": "markdown",
   "metadata": {},
   "source": [
    "    -----------Nix File---\n",
    "    ├─ Section           ├─ Block\n",
    "    |  ├─ Section        |  ├─ DataArray\n",
    "    |  |  └─ Property    |  ├─ DataArray\n",
    "    |  └─ Section        |  ├─ Tag\n",
    "    |     └─ Property    |  └─ Multitag\n",
    "    └─ Section           └─ Block\n",
    "       └─ Section           ├─ DataArray\n",
    "          ├─ Property       ├─ DataArray\n",
    "          ├─ Property       └─ Group\n",
    "          └─ Property                    \n"
   ]
  },
  {
   "cell_type": "code",
   "execution_count": null,
   "metadata": {},
   "outputs": [],
   "source": [
    "# Let us annotate a DataArray of our last example.\n",
    "\n",
    "# As we can see, we have not stored any metadata in our current file yet.\n",
    "f.sections\n"
   ]
  },
  {
   "cell_type": "code",
   "execution_count": null,
   "metadata": {},
   "outputs": [],
   "source": [
    "# Lets check how we can create a new Section.\n",
    "help(f.create_section)\n"
   ]
  },
  {
   "cell_type": "code",
   "execution_count": null,
   "metadata": {},
   "outputs": [],
   "source": [
    "# First we need to create a Section that can hold our annotations.\n",
    "section = f.create_section(name=\"experiment_42\", type_=\"project_AB\")\n",
    "\n",
    "f.sections\n"
   ]
  },
  {
   "cell_type": "code",
   "execution_count": null,
   "metadata": {},
   "outputs": [],
   "source": [
    "# This Section can hold further Sections as well as Properties.\n",
    "section.sections\n"
   ]
  },
  {
   "cell_type": "code",
   "execution_count": null,
   "metadata": {},
   "outputs": [],
   "source": [
    "section.props"
   ]
  },
  {
   "cell_type": "code",
   "execution_count": null,
   "metadata": {},
   "outputs": [],
   "source": [
    "# Lets store additional information about the raw data of our MultiTag example.\n",
    "\n",
    "# We want to add information about the subject that was used in the experiment.\n",
    "sub_sec = section.create_section(name=\"subject\", type_=\"experiment_42\")\n"
   ]
  },
  {
   "cell_type": "code",
   "execution_count": null,
   "metadata": {},
   "outputs": [],
   "source": [
    "# Lets add some Properties to this Section\n",
    "help(sub_sec.create_property)\n"
   ]
  },
  {
   "cell_type": "code",
   "execution_count": null,
   "metadata": {},
   "outputs": [],
   "source": [
    "# We'll add information about subjectID, subject species and subject age. \n",
    "prop = sub_sec.create_property(name=\"subjectID\", values_or_dtype=\"78376446-f096-47b9-8bfe-ce1eb43a48dc\")\n",
    "prop = sub_sec.create_property(name=\"species\", values_or_dtype=\"Mus Musculus\")\n",
    "prop = sub_sec.create_property(name=\"age\", values_or_dtype=\"4\")\n",
    "prop.unit = \"weeks\"\n"
   ]
  },
  {
   "cell_type": "code",
   "execution_count": null,
   "metadata": {},
   "outputs": [],
   "source": [
    "# Lets check what we have so far at the root of the file.\n",
    "f.sections\n"
   ]
  },
  {
   "cell_type": "code",
   "execution_count": null,
   "metadata": {},
   "outputs": [],
   "source": [
    "# We list all Sections that our main Section documenting our \"tag_example\" holds.\n",
    "f.sections['experiment_42'].sections\n"
   ]
  },
  {
   "cell_type": "code",
   "execution_count": null,
   "metadata": {},
   "outputs": [],
   "source": [
    "# We access all Properties of the subsection containing subject related information.\n",
    "f.sections['experiment_42'].sections['subject'].props\n"
   ]
  },
  {
   "cell_type": "code",
   "execution_count": null,
   "metadata": {},
   "outputs": [],
   "source": [
    "# We can now connect the Section describing our experiment directly to the MultiTag \n",
    "#  that references both the raw as well as the analysed data.\n",
    "\n",
    "multi_tag = f.blocks['tag_examples'].multi_tags['tag_A']\n",
    "multi_tag.metadata = f.sections['experiment_42']\n"
   ]
  },
  {
   "cell_type": "code",
   "execution_count": null,
   "metadata": {},
   "outputs": [],
   "source": [
    "# Now when we look at the data via a MultiTag we can directly access all metadata that has been attached to it.\n",
    "# E.g. get information about the subject the experiment was conducted with.\n",
    "multi_tag.metadata.sections['subject'].props\n"
   ]
  },
  {
   "cell_type": "code",
   "execution_count": null,
   "metadata": {},
   "outputs": [],
   "source": [
    "# We can also attach the same Section to the raw DataArray itself e.g. when no MultTags have been used.\n",
    "init_data = f.blocks['tag_examples'].data_arrays['membrane_voltage_A']\n",
    "init_data.metadata = f.sections['experiment_42']\n"
   ]
  },
  {
   "cell_type": "code",
   "execution_count": null,
   "metadata": {},
   "outputs": [],
   "source": [
    "# And we can also find it in reverse: we can select a Section and find all data, that are connected to it.\n",
    "sec = f.sections['experiment_42']\n",
    "\n",
    "# Either via connected DataArrays.\n",
    "sec.referring_data_arrays\n"
   ]
  },
  {
   "cell_type": "code",
   "execution_count": null,
   "metadata": {},
   "outputs": [],
   "source": [
    "# Or via connected MultiTags.\n",
    "sec.referring_multi_tags\n"
   ]
  },
  {
   "cell_type": "code",
   "execution_count": null,
   "metadata": {},
   "outputs": [],
   "source": [
    "# And finally we close our file.\n",
    "f.close()\n"
   ]
  },
  {
   "cell_type": "markdown",
   "metadata": {},
   "source": [
    "## Try it out\n",
    "\n",
    "Now we move on to an actual exercise.\n",
    "\n",
    "The public repository https://gin.g-node.org/RDMcourse2020/demo-lecture-07 contains a Jupyter notebook \"2020_RDM_course_nix_exercise.ipynb\".\n",
    "\n",
    "Start it either\n",
    "- locally if you can use Python and make sure all dependencies are installed.\n",
    "- or use Binder if you cannot use Python locally. The repository is already set up for the use with Binder. Check the last lecture if you are unsure how to start the notebook using Binder.\n",
    "\n",
    "This repository further contains a folder called \"excercise\". It contains calcium imaging data and rough metadata about the recordings.\n",
    "\n",
    "The exercise is to\n",
    "- read through the README.md and briefly familiarize yourself with the project and the data.\n",
    "- load the raw data to the notebook. Ideally transfer the \"obj_substracted\" column from the data files (column 3) but it can be any other column as well.\n",
    "- the \"time_elapsed\" column is roughly 100ms. If you want to you can use a SampledDimension with an interval of 100 which should be easier or try to include the real times as a RangeDimension.\n",
    "- create a new NIX file and put the raw data traces into NIX DataArrays including labels and units - note that the signal is Flourescence with unit AU (arbitrary unit). \n",
    "- plot data from these DataArrays.\n",
    "- read through the metadata, try to put useful metadata into a NIX Section/Property structure and connect it to the DataArrays. Examples would be\n",
    "  - original file names of raw data files.\n",
    "  - species.\n",
    "  - recording equipment.\n",
    "\n",
    "- identify and specify a region of interest via the used shift paradigm with start and extent and try to create a MultiTag connecting all three DataArrays via the same paradigm MultiTag.\n",
    "\n",
    "Alternatively you can also take some of your own data and try to put it into a NIX file along with some of your metadata."
   ]
  }
 ],
 "metadata": {
  "kernelspec": {
   "display_name": "Python 3",
   "language": "python",
   "name": "python3"
  },
  "language_info": {
   "codemirror_mode": {
    "name": "ipython",
    "version": 3
   },
   "file_extension": ".py",
   "mimetype": "text/x-python",
   "name": "python",
   "nbconvert_exporter": "python",
   "pygments_lexer": "ipython3",
   "version": "3.8.3"
  }
 },
 "nbformat": 4,
 "nbformat_minor": 2
}
