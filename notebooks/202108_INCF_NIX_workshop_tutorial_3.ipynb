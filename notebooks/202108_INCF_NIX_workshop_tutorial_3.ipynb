{
 "cells": [
  {
   "cell_type": "markdown",
   "metadata": {},
   "source": [
    "## Data and Metadata (data annotation) - Tutorial 3"
   ]
  },
  {
   "cell_type": "markdown",
   "metadata": {},
   "source": [
    "### What are metadata and why are they needed?"
   ]
  },
  {
   "cell_type": "markdown",
   "metadata": {},
   "source": [
    "Metadata are data about data. As a non-scientific example: *title*, *date* or *director* of a *movie* are metadata.\n",
    "\n",
    "In science metadata describe the conditions under which the raw data of an experimental study were acquired or analysed.\n",
    "\n",
    "Metadata can be anything that is related to an experiment or an analysis step:\n",
    "- stimulus; protocols\n",
    "- environmental factors e.g. temperature, gas or liquid concentrations, ...\n",
    "- operational information e.g. experimenter, date, time, ...\n",
    "- subject information e.g. animal strain, history, ...\n",
    "- hardware and software used, versions, updates and customizations\n",
    "- settings\n",
    "\n",
    "Traditionally, actively collected metadata will be found in spreadsheets or lab books. Further metadata is found in raw data files (header or manufacturer documentation), hardware information, code comments, etc.\n",
    "\n",
    "All of these information might be required to fully understand how an experiment was conducted and the data analysed.\n",
    "\n",
    "The organization of such metadata and their accessibility is not a trivial task, most laboratories developed their home-made solutions over time to keep track of their metadata. The collection and organization of these metadata in its own right is a tough job since experiments are diverse and may even change over time.\n",
    "\n",
    "Metadata is especially important when trying to make sense of data \n",
    "- that you are not familiar with\n",
    "- that you have not worked with for a while\n",
    "\n",
    "A hard issue in this respect is that most of the metadata information is usually disconnected from the data it belongs to; searching data and retrieving the corresponding metadata or vice versa is usually not trivial, especially after a period of time has passed.\n",
    "\n",
    "With NIX, metadata can be stored alongside the data it belongs to.\n",
    "\n",
    "The process of collecting the metadata can be automatized and the results are machine readable and can be searched programatically."
   ]
  },
  {
   "cell_type": "markdown",
   "metadata": {},
   "source": [
    "## Data and data annotation in the same NIX file"
   ]
  },
  {
   "cell_type": "markdown",
   "metadata": {},
   "source": [
    "The entities of the NIX data model that were discussed so far carry enough information to get sufficient knowledge to understand the stored data (dimensions, units, labels). Often much more information than that is required to fully interpret the underlying experiment."
   ]
  },
  {
   "cell_type": "markdown",
   "metadata": {},
   "source": [
    "NIX does not only allow to save initial data and analysed data within the same file. It also allows to create structured annotations of the experiments that were conducted and connects this information directly with the data."
   ]
  },
  {
   "cell_type": "markdown",
   "metadata": {},
   "source": [
    "Metadata in NIX files is stored in the [odML format](https://g-node.github.io/python-odml):\n",
    "- odML is a hierarchically structured data format that provides grouping in nestable `Sections`.\n",
    "- `Sections` can hold both `Sections` and `Properties`.\n",
    "- metadata information is stored in `Property`-`Value` pairs.\n",
    "- `Sections` are the main structural elements, while `Properties` hold the actual metadata information."
   ]
  },
  {
   "cell_type": "code",
   "execution_count": null,
   "metadata": {},
   "outputs": [],
   "source": []
  },
  {
   "cell_type": "markdown",
   "metadata": {},
   "source": [
    "### The odml data model in NIX\n",
    "![](./resources/nix_odML_model_simplified.png)"
   ]
  },
  {
   "cell_type": "markdown",
   "metadata": {},
   "source": [
    " On a conceptual level, data and metadata in a NIX file live side by side in parallel trees. The different layers can be connected from the data tree to the metadata tree. Corresponding data can be retrieved when exploring the metadata tree."
   ]
  },
  {
   "cell_type": "markdown",
   "metadata": {},
   "source": [
    "    --------------- NIX File --------\n",
    "    ├─ Section              <---     ├─ Block\n",
    "    |  ├─ Section                    |  ├─ DataArray\n",
    "    |  |  └─ Property                |  ├─ DataArray\n",
    "    |  └─ Section                    |  ├─ Tag\n",
    "    |     └─ Property                |  └─ Multitag\n",
    "    └─ Section              <---     └─ Block\n",
    "       └─ Section           <---        ├─ DataArray\n",
    "          ├─ Property                   ├─ DataArray\n",
    "          ├─ Property                   └─ Group\n",
    "          └─ Property                    \n"
   ]
  },
  {
   "cell_type": "markdown",
   "metadata": {},
   "source": [
    "# Storing metadata in NIX"
   ]
  },
  {
   "cell_type": "markdown",
   "metadata": {},
   "source": [
    "## Metadata basics: creating Section-Property trees and navigation"
   ]
  },
  {
   "cell_type": "markdown",
   "metadata": {},
   "source": [
    "To introduce the usage of metadata functions in NIX, we'll keep it simple and abstract for now."
   ]
  },
  {
   "cell_type": "code",
   "execution_count": 1,
   "metadata": {},
   "outputs": [],
   "source": [
    "import nixio\n"
   ]
  },
  {
   "cell_type": "code",
   "execution_count": 2,
   "metadata": {},
   "outputs": [],
   "source": [
    "# Lets explore the metadata functions of NIX before going more into detail\n",
    "# We will re-use this file throughout the following examples\n",
    "f = nixio.File.open(\"metadata.nix\", nixio.FileMode.Overwrite)\n"
   ]
  },
  {
   "cell_type": "code",
   "execution_count": 3,
   "metadata": {},
   "outputs": [
    {
     "name": "stdout",
     "output_type": "stream",
     "text": [
      "[]\n"
     ]
    }
   ],
   "source": [
    "# As expected there are no metadata in our current file yet.\n",
    "print(f.sections)\n"
   ]
  },
  {
   "cell_type": "code",
   "execution_count": 4,
   "metadata": {},
   "outputs": [
    {
     "name": "stdout",
     "output_type": "stream",
     "text": [
      "Help on method create_section in module nixio.file:\n",
      "\n",
      "create_section(name, type_='undefined', oid=None) method of nixio.file.File instance\n",
      "    Create a new metadata section inside the file.\n",
      "    \n",
      "    :param name: The name of the section to create.\n",
      "    :type name: str\n",
      "    :param type_: The type of the section.\n",
      "    :type type_: str\n",
      "    :param oid: object id, UUID string as specified in RFC 4122. If no id\n",
      "                is provided, an id will be generated and assigned.\n",
      "    :type oid: str\n",
      "    \n",
      "    :returns: The newly created section.\n",
      "    :rtype: nixio.Section\n",
      "\n"
     ]
    }
   ],
   "source": [
    "# Lets check how we can create a new Section. Sections can be created from File and Section objects.\n",
    "help(f.create_section)\n"
   ]
  },
  {
   "cell_type": "markdown",
   "metadata": {},
   "source": [
    "You can find the class information including all available methods in the nixpy readthedocs API entry for [nix.sections](https://nixpy.readthedocs.io/en/latest/api/nixio.html#module-nixio.section)."
   ]
  },
  {
   "cell_type": "code",
   "execution_count": 5,
   "metadata": {},
   "outputs": [
    {
     "data": {
      "text/plain": [
       "[Section: {name = recording.20210405, type = raw.data.recording}]"
      ]
     },
     "execution_count": 5,
     "metadata": {},
     "output_type": "execute_result"
    }
   ],
   "source": [
    "# First we need to create a Section that can hold our annotations. \n",
    "sec = f.create_section(name=\"recording.20210405\", \n",
    "                       type_=\"raw.data.recording\")\n",
    "\n",
    "f.sections\n"
   ]
  },
  {
   "cell_type": "code",
   "execution_count": 6,
   "metadata": {},
   "outputs": [
    {
     "ename": "DuplicateName",
     "evalue": "Duplicate name - names have to be unique for a given entity type & parent. (create_section)",
     "output_type": "error",
     "traceback": [
      "\u001b[0;31m---------------------------------------------------------------------------\u001b[0m",
      "\u001b[0;31mDuplicateName\u001b[0m                             Traceback (most recent call last)",
      "\u001b[0;32m<ipython-input-6-d651929835fc>\u001b[0m in \u001b[0;36m<module>\u001b[0;34m\u001b[0m\n\u001b[1;32m      2\u001b[0m \u001b[0;31m# level have to be unique. Otherwise a 'DuplicateName' exception\u001b[0m\u001b[0;34m\u001b[0m\u001b[0;34m\u001b[0m\u001b[0;34m\u001b[0m\u001b[0m\n\u001b[1;32m      3\u001b[0m \u001b[0;31m# will be raised.\u001b[0m\u001b[0;34m\u001b[0m\u001b[0;34m\u001b[0m\u001b[0;34m\u001b[0m\u001b[0m\n\u001b[0;32m----> 4\u001b[0;31m section = f.create_section(name=\"recording.20210405\", \n\u001b[0m\u001b[1;32m      5\u001b[0m                            type_=\"raw.data.recording\")\n",
      "\u001b[0;32m~/Chaos/software/miniconda3/envs/work/lib/python3.9/site-packages/nixio/file.py\u001b[0m in \u001b[0;36mcreate_section\u001b[0;34m(self, name, type_, oid)\u001b[0m\n\u001b[1;32m    443\u001b[0m         \"\"\"\n\u001b[1;32m    444\u001b[0m         \u001b[0;32mif\u001b[0m \u001b[0mname\u001b[0m \u001b[0;32min\u001b[0m \u001b[0mself\u001b[0m\u001b[0;34m.\u001b[0m\u001b[0msections\u001b[0m\u001b[0;34m:\u001b[0m\u001b[0;34m\u001b[0m\u001b[0;34m\u001b[0m\u001b[0m\n\u001b[0;32m--> 445\u001b[0;31m             \u001b[0;32mraise\u001b[0m \u001b[0mDuplicateName\u001b[0m\u001b[0;34m(\u001b[0m\u001b[0;34m\"create_section\"\u001b[0m\u001b[0;34m)\u001b[0m\u001b[0;34m\u001b[0m\u001b[0;34m\u001b[0m\u001b[0m\n\u001b[0m\u001b[1;32m    446\u001b[0m         \u001b[0msec\u001b[0m \u001b[0;34m=\u001b[0m \u001b[0mSection\u001b[0m\u001b[0;34m.\u001b[0m\u001b[0mcreate_new\u001b[0m\u001b[0;34m(\u001b[0m\u001b[0mself\u001b[0m\u001b[0;34m,\u001b[0m \u001b[0mself\u001b[0m\u001b[0;34m,\u001b[0m \u001b[0mself\u001b[0m\u001b[0;34m.\u001b[0m\u001b[0m_metadata\u001b[0m\u001b[0;34m,\u001b[0m \u001b[0mname\u001b[0m\u001b[0;34m,\u001b[0m \u001b[0mtype_\u001b[0m\u001b[0;34m,\u001b[0m \u001b[0moid\u001b[0m\u001b[0;34m)\u001b[0m\u001b[0;34m\u001b[0m\u001b[0;34m\u001b[0m\u001b[0m\n\u001b[1;32m    447\u001b[0m         \u001b[0;32mreturn\u001b[0m \u001b[0msec\u001b[0m\u001b[0;34m\u001b[0m\u001b[0;34m\u001b[0m\u001b[0m\n",
      "\u001b[0;31mDuplicateName\u001b[0m: Duplicate name - names have to be unique for a given entity type & parent. (create_section)"
     ]
    }
   ],
   "source": [
    "# Like other NIX objects Section (and Property) names on the same \n",
    "# level have to be unique. Otherwise a 'DuplicateName' exception \n",
    "# will be raised.\n",
    "section = f.create_section(name=\"recording.20210405\", \n",
    "                           type_=\"raw.data.recording\")"
   ]
  },
  {
   "cell_type": "code",
   "execution_count": 8,
   "metadata": {},
   "outputs": [
    {
     "data": {
      "text/plain": [
       "[]"
      ]
     },
     "execution_count": 8,
     "metadata": {},
     "output_type": "execute_result"
    }
   ],
   "source": [
    "# Sections can hold further multiple Sections as well as \n",
    "# multiple Properties.\n",
    "sec.sections\n"
   ]
  },
  {
   "cell_type": "code",
   "execution_count": 9,
   "metadata": {},
   "outputs": [
    {
     "data": {
      "text/plain": [
       "[]"
      ]
     },
     "execution_count": 9,
     "metadata": {},
     "output_type": "execute_result"
    }
   ],
   "source": [
    "# The section currently does not contain any Properties.\n",
    "sec.props"
   ]
  },
  {
   "cell_type": "code",
   "execution_count": 11,
   "metadata": {},
   "outputs": [],
   "source": [
    "# We want to add information about a subject that was used in the \n",
    "# experiment.\n",
    "sub_sec = sec.create_section(name=\"subject\", \n",
    "                             type_=\"raw.data.recording\")\n"
   ]
  },
  {
   "cell_type": "code",
   "execution_count": 12,
   "metadata": {},
   "outputs": [
    {
     "name": "stdout",
     "output_type": "stream",
     "text": [
      "Help on method create_property in module nixio.section:\n",
      "\n",
      "create_property(name='', values_or_dtype=0, oid=None, copy_from=None, keep_copy_id=True) method of nixio.section.Section instance\n",
      "    Add a new property to the section.\n",
      "    \n",
      "    :param name: The name of the property to create/copy.\n",
      "    :type name: str\n",
      "    :param values_or_dtype: The values of the property or a valid DataType.\n",
      "    :type values_or_dtype: list of values or a nixio.DataType\n",
      "    :param oid: object id, UUID string as specified in RFC 4122. If no id\n",
      "                is provided, an id will be generated and assigned.\n",
      "    :type oid: str\n",
      "    :param copy_from: The Property to be copied, None in normal mode\n",
      "    :type copy_from: nixio.Property\n",
      "    :param keep_copy_id: Specify if the id should be copied in copy mode\n",
      "    :type keep_copy_id: bool\n",
      "    \n",
      "    :returns: The newly created property.\n",
      "    :rtype: nixio.Property\n",
      "\n"
     ]
    }
   ],
   "source": [
    "# Properties can be created from Section objects.\n",
    "help(sub_sec.create_property)\n"
   ]
  },
  {
   "cell_type": "markdown",
   "metadata": {},
   "source": [
    "Again, you can find all class information in the nixpy readthedocs API entry for [nix.property](https://nixpy.readthedocs.io/en/latest/api/nixio.html#module-nixio.property)."
   ]
  },
  {
   "cell_type": "code",
   "execution_count": 13,
   "metadata": {},
   "outputs": [],
   "source": [
    "# We'll add metadata about subjectID, subject species and \n",
    "# subject age as Properties to the \"Subject\" section.\n",
    "_ = sub_sec.create_property(name=\"subjectID\", \n",
    "                            values_or_dtype=\"78376446-f096-47b9-8bfe-ce1eb43a48dc\")\n",
    "\n",
    "_ = sub_sec.create_property(name=\"species\", \n",
    "                            values_or_dtype=\"Mus Musculus\")\n",
    "\n",
    "# To fully describe metadata, properties support saving \"unit\" \n",
    "# and \"uncertainty\" together with values.\n",
    "prop = sub_sec.create_property(name=\"age\", \n",
    "                               values_or_dtype=\"4\")\n",
    "\n",
    "prop.unit = \"weeks\"\n",
    "# prop.uncertainty"
   ]
  },
  {
   "cell_type": "code",
   "execution_count": 14,
   "metadata": {},
   "outputs": [
    {
     "data": {
      "text/plain": [
       "[Section: {name = recording.20210405, type = raw.data.recording}]"
      ]
     },
     "execution_count": 14,
     "metadata": {},
     "output_type": "execute_result"
    }
   ],
   "source": [
    "# Lets check what we have so far at the root of the file.\n",
    "f.sections\n"
   ]
  },
  {
   "cell_type": "code",
   "execution_count": 15,
   "metadata": {},
   "outputs": [
    {
     "name": "stdout",
     "output_type": "stream",
     "text": [
      "File: name = metadata.nix\n",
      "  recording.20210405 [raw.data.recording]\n",
      "    subject [raw.data.recording]\n",
      "        |- subjectID: ('78376446-f096-47b9-8bfe-ce1eb43a48dc',)\n",
      "        |- species: ('Mus Musculus',)\n",
      "        |- age: ('4',)weeks\n"
     ]
    }
   ],
   "source": [
    "# File and Sections also support the \"pprint\" function to make it easier \n",
    "# to get an overview of the contents of the metadata tree.\n",
    "f.pprint()"
   ]
  },
  {
   "cell_type": "code",
   "execution_count": 16,
   "metadata": {},
   "outputs": [
    {
     "data": {
      "text/plain": [
       "[Property: {name = subjectID}, Property: {name = species}, Property: {name = age}]"
      ]
     },
     "execution_count": 16,
     "metadata": {},
     "output_type": "execute_result"
    }
   ],
   "source": [
    "# We access all Properties of the subsection containing subject related \n",
    "# information.\n",
    "# Sections can be accessed via index or via name\n",
    "f.sections[0].sections['subject'].props\n"
   ]
  },
  {
   "cell_type": "code",
   "execution_count": 17,
   "metadata": {},
   "outputs": [
    {
     "name": "stdout",
     "output_type": "stream",
     "text": [
      "subject [raw.data.recording]\n",
      "    |- subjectID: ('78376446-f096-47b9-8bfe-ce1eb43a48dc',)\n",
      "    |- species: ('Mus Musculus',)\n",
      "    |- age: ('4',)weeks\n"
     ]
    }
   ],
   "source": [
    "# We can also again use the pprint function\n",
    "f.sections[0].sections['subject'].pprint()"
   ]
  },
  {
   "cell_type": "code",
   "execution_count": 18,
   "metadata": {},
   "outputs": [],
   "source": [
    "f.close()"
   ]
  },
  {
   "cell_type": "markdown",
   "metadata": {},
   "source": [
    "## Connecting data and metadata"
   ]
  },
  {
   "cell_type": "markdown",
   "metadata": {},
   "source": [
    "Until now we have seen how to create and store metadata in NIX files. Now we can check how to connect them to actual data."
   ]
  },
  {
   "cell_type": "code",
   "execution_count": 19,
   "metadata": {},
   "outputs": [],
   "source": [
    "f = nixio.File.open(\"metadata.nix\", nixio.FileMode.ReadWrite)"
   ]
  },
  {
   "cell_type": "code",
   "execution_count": 20,
   "metadata": {},
   "outputs": [],
   "source": [
    "# We'll add some minimal abstract data\n",
    "rec_block = f.create_block(name=\"project.recordings\", \n",
    "                           type_=\"example.raw.data\")"
   ]
  },
  {
   "cell_type": "code",
   "execution_count": 21,
   "metadata": {},
   "outputs": [
    {
     "data": {
      "text/plain": [
       "SampledDimension: {index = 1}"
      ]
     },
     "execution_count": 21,
     "metadata": {},
     "output_type": "execute_result"
    }
   ],
   "source": [
    "example_data_01 = [2, 2, 2, 6, 6, 6, 6, 2, 2, 2]\n",
    "da = rec_block.create_data_array(name=\"recording.20210405\", \n",
    "                                 array_type=\"shift.data\", \n",
    "                                 data=example_data_01,\n",
    "                                 label=\"df/f\")\n",
    "\n",
    "da.append_sampled_dimension(0.001, label=\"time\", unit=\"s\")"
   ]
  },
  {
   "cell_type": "code",
   "execution_count": 22,
   "metadata": {},
   "outputs": [
    {
     "data": {
      "text/plain": [
       "SampledDimension: {index = 1}"
      ]
     },
     "execution_count": 22,
     "metadata": {},
     "output_type": "execute_result"
    }
   ],
   "source": [
    "example_data_02 = [2, 2, 2, 8, 8, 8, 8, 2, 2, 2]\n",
    "da = rec_block.create_data_array(name=\"recording.20210505.01\", \n",
    "                                 array_type=\"shift.data\", \n",
    "                                 data=example_data_02,\n",
    "                                 label=\"df/f\")\n",
    "\n",
    "da.append_sampled_dimension(0.001, label=\"time\", unit=\"s\")"
   ]
  },
  {
   "cell_type": "code",
   "execution_count": 23,
   "metadata": {},
   "outputs": [],
   "source": [
    "# We'll also create a NIX Tag, that will reference a specific region \n",
    "# in the data.\n",
    "stim_on = 4\n",
    "stim_off = 8\n",
    "# We create the Tag on the same Block as the DataArrays \n",
    "# it should reference.\n",
    "stimulus_tag = rec_block.create_tag(\"stimulus.down.3\", \n",
    "                                    \"stimulus.shift\", \n",
    "                                    position=[stim_on])\n",
    "\n",
    "stimulus_tag.extent = [stim_off - stim_on]\n",
    "\n",
    "# We append the DataArrays of both experiments to the tag\n",
    "stimulus_tag.references.append(f.blocks[\"project.recordings\"].data_arrays[\"recording.20210405\"])\n",
    "stimulus_tag.references.append(f.blocks[\"project.recordings\"].data_arrays[\"recording.20210505.01\"])"
   ]
  },
  {
   "cell_type": "code",
   "execution_count": 24,
   "metadata": {},
   "outputs": [],
   "source": [
    "# Now we want to hook up the DataArrays and the Tag to more information;\n",
    "# to the metadata we have defined before.\n",
    "\n",
    "# We will only reference the appropriate metadata for recording 20210405, \n",
    "# since we have not defined metadata for the second recording yet.\n",
    "\n",
    "# We'll set the metadata for both data array and tag\n",
    "f.blocks[\"project.recordings\"].data_arrays[\"recording.20210405\"].metadata = f.sections[\"recording.20210405\"]\n",
    "f.blocks[\"project.recordings\"].tags[\"stimulus.down.3\"].metadata = f.sections[\"recording.20210405\"]\n"
   ]
  },
  {
   "cell_type": "code",
   "execution_count": 25,
   "metadata": {},
   "outputs": [
    {
     "name": "stdout",
     "output_type": "stream",
     "text": [
      "recording.20210405 [raw.data.recording]\n",
      "  subject [raw.data.recording]\n",
      "      |- subjectID: ('78376446-f096-47b9-8bfe-ce1eb43a48dc',)\n",
      "      |- species: ('Mus Musculus',)\n",
      "      |- age: ('4',)weeks\n"
     ]
    }
   ],
   "source": [
    "# We can now access the metadata from DataArray and Tag:\n",
    "f.blocks[\"project.recordings\"].data_arrays[\"recording.20210405\"].metadata.pprint()\n"
   ]
  },
  {
   "cell_type": "code",
   "execution_count": 26,
   "metadata": {},
   "outputs": [
    {
     "name": "stdout",
     "output_type": "stream",
     "text": [
      "recording.20210405 [raw.data.recording]\n",
      "  subject [raw.data.recording]\n",
      "      |- subjectID: ('78376446-f096-47b9-8bfe-ce1eb43a48dc',)\n",
      "      |- species: ('Mus Musculus',)\n",
      "      |- age: ('4',)weeks\n"
     ]
    }
   ],
   "source": [
    "f.blocks[\"project.recordings\"].tags[\"stimulus.down.3\"].metadata.pprint()\n"
   ]
  },
  {
   "cell_type": "code",
   "execution_count": 27,
   "metadata": {},
   "outputs": [],
   "source": [
    "f.blocks[\"project.recordings\"].data_arrays[\"recording.20210505.01\"].metadata\n"
   ]
  },
  {
   "cell_type": "code",
   "execution_count": 28,
   "metadata": {},
   "outputs": [
    {
     "data": {
      "text/plain": [
       "[DataArray: {name = recording.20210405, type = shift.data}]"
      ]
     },
     "execution_count": 28,
     "metadata": {},
     "output_type": "execute_result"
    }
   ],
   "source": [
    "# We can also access DataArrays via the metadata\n",
    "f.sections[\"recording.20210405\"].referring_data_arrays"
   ]
  },
  {
   "cell_type": "code",
   "execution_count": 29,
   "metadata": {},
   "outputs": [
    {
     "data": {
      "text/plain": [
       "[Tag: {name = stimulus.down.3, type = stimulus.shift}]"
      ]
     },
     "execution_count": 29,
     "metadata": {},
     "output_type": "execute_result"
    }
   ],
   "source": [
    "f.sections[\"recording.20210405\"].referring_tags"
   ]
  },
  {
   "cell_type": "code",
   "execution_count": 30,
   "metadata": {},
   "outputs": [
    {
     "data": {
      "text/plain": [
       "[DataArray: {name = recording.20210405, type = shift.data},\n",
       " Tag: {name = stimulus.down.3, type = stimulus.shift}]"
      ]
     },
     "execution_count": 30,
     "metadata": {},
     "output_type": "execute_result"
    }
   ],
   "source": [
    "# The referring_objects method is a shortcut to all references\n",
    "# of a section\n",
    "f.sections[\"recording.20210405\"].referring_objects"
   ]
  },
  {
   "cell_type": "code",
   "execution_count": 31,
   "metadata": {},
   "outputs": [
    {
     "data": {
      "text/plain": [
       "[]"
      ]
     },
     "execution_count": 31,
     "metadata": {},
     "output_type": "execute_result"
    }
   ],
   "source": [
    "f.sections[\"recording.20210405\"].referring_blocks"
   ]
  },
  {
   "cell_type": "code",
   "execution_count": 32,
   "metadata": {},
   "outputs": [
    {
     "data": {
      "text/plain": [
       "[]"
      ]
     },
     "execution_count": 32,
     "metadata": {},
     "output_type": "execute_result"
    }
   ],
   "source": [
    "f.sections[\"recording.20210405\"].referring_groups\n"
   ]
  },
  {
   "cell_type": "code",
   "execution_count": 33,
   "metadata": {},
   "outputs": [
    {
     "data": {
      "text/plain": [
       "[]"
      ]
     },
     "execution_count": 33,
     "metadata": {},
     "output_type": "execute_result"
    }
   ],
   "source": [
    "f.sections[\"recording.20210405\"].referring_multi_tags"
   ]
  },
  {
   "cell_type": "code",
   "execution_count": 34,
   "metadata": {},
   "outputs": [],
   "source": [
    "f.close()"
   ]
  },
  {
   "cell_type": "markdown",
   "metadata": {},
   "source": [
    "## Automated handling of metadata"
   ]
  },
  {
   "cell_type": "markdown",
   "metadata": {},
   "source": [
    "Metadata can become quite complex and it can become tedious to create large trees over and over again. To this end, \"template\" sections can be created and re-used.\n",
    "\n",
    "As an example: when running an experiment, there usually are a couple of different stimulus protocols or one or two hardware setups, but the stimulus or the hardware itself does not change. When adding data to an existing NIX file, the hardware metadata can be pre-defined for these setups and attached to the specific experimental data once it is stored in the file."
   ]
  },
  {
   "cell_type": "code",
   "execution_count": 35,
   "metadata": {},
   "outputs": [],
   "source": [
    "# The file that will contain templates for import\n",
    "ft = nixio.File.open(\"metadata_templates.nix\", nixio.FileMode.Overwrite)\n",
    "\n",
    "# The current example file will contain the data and will import from the templates file\n",
    "fi = nixio.File.open(\"metadata.nix\", nixio.FileMode.ReadWrite)"
   ]
  },
  {
   "cell_type": "code",
   "execution_count": 36,
   "metadata": {},
   "outputs": [],
   "source": [
    "# We will add basic templates representing two similar imaginative \n",
    "# microscope setups with slightly different metadata.\n",
    "sec_micro_A = ft.create_section(name=\"microscope_station_A\", \n",
    "                                type_=\"hardware.microscopes\")\n",
    "_ = sec_micro_A.create_property(name=\"Manufacturer\", \n",
    "                                values_or_dtype=\"Company A\")\n",
    "_ = sec_micro_A.create_property(name=\"Objective\", \n",
    "                                values_or_dtype=\"Pln Apo 40x/1.3 oil DIC II\")\n",
    "_ = sec_micro_A.create_property(name=\"pE LED intensity\", \n",
    "                                values_or_dtype=\"20\")\n",
    "\n",
    "sec_micro_B = ft.create_section(name=\"microscope_station_B\", \n",
    "                                type_=\"hardware.microscopes\")\n",
    "_ = sec_micro_B.create_property(name=\"Manufacturer\", \n",
    "                                values_or_dtype=\"Company B\")\n",
    "_ = sec_micro_B.create_property(name=\"Objective\", \n",
    "                                values_or_dtype=\"Pln Apo 40x/1.3 oil DIC II\")\n",
    "_ = sec_micro_B.create_property(name=\"pE LED intensity\", \n",
    "                                values_or_dtype=\"30\")\n"
   ]
  },
  {
   "cell_type": "code",
   "execution_count": 37,
   "metadata": {},
   "outputs": [
    {
     "name": "stdout",
     "output_type": "stream",
     "text": [
      "File: name = metadata_templates.nix\n",
      "  microscope_station_A [hardware.microscopes]\n",
      "      |- Manufacturer: ('Company A',)\n",
      "      |- Objective: ('Pln Apo 40x/1.3 oil DIC II',)\n",
      "      |- pE LED intensity: ('20',)\n",
      "  microscope_station_B [hardware.microscopes]\n",
      "      |- Manufacturer: ('Company B',)\n",
      "      |- Objective: ('Pln Apo 40x/1.3 oil DIC II',)\n",
      "      |- pE LED intensity: ('30',)\n"
     ]
    }
   ],
   "source": [
    "# The root \"templates\" section now contains two microscope setup templates\n",
    "ft.pprint(max_depth=2)"
   ]
  },
  {
   "cell_type": "markdown",
   "metadata": {},
   "source": [
    "When running an experiment and adding new data to the NIX file, the appropriate, full template can be copied and added."
   ]
  },
  {
   "cell_type": "code",
   "execution_count": 38,
   "metadata": {},
   "outputs": [
    {
     "data": {
      "text/plain": [
       "Section: {name = microscope_station_A, type = hardware.microscopes}"
      ]
     },
     "execution_count": 38,
     "metadata": {},
     "output_type": "execute_result"
    }
   ],
   "source": [
    "# Create a base section in the recording session file.\n",
    "sec_ses = fi.create_section(name=\"sessions\")\n",
    "\n",
    "# On three different days experiments are added and the used setup \n",
    "# is documented using the templates:\n",
    "sec_session01 = fi.sections[\"sessions\"].create_section(name=\"recording.20210505.01\", \n",
    "                                                       type_=\"raw-data.ca-imaging\")\n",
    "\n",
    "sec_setup_A = ft.sections[\"microscope_station_A\"]\n",
    "sec_session01.copy_section(sec_setup_A)\n",
    "\n",
    "sec_session02 = fi.sections[\"sessions\"].create_section(name=\"recording.20210506.01\", \n",
    "                                                       type_=\"raw-data.ca-imaging\")\n",
    "\n",
    "sec_setup_B = ft.sections[\"microscope_station_B\"]\n",
    "sec_session02.copy_section(sec_setup_B)\n",
    "\n",
    "sec_session03 = fi.sections[\"sessions\"].create_section(name=\"recording.20210507.01\", \n",
    "                                                       type_=\"raw-data.ca-imaging\")\n",
    "\n",
    "sec_setup_A = ft.sections[\"microscope_station_A\"]\n",
    "sec_session03.copy_section(sec_setup_A)\n"
   ]
  },
  {
   "cell_type": "code",
   "execution_count": 39,
   "metadata": {},
   "outputs": [
    {
     "name": "stdout",
     "output_type": "stream",
     "text": [
      "File: name = metadata.nix\n",
      "  Block: {name = project.recordings, type = example.raw.data}\n",
      "    DataArray: {name = recording.20210405, type = shift.data}\n",
      "      Shape: (10,) Unit:None\n",
      "      SampledDimension: {index = 1}\n",
      "    DataArray: {name = recording.20210505.01, type = shift.data}\n",
      "      Shape: (10,) Unit:None\n",
      "      SampledDimension: {index = 1}\n",
      "    Tag: {name = stimulus.down.3, type = stimulus.shift}\n",
      "      Position Length:1 Units: ()\n",
      "  recording.20210405 [raw.data.recording]\n",
      "    subject [raw.data.recording]\n",
      "        |- subjectID: ('78376446-f096-47b9-8bfe-ce1eb43a48dc',)\n",
      "        |- species: ('Mus Musculus',)\n",
      "        |- age: ('4',)weeks\n",
      "  sessions [undefined]\n",
      "    recording.20210505.01 [raw-data.ca-imaging]\n",
      "      microscope_station_A [hardware.microscopes]\n",
      "          |- Manufacturer: ('Company A',)\n",
      "          |- Objective: ('Pln Apo 40x/1.3 oil DIC II',)\n",
      "          |- pE LED intensity: ('20',)\n",
      "    recording.20210506.01 [raw-data.ca-imaging]\n",
      "      microscope_station_B [hardware.microscopes]\n",
      "          |- Manufacturer: ('Company B',)\n",
      "          |- Objective: ('Pln Apo 40x/1.3 oil DIC II',)\n",
      "          |- pE LED intensity: ('30',)\n",
      "    recording.20210507.01 [raw-data.ca-imaging]\n",
      "      microscope_station_A [hardware.microscopes]\n",
      "          |- Manufacturer: ('Company A',)\n",
      "          |- Objective: ('Pln Apo 40x/1.3 oil DIC II',)\n",
      "          |- pE LED intensity: ('20',)\n"
     ]
    }
   ],
   "source": [
    "fi.pprint()"
   ]
  },
  {
   "cell_type": "code",
   "execution_count": 40,
   "metadata": {},
   "outputs": [],
   "source": [
    "ft.close()\n",
    "fi.close()"
   ]
  },
  {
   "cell_type": "markdown",
   "metadata": {},
   "source": [
    "## Finding information and data by filtering"
   ]
  },
  {
   "cell_type": "markdown",
   "metadata": {},
   "source": [
    "NIX files can get quite extensive in both data and metadata contained. Filter methods can help to find specific metadata or data when simply walking through the file becomes too tedious."
   ]
  },
  {
   "cell_type": "code",
   "execution_count": 41,
   "metadata": {},
   "outputs": [],
   "source": [
    "# We will re-use the metadata.nix file created in the previous examples\n",
    "fi = nixio.File.open(\"metadata.nix\", nixio.FileMode.ReadOnly)"
   ]
  },
  {
   "cell_type": "markdown",
   "metadata": {},
   "source": [
    "Both `File` and `Section` objects provide a `find_sections` method."
   ]
  },
  {
   "cell_type": "code",
   "execution_count": 42,
   "metadata": {},
   "outputs": [
    {
     "data": {
      "text/plain": [
       "[Section: {name = subject, type = raw.data.recording}]"
      ]
     },
     "execution_count": 42,
     "metadata": {},
     "output_type": "execute_result"
    }
   ],
   "source": [
    "# We can search all sections directly from file level\n",
    "fi.find_sections(lambda sec: sec.name == \"subject\")"
   ]
  },
  {
   "cell_type": "code",
   "execution_count": 43,
   "metadata": {},
   "outputs": [
    {
     "data": {
      "text/plain": [
       "[Section: {name = recording.20210405, type = raw.data.recording},\n",
       " Section: {name = subject, type = raw.data.recording},\n",
       " Section: {name = recording.20210505.01, type = raw-data.ca-imaging},\n",
       " Section: {name = recording.20210506.01, type = raw-data.ca-imaging},\n",
       " Section: {name = recording.20210507.01, type = raw-data.ca-imaging}]"
      ]
     },
     "execution_count": 43,
     "metadata": {},
     "output_type": "execute_result"
    }
   ],
   "source": [
    "fi.find_sections(lambda sec: sec.type.startswith(\"raw\"))"
   ]
  },
  {
   "cell_type": "code",
   "execution_count": 44,
   "metadata": {},
   "outputs": [
    {
     "data": {
      "text/plain": [
       "[Section: {name = microscope_station_A, type = hardware.microscopes},\n",
       " Section: {name = microscope_station_A, type = hardware.microscopes}]"
      ]
     },
     "execution_count": 44,
     "metadata": {},
     "output_type": "execute_result"
    }
   ],
   "source": [
    "fi.find_sections(lambda sec: sec.name == \"microscope_station_A\")"
   ]
  },
  {
   "cell_type": "code",
   "execution_count": 45,
   "metadata": {},
   "outputs": [
    {
     "data": {
      "text/plain": [
       "[Section: {name = recording.20210405, type = raw.data.recording}]"
      ]
     },
     "execution_count": 45,
     "metadata": {},
     "output_type": "execute_result"
    }
   ],
   "source": [
    "fi.find_sections(lambda sec: len(sec.referring_data_arrays) > 0)"
   ]
  },
  {
   "cell_type": "markdown",
   "metadata": {},
   "source": [
    "## Hands on session 3\n",
    "\n",
    "Now we move on to another hands on session.\n",
    "\n",
    "In the folder \"day_1\" of the repository https://gin.g-node.org/INCF-workshop-2021/NIX-Neo-workshop you will find a  Jupyter notebook \"hands_on_3.ipynb\".\n",
    "\n",
    "Again, start it either\n",
    "- locally if you can use Python and make sure all dependencies are installed.\n",
    "- or use Binder if you cannot use Python locally. The repository is already set up for the use with Binder.\n"
   ]
  }
 ],
 "metadata": {
  "kernelspec": {
   "display_name": "Python 3",
   "language": "python",
   "name": "python3"
  },
  "language_info": {
   "codemirror_mode": {
    "name": "ipython",
    "version": 3
   },
   "file_extension": ".py",
   "mimetype": "text/x-python",
   "name": "python",
   "nbconvert_exporter": "python",
   "pygments_lexer": "ipython3",
   "version": "3.9.5"
  }
 },
 "nbformat": 4,
 "nbformat_minor": 2
}
