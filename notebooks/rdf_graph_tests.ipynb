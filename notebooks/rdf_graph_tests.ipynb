{
 "cells": [
  {
   "cell_type": "code",
   "execution_count": 1,
   "metadata": {
    "collapsed": true
   },
   "outputs": [],
   "source": [
    "import uuid\n",
    "from rdflib import Graph, Namespace, RDF, URIRef\n",
    "\n",
    "g = Graph()\n",
    "\n",
    "# create custom odml namespace\n",
    "ns = Namespace(\"http://g-node.org/odml-rdf#\")\n",
    "\n",
    "# use a specific prefix for our custom odml namespace\n",
    "g.bind('odml', ns)\n",
    "\n",
    "# create named hub node - since the custom id is supposed to be a uuid,\n",
    "# it should be unique wherever, making it unlikely that two different instances \n",
    "# have the same id - needs to be replaced \n",
    "# maybe there is a nicer way to get a proper uuid tough, I'm not a python guy ;)\n",
    "hubNode = URIRef(uuid.uuid4().urn[9:])\n",
    "\n",
    "# create named document node\n",
    "docNode = URIRef(uuid.uuid4().urn[9:])\n",
    "\n",
    "# add hubNode to graph, add it as RDF type \"odml:Hub\"\n",
    "g.add( (hubNode, RDF.type, ns.Hub) )\n",
    "\n",
    "# add docNode to graph, add it as RDF type \"odml:Document\"\n",
    "g.add( (docNode, RDF.type, ns.Document) )\n",
    "\n",
    "# connect docNode as child of hubNode via predicate \"odml:hasDocument\"\n",
    "g.add( (hubNode, ns.hasDocument, docNode) )\n"
   ]
  },
  {
   "cell_type": "code",
   "execution_count": 2,
   "metadata": {
    "collapsed": false
   },
   "outputs": [
    {
     "name": "stdout",
     "output_type": "stream",
     "text": [
      "@prefix odml: <http://g-node.org/odml-rdf#> .\n",
      "@prefix rdf: <http://www.w3.org/1999/02/22-rdf-syntax-ns#> .\n",
      "@prefix rdfs: <http://www.w3.org/2000/01/rdf-schema#> .\n",
      "@prefix xml: <http://www.w3.org/XML/1998/namespace> .\n",
      "@prefix xsd: <http://www.w3.org/2001/XMLSchema#> .\n",
      "\n",
      "<be26b971-1a13-4ab6-a7f5-779696f020e5> a odml:Hub ;\n",
      "    odml:hasDocument <aac931f2-b8fc-47d3-96f9-befd5a9a60a5> .\n",
      "\n",
      "<aac931f2-b8fc-47d3-96f9-befd5a9a60a5> a odml:Document .\n",
      "\n",
      "\n"
     ]
    }
   ],
   "source": [
    "print(g.serialize(format='turtle'))"
   ]
  },
  {
   "cell_type": "code",
   "execution_count": null,
   "metadata": {
    "collapsed": true
   },
   "outputs": [],
   "source": []
  }
 ],
 "metadata": {
  "kernelspec": {
   "display_name": "Python 2",
   "language": "python",
   "name": "python2"
  },
  "language_info": {
   "codemirror_mode": {
    "name": "ipython",
    "version": 2
   },
   "file_extension": ".py",
   "mimetype": "text/x-python",
   "name": "python",
   "nbconvert_exporter": "python",
   "pygments_lexer": "ipython2",
   "version": "2.7.11+"
  }
 },
 "nbformat": 4,
 "nbformat_minor": 0
}
