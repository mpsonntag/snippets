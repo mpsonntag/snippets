{
 "cells": [
  {
   "cell_type": "code",
   "execution_count": null,
   "metadata": {
    "collapsed": true
   },
   "outputs": [],
   "source": [
    "import uuid\n",
    "from rdflib import Graph, Namespace, RDF, URIRef\n",
    "\n",
    "g = Graph()\n",
    "\n",
    "# create custom odml namespace\n",
    "ns = Namespace(\"http://g-node.org/odml-rdf#\")\n",
    "\n",
    "# use a specific prefix for our custom odml namespace\n",
    "g.bind('odml', ns)\n",
    "\n",
    "# create named hub node - since the custom id is supposed to be a uuid,\n",
    "# it should be unique wherever, making it unlikely that two different instances \n",
    "# have the same id - needs to be replaced \n",
    "# maybe there is a nicer way to get a proper uuid tough, I'm not a python guy ;)\n",
    "hubNode = URIRef(uuid.uuid4().urn[9:])\n",
    "\n",
    "# create named document node\n",
    "docNode = URIRef(uuid.uuid4().urn[9:])\n",
    "\n",
    "# add hubNode to graph, add it as RDF type \"odml:Hub\"\n",
    "g.add( (hubNode, RDF.type, ns.Hub) )\n",
    "\n",
    "# add docNode to graph, add it as RDF type \"odml:Document\"\n",
    "g.add( (docNode, RDF.type, ns.Document) )\n",
    "\n",
    "# connect docNode as child of hubNode via predicate \"odml:hasDocument\"\n",
    "g.add( (hubNode, ns.hasDocument, docNode) )"
   ]
  },
  {
   "cell_type": "code",
   "execution_count": 2,
   "metadata": {
    "collapsed": false
   },
   "outputs": [
    {
     "name": "stdout",
     "output_type": "stream",
     "text": [
      "@prefix odml: <http://g-node.org/odml-rdf#> .\n",
      "@prefix rdf: <http://www.w3.org/1999/02/22-rdf-syntax-ns#> .\n",
      "@prefix rdfs: <http://www.w3.org/2000/01/rdf-schema#> .\n",
      "@prefix xml: <http://www.w3.org/XML/1998/namespace> .\n",
      "@prefix xsd: <http://www.w3.org/2001/XMLSchema#> .\n",
      "\n",
      "<7c4be309-e232-4ab1-8155-447d5b77321b> a odml:Hub ;\n",
      "    odml:hasDocument <0afcb1a3-1366-48a0-bb86-1c41dabdd8d2> .\n",
      "\n",
      "<0afcb1a3-1366-48a0-bb86-1c41dabdd8d2> a odml:Document .\n",
      "\n",
      "\n"
     ]
    }
   ],
   "source": [
    "print(g.serialize(format='turtle'))"
   ]
  },
  {
   "cell_type": "markdown",
   "metadata": {
    "collapsed": true
   },
   "source": [
    "When saving the graph to a file, the URI of the nodes would add the URI of the file to the UUID, rendering it an actually valid URI. This is not the desired behavior, since the id of a node should be universally unique, rendering the same nodes from different files mergeable. Use a proper namespace for these nodes as well."
   ]
  },
  {
   "cell_type": "code",
   "execution_count": 3,
   "metadata": {
    "collapsed": false
   },
   "outputs": [],
   "source": [
    "g = Graph()\n",
    "\n",
    "# create custom odml namespace\n",
    "ns = Namespace(\"http://g-node.org/odml-rdf#\")\n",
    "ns2 = Namespace(\"http://g-node.org/odml-rdf/\")\n",
    "\n",
    "# use a specific prefix for our custom odml namespace\n",
    "g.bind('odml', ns)\n",
    "g.bind('odml2', ns2)\n",
    "\n",
    "# create named hub node - since the custom id is supposed to be a uuid,\n",
    "# it should be unique wherever, making it unlikely that two different instances \n",
    "# have the same id - needs to be replaced \n",
    "# maybe there is a nicer way to get a proper uuid tough, I'm not a python guy ;)\n",
    "hubNode = URIRef(ns2 + uuid.uuid4().urn[9:])\n",
    "\n",
    "# create named document node\n",
    "docNode = URIRef(ns2 + uuid.uuid4().urn[9:])\n",
    "\n",
    "# add hubNode to graph, add it as RDF type \"odml:Hub\"\n",
    "g.add( (hubNode, RDF.type, ns.Hub) )\n",
    "\n",
    "# add docNode to graph, add it as RDF type \"odml:Document\"\n",
    "g.add( (docNode, RDF.type, ns.Document) )\n",
    "\n",
    "# connect docNode as child of hubNode via predicate \"odml:hasDocument\"\n",
    "g.add( (hubNode, ns.hasDocument, docNode) )"
   ]
  },
  {
   "cell_type": "code",
   "execution_count": 4,
   "metadata": {
    "collapsed": false
   },
   "outputs": [
    {
     "name": "stdout",
     "output_type": "stream",
     "text": [
      "@prefix odml: <http://g-node.org/odml-rdf#> .\n",
      "@prefix odml2: <http://g-node.org/odml-rdf/> .\n",
      "@prefix rdf: <http://www.w3.org/1999/02/22-rdf-syntax-ns#> .\n",
      "@prefix rdfs: <http://www.w3.org/2000/01/rdf-schema#> .\n",
      "@prefix xml: <http://www.w3.org/XML/1998/namespace> .\n",
      "@prefix xsd: <http://www.w3.org/2001/XMLSchema#> .\n",
      "\n",
      "odml2:e677b565-7755-4a8a-8581-608401ddaf46 a odml:Hub ;\n",
      "    odml:hasDocument <http://g-node.org/odml-rdf/74d97ebf-e7f1-4226-a5c7-5e8d029cdf5e> .\n",
      "\n",
      "<http://g-node.org/odml-rdf/74d97ebf-e7f1-4226-a5c7-5e8d029cdf5e> a odml:Document .\n",
      "\n",
      "\n"
     ]
    }
   ],
   "source": [
    "print(g.serialize(format='turtle'))"
   ]
  },
  {
   "cell_type": "code",
   "execution_count": null,
   "metadata": {
    "collapsed": true
   },
   "outputs": [],
   "source": [
    "g.add()"
   ]
  }
 ],
 "metadata": {
  "kernelspec": {
   "display_name": "Python 2",
   "language": "python",
   "name": "python2"
  },
  "language_info": {
   "codemirror_mode": {
    "name": "ipython",
    "version": 2
   },
   "file_extension": ".py",
   "mimetype": "text/x-python",
   "name": "python",
   "nbconvert_exporter": "python",
   "pygments_lexer": "ipython2",
   "version": "2.7.11+"
  }
 },
 "nbformat": 4,
 "nbformat_minor": 0
}
