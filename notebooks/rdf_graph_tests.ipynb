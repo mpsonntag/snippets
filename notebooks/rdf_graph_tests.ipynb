{
 "cells": [
  {
   "cell_type": "code",
   "execution_count": 2,
   "metadata": {
    "collapsed": true
   },
   "outputs": [],
   "source": [
    "import uuid\n",
    "from rdflib import Graph, Namespace, RDF, URIRef\n",
    "\n",
    "g = Graph()\n",
    "\n",
    "# create custom odml namespace\n",
    "ns = Namespace(\"http://g-node.org/odml-rdf#\")\n",
    "\n",
    "# use a specific prefix for our custom odml namespace\n",
    "g.bind('odml', ns)\n",
    "\n",
    "# create named hub node - since the custom id is supposed to be a uuid,\n",
    "# it should be unique wherever, making it unlikely that two different instances \n",
    "# have the same id - needs to be replaced \n",
    "# maybe there is a nicer way to get a proper uuid tough, I'm not a python guy ;)\n",
    "hubNode = URIRef(uuid.uuid4().urn[9:])\n",
    "\n",
    "# create named document node\n",
    "docNode = URIRef(uuid.uuid4().urn[9:])\n",
    "\n",
    "# add hubNode to graph, add it as RDF type \"odml:Hub\"\n",
    "g.add( (hubNode, RDF.type, ns.Hub) )\n",
    "\n",
    "# add docNode to graph, add it as RDF type \"odml:Document\"\n",
    "g.add( (docNode, RDF.type, ns.Document) )\n",
    "\n",
    "# connect docNode as child of hubNode via predicate \"odml:hasDocument\"\n",
    "g.add( (hubNode, ns.hasDocument, docNode) )\n"
   ]
  },
  {
   "cell_type": "code",
   "execution_count": 3,
   "metadata": {
    "collapsed": false
   },
   "outputs": [
    {
     "name": "stdout",
     "output_type": "stream",
     "text": [
      "@prefix odml: <http://g-node.org/odml-rdf#> .\n",
      "@prefix rdf: <http://www.w3.org/1999/02/22-rdf-syntax-ns#> .\n",
      "@prefix rdfs: <http://www.w3.org/2000/01/rdf-schema#> .\n",
      "@prefix xml: <http://www.w3.org/XML/1998/namespace> .\n",
      "@prefix xsd: <http://www.w3.org/2001/XMLSchema#> .\n",
      "\n",
      "<594fbf47-2e35-467b-a4a3-62e9d528f431> a odml:Hub ;\n",
      "    odml:hasDocument <95687715-8204-4d27-97d1-10f73f8ad59f> .\n",
      "\n",
      "<95687715-8204-4d27-97d1-10f73f8ad59f> a odml:Document .\n",
      "\n",
      "\n"
     ]
    }
   ],
   "source": [
    "print(g.serialize(format='turtle'))"
   ]
  },
  {
   "cell_type": "markdown",
   "metadata": {
    "collapsed": true
   },
   "source": [
    "When saving the graph to a file, the URI of the nodes would add the URI of the file to the UUID, rendering it an actually valid URI. This is not the desired behavior, since the id of a node should be universally unique, rendering the same nodes from different files mergeable. Use a proper namespace for these nodes as well."
   ]
  },
  {
   "cell_type": "code",
   "execution_count": 4,
   "metadata": {
    "collapsed": false
   },
   "outputs": [],
   "source": [
    "g = Graph()\n",
    "\n",
    "# create custom odml namespace\n",
    "ns = Namespace(\"http://g-node.org/odml-rdf#\")\n",
    "\n",
    "# use a specific prefix for our custom odml namespace\n",
    "g.bind('odml', ns)\n",
    "\n",
    "# create named hub node - since the custom id is supposed to be a uuid,\n",
    "# it should be unique wherever, making it unlikely that two different instances \n",
    "# have the same id - needs to be replaced \n",
    "# maybe there is a nicer way to get a proper uuid tough, I'm not a python guy ;)\n",
    "hubNode = URIRef(ns + uuid.uuid4().urn[9:])\n",
    "\n",
    "# create named document node\n",
    "docNode = URIRef(ns + uuid.uuid4().urn[9:])\n",
    "\n",
    "# add hubNode to graph, add it as RDF type \"odml:Hub\"\n",
    "g.add( (hubNode, RDF.type, ns.Hub) )\n",
    "\n",
    "# add docNode to graph, add it as RDF type \"odml:Document\"\n",
    "g.add( (docNode, RDF.type, ns.Document) )\n",
    "\n",
    "# connect docNode as child of hubNode via predicate \"odml:hasDocument\"\n",
    "g.add( (hubNode, ns.hasDocument, docNode) )"
   ]
  },
  {
   "cell_type": "code",
   "execution_count": 5,
   "metadata": {
    "collapsed": false
   },
   "outputs": [
    {
     "name": "stdout",
     "output_type": "stream",
     "text": [
      "@prefix odml: <http://g-node.org/odml-rdf#> .\n",
      "@prefix rdf: <http://www.w3.org/1999/02/22-rdf-syntax-ns#> .\n",
      "@prefix rdfs: <http://www.w3.org/2000/01/rdf-schema#> .\n",
      "@prefix xml: <http://www.w3.org/XML/1998/namespace> .\n",
      "@prefix xsd: <http://www.w3.org/2001/XMLSchema#> .\n",
      "\n",
      "odml:ffd9a039-2f77-42ca-a557-3c44e050d995 a odml:Hub ;\n",
      "    odml:hasDocument <http://g-node.org/odml-rdf#4620f9c6-204a-4bbb-bf5d-485d9451e78f> .\n",
      "\n",
      "<http://g-node.org/odml-rdf#4620f9c6-204a-4bbb-bf5d-485d9451e78f> a odml:Document .\n",
      "\n",
      "\n"
     ]
    }
   ],
   "source": [
    "print(g.serialize(format='turtle'))"
   ]
  },
  {
   "cell_type": "code",
   "execution_count": null,
   "metadata": {
    "collapsed": true
   },
   "outputs": [],
   "source": []
  }
 ],
 "metadata": {
  "kernelspec": {
   "display_name": "Python 2",
   "language": "python",
   "name": "python2"
  },
  "language_info": {
   "codemirror_mode": {
    "name": "ipython",
    "version": 2
   },
   "file_extension": ".py",
   "mimetype": "text/x-python",
   "name": "python",
   "nbconvert_exporter": "python",
   "pygments_lexer": "ipython2",
   "version": "2.7.11+"
  }
 },
 "nbformat": 4,
 "nbformat_minor": 0
}
