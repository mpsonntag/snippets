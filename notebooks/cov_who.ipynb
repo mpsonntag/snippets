{
 "cells": [
  {
   "cell_type": "code",
   "execution_count": null,
   "metadata": {},
   "outputs": [],
   "source": [
    "# enable only on demand; will disable all normal print() output\n",
    "# %load_ext pycodestyle_magic\n",
    "# %pycodestyle_on"
   ]
  },
  {
   "cell_type": "code",
   "execution_count": null,
   "metadata": {},
   "outputs": [],
   "source": [
    "%matplotlib notebook\n",
    "#%matplotlib widget\n",
    "\n",
    "import copy\n",
    "import json\n",
    "\n",
    "from datetime import datetime\n",
    "from math import ceil\n",
    "from os import environ, path\n",
    "\n",
    "import numpy as np\n",
    "import requests\n",
    "\n",
    "from matplotlib import pyplot as plt\n",
    "from matplotlib.lines import Line2D\n",
    "from pandas import DataFrame as PanDataFrame"
   ]
  },
  {
   "cell_type": "code",
   "execution_count": null,
   "metadata": {},
   "outputs": [],
   "source": [
    "out_dir = path.join(environ.get(\"HOME\"), \"Chaos\", \"DL\")\n",
    "out_file_name = \"cov19\""
   ]
  },
  {
   "cell_type": "code",
   "execution_count": null,
   "metadata": {},
   "outputs": [],
   "source": [
    "euro = {\"at\": \"Austria\", \"be\": \"Belgium\", \"ba\": \"Bosnia and Herzegovina\",\n",
    "        \"bg\": \"Bulgaria\", \"hr\": \"Croatia\", \"cy\": \"Cyprus\", \"cz\": \"Czechia\",\n",
    "        \"dk\": \"Denmark\", \"ee\": \"Estonia\", \"fi\": \"Finland\", \"fr\": \"France\",\n",
    "        \"de\": \"Germany\", \"gr\": \"Greece\", \"hu\": \"Hungary\", \"ie\": \"Ireland\",\n",
    "        \"it\": \"Italy\", \"lv\": \"Latvia\", \"li\": \"Liechtenstein\",\n",
    "        \"lt\": \"Lithuania\", \"lu\": \"Luxembourg\", \"nl\": \"Netherlands\",\n",
    "        \"no\": \"Norway\", \"pl\": \"Poland\", \"pt\": \"Portugal\", \"ro\": \"Romania\",\n",
    "        \"rs\": \"Serbia\", \"sk\": \"Slovakia\", \"si\": \"Slovenia\", \"es\": \"Spain\",\n",
    "        \"se\": \"Sweden\", \"ch\": \"Switzerland\", \"gb\": \"United Kingdom\"}"
   ]
  },
  {
   "cell_type": "code",
   "execution_count": null,
   "metadata": {},
   "outputs": [],
   "source": [
    "regions = {\"amro\": [\"us\"],\n",
    "           \"euro\": euro.keys()}"
   ]
  },
  {
   "cell_type": "code",
   "execution_count": null,
   "metadata": {},
   "outputs": [],
   "source": [
    "population = {\n",
    "    \"at\": 8901000, \"be\": 11431000, \"ba\": 3531000, \"bg\": 6951000,\n",
    "    \"hr\": 4190000, \"cy\": 1189000, \"cz\": 10637000, \"dk\": 5822000,\n",
    "    \"ee\": 1323000, \"fi\": 5517000, \"fr\": 66993000, \"de\": 83166000,\n",
    "    \"gr\": 10277000, \"hu\": 9773000, \"ie\": 4761000, \"it\": 60260000,\n",
    "    \"lv\": 1934000, \"li\": 38000, \"lt\": 2794000, \"lu\": 626000,\n",
    "    \"nl\": 17290000, \"no\": 5367000, \"pl\": 38386000, \"pt\": 10600000,\n",
    "    \"ro\": 20121000, \"rs\": 7057000, \"sk\": 5450000, \"si\": 2064000,\n",
    "    \"es\": 47100000, \"se\": 10327000, \"ch\": 8601000, \"gb\": 66435000,\n",
    "    \"us\": 328000000}"
   ]
  },
  {
   "cell_type": "code",
   "execution_count": null,
   "metadata": {},
   "outputs": [],
   "source": [
    "case_values = [\"cases_per_day_confirmed\", \"cases_cumulative\",\n",
    "               \"cases_cumulative_percent_population\",\n",
    "               \"deaths_per_day_confirmed\", \"deaths_cumulative\",\n",
    "               \"deaths_cumulative_permil_population\"]\n",
    "cases_day_description = {\"key\": [\"unix_timestamp\"],\n",
    "                         \"values\": case_values}\n",
    "full_data = {\"cases_per_day_data_description\": cases_day_description,\n",
    "             \"countries\": {}}"
   ]
  },
  {
   "cell_type": "code",
   "execution_count": null,
   "metadata": {},
   "outputs": [],
   "source": [
    "# data dimensions; (1) timestamp, (2), region, (3) deaths, (4) cumulative deaths,\n",
    "# (5) deaths last 7 days, (6) Deaths Last 7 Days Change, (7) Deaths Per Million, (8) Confirmed,\n",
    "# (9) Cumulative confirmed, (10) Cases Last 7 Days, (11) Cases Last 7 Days Change,\n",
    "# (12) Cases Per Million\n",
    "furl = \"https://covid19.who.int/page-data/region\""
   ]
  },
  {
   "cell_type": "code",
   "execution_count": null,
   "metadata": {},
   "outputs": [],
   "source": [
    "# Fetch and convert data from all regions of interest\n",
    "for reg, reg_items in regions.items():\n",
    "    for country_id in reg_items:\n",
    "        country_name = \"United States\"\n",
    "        region = \"america\"\n",
    "        if country_id != \"us\":\n",
    "            country_name = euro[country_id]\n",
    "            region = \"euro\"\n",
    "\n",
    "        curr_url = f\"{furl}/{reg}/country/{country_id}/page-data.json\"\n",
    "        res = requests.get(curr_url)\n",
    "        print(f\"Fetching country: '{country_id}/{country_name}' at \\n\\t{curr_url}\")\n",
    "        data = json.loads(res.text)\n",
    "\n",
    "        # Reduce to \"timestamp: [confirmed, confirmed_cumulative,\n",
    "        #                        case_cumulative_percent_population,\n",
    "        #                        deaths, deaths_cumulative,\n",
    "        #                        death_cumulative_permil_population]\"\n",
    "        curr_country = {}\n",
    "        curr_data = data[\"result\"][\"pageContext\"][\"countryGroup\"][\"data\"][\"rows\"]\n",
    "        curr_perc_pop = population[country_id]/100\n",
    "        curr_perm_pop = population[country_id]/1000\n",
    "        for i in curr_data:\n",
    "            case_perc_pop = round(i[8]/curr_perc_pop, 3)\n",
    "            death_perm_pop = round(i[3]/curr_perm_pop, 3)\n",
    "\n",
    "            curr_country[i[0]] = [i[7], i[8], case_perc_pop, i[2], i[3], death_perm_pop]\n",
    "\n",
    "            if i[7] < 0:\n",
    "                print(f\"Negativ case value ({country_name}) in '{i[7]}', setting to 0.\")\n",
    "                curr_country[i[0]][0] = 0\n",
    "\n",
    "        print(f\"\\tLatest cases: {curr_country[list(curr_country.keys())[-1]]}\")\n",
    "        full_data[\"countries\"][country_id] = {\"country_name\": country_name,\n",
    "                                              \"region\": region,\n",
    "                                              \"population\": population[country_id],\n",
    "                                              \"cases\": curr_country}"
   ]
  },
  {
   "cell_type": "code",
   "execution_count": null,
   "metadata": {},
   "outputs": [],
   "source": [
    "# Save data structure to json file\n",
    "fn = path.join(out_dir, (f\"{out_file_name}.json\")) \n",
    "print(f\"\\nWriting to file {fn}\")\n",
    "with open(fn, \"w\", encoding=\"utf-8\") as fp:\n",
    "    json.dump(full_data, fp)"
   ]
  },
  {
   "cell_type": "code",
   "execution_count": null,
   "metadata": {},
   "outputs": [],
   "source": [
    "# Prepare data for Europe\n",
    "\n",
    "# calc euro population\n",
    "euro_pop = sum(population.values()) - population[\"us\"]\n",
    "\n",
    "# congregate data; get euro sum\n",
    "euro_cases = {\"country_name\": \"EU\",\n",
    "              \"population\": euro_pop,\n",
    "              \"cases_total\": [],\n",
    "              \"cases\": {}}\n",
    "\n",
    "tmp_data = copy.deepcopy(full_data)\n",
    "for i in tmp_data[\"countries\"]:\n",
    "    if tmp_data[\"countries\"][i][\"region\"] != \"euro\":\n",
    "        continue\n",
    "\n",
    "    curr_cases = tmp_data[\"countries\"][i][\"cases\"]\n",
    "    curr_list = curr_cases[list(curr_cases.keys())[-1]]\n",
    "\n",
    "    # Congregate latest total euro cases\n",
    "    if not euro_cases[\"cases_total\"]:\n",
    "        euro_cases[\"cases_total\"] = curr_list\n",
    "    else:\n",
    "        euro_cases[\"cases_total\"] = [sum(x) for x in zip(euro_cases[\"cases_total\"], curr_list)]\n",
    "\n",
    "    # Congregate daily total euro cases\n",
    "    if not euro_cases[\"cases\"]:\n",
    "        euro_cases[\"cases\"] = curr_cases\n",
    "    else:\n",
    "        for j in curr_cases:\n",
    "            euro_cases[\"cases\"][j] = [sum(x) for x in zip(euro_cases[\"cases\"][j], curr_cases[j])]\n",
    "\n",
    "# Fix euro percentages\n",
    "curr_perc_pop = euro_cases[\"population\"] / 100\n",
    "curr_perm_pop = euro_cases[\"population\"] / 1000\n",
    "\n",
    "# Euro percentage cases total\n",
    "euro_cases[\"cases_total\"][2] = round(euro_cases[\"cases_total\"][1] / curr_perc_pop, 3)\n",
    "euro_cases[\"cases_total\"][5] = round(euro_cases[\"cases_total\"][4] / curr_perm_pop, 3)\n",
    "\n",
    "# Euro percentages per day\n",
    "for i in euro_cases[\"cases\"]:\n",
    "    euro_cases[\"cases\"][i][2] = round(euro_cases[\"cases\"][i][1] / curr_perc_pop, 3)\n",
    "    euro_cases[\"cases\"][i][5] = round(euro_cases[\"cases\"][i][4] / curr_perm_pop, 3)"
   ]
  },
  {
   "cell_type": "code",
   "execution_count": null,
   "metadata": {},
   "outputs": [],
   "source": [
    "# Comparison Europe, US\n",
    "cases_dates = []\n",
    "eu_cases_confirmed = []\n",
    "\n",
    "for c_date, c_item in euro_cases[\"cases\"].items():\n",
    "    cases_dates.append(datetime.fromtimestamp(c_date/1000))\n",
    "    eu_cases_confirmed.append(c_item[0])\n",
    "\n",
    "us_cases = full_data[\"countries\"][\"us\"][\"cases\"]\n",
    "us_cases_confirmed = []\n",
    "\n",
    "# Dirty fix to compare eu to us (us sometimes is a day ahead in terms of numbers.)\n",
    "last_euro_date = cases_dates[-1]\n",
    "for c_date, c_item in us_cases.items():\n",
    "    us_cases_confirmed.append(c_item[0])\n",
    "    if last_euro_date == datetime.fromtimestamp(c_date/1000):\n",
    "        break"
   ]
  },
  {
   "cell_type": "code",
   "execution_count": null,
   "metadata": {},
   "outputs": [],
   "source": [
    "def eu_us_compare_plot(plot_date, plot_eu, plot_us):\n",
    "    # Prepare plot\n",
    "    ax = plt.subplot(111)\n",
    "    ax.set_title(\"Per day Covid19 cases\")\n",
    "    ax.set_xlabel(\"Date\")\n",
    "\n",
    "    ax.plot(plot_date, plot_eu, label=\"European zone\")\n",
    "    ax.plot(plot_date, plot_us, label=\"United States\")\n",
    "    ax.legend(loc='upper left', fontsize='xx-small')\n",
    "    plt.show()\n",
    "\n",
    "eu_us_compare_plot(cases_dates, eu_cases_confirmed, us_cases_confirmed)"
   ]
  },
  {
   "cell_type": "code",
   "execution_count": null,
   "metadata": {},
   "outputs": [],
   "source": [
    "def euro_country_plot(plot_title, num_day=None):\n",
    "    ax = plt.subplot(111)\n",
    "\n",
    "    marker_idx = -1\n",
    "    for curr in full_data[\"countries\"]:\n",
    "        ctry = full_data[\"countries\"][curr]\n",
    "        if ctry[\"region\"] != \"euro\":\n",
    "            continue\n",
    "\n",
    "        curr_confirmed = []\n",
    "        ctry_data = ctry[\"cases\"]\n",
    "        for case_date in ctry_data:\n",
    "            curr_confirmed.append(ctry_data[case_date][0])\n",
    "\n",
    "        # Handle individual markers\n",
    "        marker_idx = marker_idx + 1\n",
    "\n",
    "        country = ctry[\"country_name\"]\n",
    "        if num_day:\n",
    "            ax.plot(cases_dates[-1*num_day:-1], curr_confirmed[-1*num_day:-1],\n",
    "                    label=country, marker=markers_available[marker_idx])\n",
    "        else:\n",
    "            ax.plot(cases_dates, curr_confirmed, label=country,\n",
    "                    marker=markers_available[marker_idx])\n",
    "\n",
    "    ax.set_title(plot_title)\n",
    "    ax.set_xlabel(\"Date\")\n",
    "    ax.legend(loc='upper left', fontsize='xx-small')\n",
    "    plt.show()"
   ]
  },
  {
   "cell_type": "code",
   "execution_count": null,
   "metadata": {},
   "outputs": [],
   "source": [
    "# Fetch list of legend markers\n",
    "markers_available = list(Line2D.markers.keys())\n",
    "\n",
    "# Europe countries per day plot\n",
    "euro_country_plot(\"Per day cases euro countries\")"
   ]
  },
  {
   "cell_type": "code",
   "execution_count": null,
   "metadata": {},
   "outputs": [],
   "source": [
    "# Europe last days\n",
    "last_days = 30\n",
    "title = f\"Per day cases euro countries; last {last_days} days\"\n",
    "euro_country_plot(title, last_days)"
   ]
  },
  {
   "cell_type": "code",
   "execution_count": null,
   "metadata": {},
   "outputs": [],
   "source": [
    "# display current numpy printoptions\n",
    "print(np.get_printoptions())\n",
    "\n",
    "# set precision to 3\n",
    "np.set_printoptions(precision=3)"
   ]
  },
  {
   "cell_type": "code",
   "execution_count": null,
   "metadata": {},
   "outputs": [],
   "source": [
    "def prepare_country_data(ctry_code):\n",
    "    ctry_data = []\n",
    "    ctry = full_data[\"countries\"][ctry_code]\n",
    "    ctry_name = ctry[\"country_name\"]\n",
    "\n",
    "    for case_date in ctry[\"cases\"]:\n",
    "        ctry_data.append(ctry[\"cases\"][case_date][0])\n",
    "\n",
    "    return ctry_data, ctry_name"
   ]
  },
  {
   "cell_type": "code",
   "execution_count": null,
   "metadata": {},
   "outputs": [],
   "source": [
    "# Individual country plot\n",
    "country_code = \"at\"\n",
    "country_data, country_name = prepare_country_data(country_code)\n",
    "\n",
    "ax = plt.subplot(111)\n",
    "ax.plot(cases_dates, country_data)\n",
    "ax.set_title(f\"Per day cases in {country_code}/{country_name}\")\n",
    "ax.set_xlabel(\"Date\")\n",
    "\n",
    "plt.show()"
   ]
  },
  {
   "cell_type": "code",
   "execution_count": null,
   "metadata": {},
   "outputs": [],
   "source": [
    "# Individual country bar plot\n",
    "country_code = \"fr\"\n",
    "country_data, country_name = prepare_country_data(country_code)\n",
    "\n",
    "_, ax = plt.subplots()\n",
    "ax.bar(cases_dates, country_data, 0.8)\n",
    "ax.set_title(f\"Per day cases in {country_code}/{country_name}\")\n",
    "ax.set_xlabel(\"Dates\")\n",
    "\n",
    "plt.show()"
   ]
  },
  {
   "cell_type": "code",
   "execution_count": null,
   "metadata": {},
   "outputs": [],
   "source": [
    "# Format large numbers with comma as 1000 separator\n",
    "def format_country_stats(cases, ctry_pop):\n",
    "    curr_stat = copy.deepcopy(cases)\n",
    "    curr_pop = copy.deepcopy(ctry_pop)\n",
    "    format_pop = f'{curr_pop:,}'\n",
    "    curr_case_sum = f'{curr_stat[1]:,}'\n",
    "    curr_case_per = f'{curr_stat[2]:,}'\n",
    "    curr_death_sum = f'{curr_stat[4]:,}'\n",
    "    curr_death_per = f'{curr_stat[5]:,}'\n",
    "    curr_mortality = f'{round((curr_stat[4]/(curr_stat[1]/100)), 3):,}'\n",
    "\n",
    "    return [format_pop, curr_case_sum, curr_case_per, curr_death_sum,\n",
    "            curr_death_per, curr_mortality, curr_pop, curr_stat[1],\n",
    "            curr_stat[4]]"
   ]
  },
  {
   "cell_type": "code",
   "execution_count": null,
   "metadata": {},
   "outputs": [],
   "source": [
    "# Different stats\n",
    "use_date = list(euro_cases[\"cases\"].keys())[-1]\n",
    "\n",
    "names = [\"Europe\"]\n",
    "sum_only = [format_country_stats(euro_cases[\"cases\"][use_date],\n",
    "                                 euro_cases[\"population\"])]\n",
    "\n",
    "tmp_cases = copy.deepcopy(full_data[\"countries\"])\n",
    "for i in tmp_cases:\n",
    "    sum_only.append(format_country_stats(tmp_cases[i][\"cases\"][use_date],\n",
    "                                         tmp_cases[i][\"population\"]))\n",
    "    names.append(tmp_cases[i][\"country_name\"])"
   ]
  },
  {
   "cell_type": "markdown",
   "metadata": {},
   "source": [
    "- morbidity ... chance to get sick dependent on the population\n",
    "- mortality ... chance to die dependent on the population (in our case ignoring the time component of mortality)\n",
    "- lethality ... chance to die dependent on the sick population"
   ]
  },
  {
   "cell_type": "code",
   "execution_count": null,
   "metadata": {},
   "outputs": [],
   "source": [
    "# Using pandas to print table\n",
    "d_sum_only = {}\n",
    "\n",
    "idx = 0\n",
    "for curr_list in sum_only:\n",
    "    d_sum_only[names[idx]] = curr_list\n",
    "    idx = idx + 1\n",
    "\n",
    "col_labels = [\"population\", \"sum_cases\", \"morbidity [% pop]\",\n",
    "              \"sum_deaths\", \"mortality [‰ pop]\", \"lethality\",\n",
    "              \"sort_pop\", \"sort_case\", \"sort_dead\"]\n",
    "sum_frame = PanDataFrame(d_sum_only, col_labels)\n",
    "\n",
    "# 0 ... pop, 1 ... sum, 2 ... morbid, 3 ... sum_d, 4 ... mort,\n",
    "# 5 ... leth, 6 ... pop_sort, 7 ... case_sort, 8 ... dead_sort\n",
    "hide_col = [\"sort_pop\", \"sort_case\", \"sort_dead\"]\n",
    "sum_frame.transpose().sort_values(by=col_labels[5],\n",
    "                                  ascending=False).style.hide_columns(hide_col)"
   ]
  },
  {
   "cell_type": "code",
   "execution_count": null,
   "metadata": {},
   "outputs": [],
   "source": [
    "# calc sum infections last seven days\n",
    "days = list(full_data[\"countries\"][\"at\"][\"cases\"].keys())[-8:-1]\n",
    "\n",
    "curr_data = {}\n",
    "curr_plot = {}\n",
    "for ccode in full_data[\"countries\"]:\n",
    "    access_data = full_data[\"countries\"][ccode]\n",
    "    curr_cases = {}\n",
    "\n",
    "    sum_cases = 0\n",
    "    for i in days:\n",
    "        curr_cases[i] = access_data[\"cases\"][i]\n",
    "        sum_cases = sum_cases + access_data[\"cases\"][i][0]\n",
    "\n",
    "    perc_cases = round(sum_cases / (access_data[\"population\"]/100), 3)\n",
    "    curr_data[ccode] = {\"country_name\": access_data[\"country_name\"],\n",
    "                        \"population\": f'{access_data[\"population\"]:,}',\n",
    "                        \"sum_cases\": f'{sum_cases:,}',\n",
    "                        \"perc_cases\": perc_cases,\n",
    "                        \"cases\": copy.deepcopy(curr_cases)}\n",
    "    curr_plot[access_data[\"country_name\"]] = [f'{access_data[\"population\"]:,}',\n",
    "                                              f'{sum_cases:,}',\n",
    "                                              perc_cases, sum_cases]"
   ]
  },
  {
   "cell_type": "code",
   "execution_count": null,
   "metadata": {},
   "outputs": [],
   "source": [
    "# Add seven days info table\n",
    "day_col_labels = [\"population\", \"cases last 7 days\",\n",
    "                  \"morbidity [% pop]\", \"sort_cases\"]\n",
    "\n",
    "sum_frame = PanDataFrame(curr_plot, day_col_labels)\n",
    "\n",
    "sum_frame.transpose().sort_values(by=[day_col_labels[2]],\n",
    "                                  ascending=False).style.hide_columns([\"sort_cases\"])"
   ]
  },
  {
   "cell_type": "code",
   "execution_count": null,
   "metadata": {},
   "outputs": [],
   "source": [
    "# Per day percent plot to properly compare increase rates per citizen\n",
    "def morbidity_plot(data_dict):\n",
    "    plt_ax = plt.subplot(111)\n",
    "\n",
    "    marker_idx = -1\n",
    "\n",
    "    for ctry_label in data_dict[\"countries\"]:\n",
    "        ctry = data_dict[\"countries\"][ctry_label]\n",
    "        if ctry[\"region\"] != \"euro\":\n",
    "            continue\n",
    "\n",
    "        curr_per_day_perc = []\n",
    "        curr_pop = ctry[\"population\"]\n",
    "        ctry_data = ctry[\"cases\"]\n",
    "        for case_date in ctry_data:\n",
    "            curr_val = round(ctry_data[case_date][0]/(curr_pop/1000), 3)\n",
    "            curr_per_day_perc.append(curr_val)\n",
    "\n",
    "        # Handle individual markers\n",
    "        marker_idx = marker_idx + 1\n",
    "\n",
    "        country = ctry[\"country_name\"]\n",
    "        plt_ax.plot(cases_dates[-30:-1],\n",
    "                curr_per_day_perc[-30:-1],\n",
    "                label=country,\n",
    "                marker=markers_available[marker_idx])\n",
    "\n",
    "    plt_ax.set_title(\"Per day morbidity (% pop) increase euro countries (Last 30 days)\")\n",
    "    plt_ax.set_xlabel(\"Date\")\n",
    "    plt_ax.legend(loc='upper left', fontsize='xx-small')\n",
    "    plt.show()\n",
    "\n",
    "morbidity_plot(full_data)"
   ]
  },
  {
   "cell_type": "code",
   "execution_count": null,
   "metadata": {},
   "outputs": [],
   "source": [
    "def plots_comparison(data_dict, last_date, num_days=None, use_bar=False):\n",
    "    ctry_num = len(data_dict[\"countries\"])/2\n",
    "    _, axs = plt.subplots(int(ceil(ctry_num)), 2, figsize=(9, 40))\n",
    "\n",
    "    cnt = 0\n",
    "    cntrow = 0\n",
    "    for ctry in data_dict[\"countries\"]:\n",
    "        day_data = []\n",
    "        for day in data_dict[\"countries\"][ctry][\"cases\"]:\n",
    "            if ctry == \"us\" and last_date < datetime.fromtimestamp(day/1000):\n",
    "                continue\n",
    "            day_data.append(data_dict[\"countries\"][ctry][\"cases\"][day][0])\n",
    "\n",
    "        curr_dates = cases_dates\n",
    "        if num_days:\n",
    "            curr_dates = cases_dates[-1*num_days:-1]\n",
    "            day_data = day_data[-1*num_days:-1]\n",
    "\n",
    "        if use_bar:\n",
    "            axs[cntrow, cnt].bar(curr_dates, day_data)\n",
    "        else:\n",
    "            axs[cntrow, cnt].plot(curr_dates, day_data)\n",
    "        axs[cntrow, cnt].set_title(data_dict[\"countries\"][ctry][\"country_name\"])\n",
    "        cntrow = cntrow if cnt < 1 else cntrow + 1\n",
    "        cnt = cnt + 1 if cnt < 1 else 0\n",
    "\n",
    "    plt.tight_layout(pad=4.0)"
   ]
  },
  {
   "cell_type": "code",
   "execution_count": null,
   "metadata": {
    "scrolled": false
   },
   "outputs": [],
   "source": [
    "# Plot all country comparison\n",
    "plots_comparison(full_data, last_euro_date)"
   ]
  },
  {
   "cell_type": "code",
   "execution_count": null,
   "metadata": {},
   "outputs": [],
   "source": [
    "# Plot all country comparison\n",
    "plots_comparison(full_data, last_euro_date, 60, True)"
   ]
  },
  {
   "cell_type": "code",
   "execution_count": null,
   "metadata": {},
   "outputs": [],
   "source": [
    "# Add last 60 days plot cases normalized to country population"
   ]
  },
  {
   "cell_type": "code",
   "execution_count": null,
   "metadata": {},
   "outputs": [],
   "source": []
  }
 ],
 "metadata": {
  "kernelspec": {
   "display_name": "Python 3 (ipykernel)",
   "language": "python",
   "name": "python3"
  },
  "language_info": {
   "codemirror_mode": {
    "name": "ipython",
    "version": 3
   },
   "file_extension": ".py",
   "mimetype": "text/x-python",
   "name": "python",
   "nbconvert_exporter": "python",
   "pygments_lexer": "ipython3",
   "version": "3.9.7"
  }
 },
 "nbformat": 4,
 "nbformat_minor": 4
}
