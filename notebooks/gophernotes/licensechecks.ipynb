{
 "cells": [
  {
   "cell_type": "code",
   "execution_count": null,
   "metadata": {},
   "outputs": [],
   "source": [
    "import (\n",
    "    \"encoding/json\"\n",
    "    \"fmt\"\n",
    "    \"io/ioutil\"\n",
    "    \"os\"\n",
    "    \"strings\"\n",
    ")"
   ]
  },
  {
   "cell_type": "code",
   "execution_count": null,
   "metadata": {},
   "outputs": [],
   "source": [
    "type DOILicense struct {\n",
    "    URL   string\n",
    "    Name  string\n",
    "    Alias []string\n",
    "}\n"
   ]
  },
  {
   "cell_type": "code",
   "execution_count": null,
   "metadata": {},
   "outputs": [],
   "source": [
    "var licenses []DOILicense"
   ]
  },
  {
   "cell_type": "code",
   "execution_count": null,
   "metadata": {},
   "outputs": [],
   "source": [
    "jfpath := \"../../notes/projects/doi/doi-licenses.json\"\n",
    "jfile, err := os.Open(jfpath)\n",
    "if err != nil {\n",
    "    fmt.Printf(\"Error opening file: %s\", err.Error())\n",
    "}\n",
    "\n",
    "jdata, err := ioutil.ReadAll(jfile)\n",
    "if err != nil {\n",
    "    fmt.Printf(\"Error reading file: %s\", err.Error())\n",
    "}\n",
    "\n",
    "if err = json.Unmarshal(jdata, &licenses); err != nil {\n",
    "    fmt.Printf(\"Error decoding json file: %s\", err.Error())\n",
    "}"
   ]
  },
  {
   "cell_type": "code",
   "execution_count": null,
   "metadata": {},
   "outputs": [],
   "source": [
    "for idx, val := range licenses {\n",
    "    fmt.Printf(\"%d, %s\\n\", idx, val.Alias)\n",
    "}"
   ]
  },
  {
   "cell_type": "code",
   "execution_count": null,
   "metadata": {},
   "outputs": [],
   "source": [
    "// cleancompstr cleans up an input string.\n",
    "// Surrounding whitespaces are removed and \n",
    "// converted to lower case.\n",
    "func cleancompstr(cleanup string) string {\n",
    "    cleanup = strings.TrimSpace(cleanup)\n",
    "    cleanup = strings.ToLower(cleanup)\n",
    "    return cleanup\n",
    "}"
   ]
  },
  {
   "cell_type": "code",
   "execution_count": null,
   "metadata": {},
   "outputs": [],
   "source": [
    "licenseURL := \" https://creativecommons.org/licenses/by-nc-sa/4.0/LEGALCODE \"\n",
    "fmt.Printf(\"Before cleanup: '%s'\\n\", licenseURL)\n",
    "licenseURL = cleancompstr(licenseURL)\n",
    "fmt.Printf(\"After cleanup: '%s'\\n\", licenseURL)\n",
    "\n",
    "var licenseMatch DOILicense\n",
    "\n",
    "// check if license can be matched with a known license\n",
    "for _, val := range licenses {\n",
    "    // provided licenses URLs can be more verbose than the default license URL\n",
    "    if strings.Contains(licenseURL, val.URL) {\n",
    "        licenseMatch = val\n",
    "        fmt.Printf(\"Found license: %s\", val.Name)\n",
    "        break\n",
    "    }\n",
    "}\n"
   ]
  },
  {
   "cell_type": "code",
   "execution_count": null,
   "metadata": {},
   "outputs": [],
   "source": [
    "import \"net/http\"\n",
    "\n",
    "// Check whether a provided license URL is available; \n",
    "// keep in mind, that a URL might exists but might be currently unavailable\n",
    "resp, err := http.Get(licenseURL)\n",
    "if err != nil {\n",
    "    fmt.Printf(\"License URL not accessible: '%s'\", err.Error())\n",
    "} else if resp.StatusCode != 200 {\n",
    "    fmt.Printf(\"License URL not available: http StatusCode %d\", resp.StatusCode)\n",
    "}"
   ]
  },
  {
   "cell_type": "code",
   "execution_count": null,
   "metadata": {},
   "outputs": [],
   "source": [
    "// licTitlesFound checks whether two different license titles can be found\n",
    "// both in the 'Alias' list of a 'DOILicense'.\n",
    "// Returns true in case both can be found, false in any other case.\n",
    "func licTitlesFound(titleDatacite string, titleFile string, lic DOILicense) bool {\n",
    "    var foundD bool\n",
    "    var foundF bool\n",
    "    \n",
    "    for _, alias := range lic.Alias {\n",
    "        curralias := strings.ToLower(alias)\n",
    "        fmt.Printf(\"Checking alias '%s'\\n\", alias)\n",
    "        if titleDatacite == curralias {\n",
    "            fmt.Printf(\"Found license DC alias: '%s'\\n\", alias)\n",
    "            foundD = true\n",
    "        }\n",
    "        if titleFile == curralias {\n",
    "            fmt.Printf(\"Found license file alias: '%s'\\n\", alias)\n",
    "            foundF = true\n",
    "        }\n",
    "    }\n",
    "    return foundD && foundF\n",
    "}\n"
   ]
  },
  {
   "cell_type": "code",
   "execution_count": null,
   "metadata": {},
   "outputs": [],
   "source": [
    "// If license was identified via URL check if datacite license title is in the accepted alias list.\n",
    "licenseTitle := \" I shall not be found \"\n",
    "licenseTitle = cleancompstr(licenseTitle)\n",
    "\n",
    "fmt.Printf(\"License title '%s' found: %v \\n\", licenseTitle, licTitleSupported(licenseTitle, licenseMatch))"
   ]
  },
  {
   "cell_type": "code",
   "execution_count": null,
   "metadata": {},
   "outputs": [],
   "source": [
    "licenseTitle := \" cc-BY-NC-Sa 4.0 \"\n",
    "licenseTitle = cleancompstr(licenseTitle)\n",
    "\n",
    "fmt.Printf(\"License title '%s' found: %v \\n\", licenseTitle, licTitleSupported(licenseTitle, licenseMatch))"
   ]
  },
  {
   "cell_type": "code",
   "execution_count": null,
   "metadata": {},
   "outputs": [],
   "source": [
    "// file read first line only\n",
    "func readFileAtURL(url string) ([]byte, error) {\n",
    "\tclient := &http.Client{}\n",
    "\tfmt.Printf(\"Fetching file at %q\", url)\n",
    "\treq, _ := http.NewRequest(http.MethodGet, url, nil)\n",
    "\tresp, err := client.Do(req)\n",
    "\tif err != nil {\n",
    "\t\tfmt.Printf(\"Request failed: %s\", err.Error())\n",
    "\t\treturn nil, err\n",
    "\t}\n",
    "\tdefer resp.Body.Close()\n",
    "\tif resp.StatusCode != http.StatusOK {\n",
    "\t\treturn nil, fmt.Errorf(\"Request returned non-OK status: %s\", resp.Status)\n",
    "\t}\n",
    "\tbody, err := ioutil.ReadAll(resp.Body)\n",
    "\tif err != nil {\n",
    "\t\tfmt.Printf(\"Could not read file contents: %s\", err.Error())\n",
    "\t\treturn nil, err\n",
    "\t}\n",
    "\treturn body, nil\n",
    "}\n"
   ]
  },
  {
   "cell_type": "code",
   "execution_count": null,
   "metadata": {},
   "outputs": [],
   "source": [
    "licURL := \"https://gin.dev.g-node.org/msonntag/doitest_with_submodule/raw/master/LICENSE\""
   ]
  },
  {
   "cell_type": "code",
   "execution_count": null,
   "metadata": {},
   "outputs": [],
   "source": [
    "content := readFileAtURL(licURL)"
   ]
  },
  {
   "cell_type": "code",
   "execution_count": null,
   "metadata": {},
   "outputs": [],
   "source": [
    "splitcont := strings.Split(strings.Replace(string(content), \"\\r\\n\", \"\\n\", -1), \"\\n\")[0]"
   ]
  },
  {
   "cell_type": "code",
   "execution_count": null,
   "metadata": {},
   "outputs": [],
   "source": [
    "splitcont"
   ]
  },
  {
   "cell_type": "code",
   "execution_count": null,
   "metadata": {},
   "outputs": [],
   "source": [
    "string(content)[0:20]"
   ]
  },
  {
   "cell_type": "code",
   "execution_count": null,
   "metadata": {},
   "outputs": [],
   "source": [
    "splitme := \"I;will;be;split\""
   ]
  },
  {
   "cell_type": "code",
   "execution_count": null,
   "metadata": {},
   "outputs": [],
   "source": [
    "strings.Split(splitme, \";\")"
   ]
  },
  {
   "cell_type": "code",
   "execution_count": null,
   "metadata": {},
   "outputs": [],
   "source": [
    "strings.SplitN(splitme, \":\", 2)"
   ]
  },
  {
   "cell_type": "code",
   "execution_count": null,
   "metadata": {},
   "outputs": [],
   "source": [
    "strings.SplitAfterN(splitme, \";\", 3)"
   ]
  },
  {
   "cell_type": "code",
   "execution_count": null,
   "metadata": {},
   "outputs": [],
   "source": []
  }
 ],
 "metadata": {
  "kernelspec": {
   "display_name": "Go",
   "language": "go",
   "name": "gophernotes"
  },
  "language_info": {
   "codemirror_mode": "",
   "file_extension": ".go",
   "mimetype": "",
   "name": "go",
   "nbconvert_exporter": "",
   "pygments_lexer": "",
   "version": "go1.15.8"
  }
 },
 "nbformat": 4,
 "nbformat_minor": 4
}
