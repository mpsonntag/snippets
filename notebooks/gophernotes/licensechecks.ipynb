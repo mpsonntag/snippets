{
 "cells": [
  {
   "cell_type": "code",
   "execution_count": null,
   "metadata": {},
   "outputs": [],
   "source": [
    "import (\n",
    "    \"encoding/json\"\n",
    "    \"fmt\"\n",
    "    \"io/ioutil\"\n",
    "    \"os\"\n",
    "    \"strings\"\n",
    ")"
   ]
  },
  {
   "cell_type": "code",
   "execution_count": null,
   "metadata": {},
   "outputs": [],
   "source": [
    "type DOILicense struct {\n",
    "    URL   string\n",
    "    Name  string\n",
    "    Alias []string\n",
    "}\n"
   ]
  },
  {
   "cell_type": "code",
   "execution_count": null,
   "metadata": {},
   "outputs": [],
   "source": [
    "var licenses []DOILicense"
   ]
  },
  {
   "cell_type": "code",
   "execution_count": null,
   "metadata": {},
   "outputs": [],
   "source": [
    "jfpath := \"../../notes/projects/doi/doi-licenses.json\"\n",
    "jfile, err := os.Open(jfpath)\n",
    "if err != nil {\n",
    "    fmt.Printf(\"Error opening file: %s\", err.Error())\n",
    "}\n",
    "\n",
    "jdata, err := ioutil.ReadAll(jfile)\n",
    "if err != nil {\n",
    "    fmt.Printf(\"Error reading file: %s\", err.Error())\n",
    "}\n",
    "\n",
    "if err = json.Unmarshal(jdata, &licenses); err != nil {\n",
    "    fmt.Printf(\"Error decoding json file: %s\", err.Error())\n",
    "}"
   ]
  },
  {
   "cell_type": "code",
   "execution_count": null,
   "metadata": {},
   "outputs": [],
   "source": [
    "for idx, val := range licenses {\n",
    "    fmt.Printf(\"%d, %s\\n\", idx, val.Alias)\n",
    "}"
   ]
  },
  {
   "cell_type": "code",
   "execution_count": null,
   "metadata": {},
   "outputs": [],
   "source": [
    "// cleancompstr cleans up an input string.\n",
    "// Surrounding whitespaces are removed and \n",
    "// converted to lower case.\n",
    "func cleancompstr(cleanup string) string {\n",
    "    cleanup = strings.TrimSpace(cleanup)\n",
    "    cleanup = strings.ToLower(cleanup)\n",
    "    return cleanup\n",
    "}"
   ]
  },
  {
   "cell_type": "code",
   "execution_count": null,
   "metadata": {},
   "outputs": [],
   "source": [
    "licenseURL := \" https://creativecommons.org/licenses/by-nc-sa/4.0/LEGALCODE \"\n",
    "fmt.Printf(\"Before cleanup: '%s'\\n\", licenseURL)\n",
    "licenseURL = cleancompstr(licenseURL)\n",
    "fmt.Printf(\"After cleanup: '%s'\\n\", licenseURL)\n",
    "\n",
    "var licenseMatch DOILicense\n",
    "\n",
    "// check if license can be matched with a known license\n",
    "for _, val := range licenses {\n",
    "    // provided licenses URLs can be more verbose than the default license URL\n",
    "    if strings.Contains(licenseURL, val.URL) {\n",
    "        licenseMatch = val\n",
    "        fmt.Printf(\"Found license: %s\", val.Name)\n",
    "        break\n",
    "    }\n",
    "}\n"
   ]
  },
  {
   "cell_type": "code",
   "execution_count": null,
   "metadata": {},
   "outputs": [],
   "source": [
    "import \"net/http\"\n",
    "\n",
    "// Check whether a provided license URL is available; \n",
    "// keep in mind, that a URL might exists but might be currently unavailable\n",
    "resp, err := http.Get(licenseURL)\n",
    "if err != nil {\n",
    "    fmt.Printf(\"License URL not accessible: '%s'\", err.Error())\n",
    "} else if resp.StatusCode != 200 {\n",
    "    fmt.Printf(\"License URL not available: http StatusCode %d\", resp.StatusCode)\n",
    "}"
   ]
  },
  {
   "cell_type": "code",
   "execution_count": null,
   "metadata": {},
   "outputs": [],
   "source": [
    "func licTitleSupported(licTitle string, lic DOILicense) bool {\n",
    "    for _, alias := range lic.Alias {\n",
    "        fmt.Printf(\"Checking alias '%s'\\n\", alias)\n",
    "        if licTitle == strings.ToLower(alias) {\n",
    "            fmt.Printf(\"Found license alias: '%s'\\n\", alias)\n",
    "            return true\n",
    "        }\n",
    "    }\n",
    "    return false\n",
    "}\n"
   ]
  },
  {
   "cell_type": "code",
   "execution_count": null,
   "metadata": {},
   "outputs": [],
   "source": [
    "// If license was identified via URL check if datacite license title is in the accepted alias list.\n",
    "licenseTitle := \" I shall not be found \"\n",
    "licenseTitle = cleancompstr(licenseTitle)\n",
    "\n",
    "fmt.Printf(\"License title '%s' found: %v \\n\", licenseTitle, licTitleSupported(licenseTitle, licenseMatch))"
   ]
  },
  {
   "cell_type": "code",
   "execution_count": null,
   "metadata": {},
   "outputs": [],
   "source": [
    "licenseTitle := \" cc-BY-NC-Sa 4.0 \"\n",
    "licenseTitle = cleancompstr(licenseTitle)\n",
    "\n",
    "fmt.Printf(\"License title '%s' found: %v \\n\", licenseTitle, licTitleSupported(licenseTitle, licenseMatch))"
   ]
  },
  {
   "cell_type": "code",
   "execution_count": null,
   "metadata": {},
   "outputs": [],
   "source": []
  }
 ],
 "metadata": {
  "kernelspec": {
   "display_name": "Go",
   "language": "go",
   "name": "gophernotes"
  },
  "language_info": {
   "codemirror_mode": "",
   "file_extension": ".go",
   "mimetype": "",
   "name": "go",
   "nbconvert_exporter": "",
   "pygments_lexer": "",
   "version": "go1.15.8"
  }
 },
 "nbformat": 4,
 "nbformat_minor": 4
}
