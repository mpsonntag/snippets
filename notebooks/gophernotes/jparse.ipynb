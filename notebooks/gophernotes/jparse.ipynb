{
 "cells": [
  {
   "cell_type": "code",
   "execution_count": 18,
   "metadata": {},
   "outputs": [],
   "source": [
    "import (\n",
    "    \"encoding/json\"\n",
    "    \"fmt\"\n",
    "    \"io/ioutil\"\n",
    "    \"os\"\n",
    ")"
   ]
  },
  {
   "cell_type": "code",
   "execution_count": 21,
   "metadata": {},
   "outputs": [],
   "source": [
    "type DOILicense struct {\n",
    "    URL   string `json:\"URL\"`\n",
    "    Name  string `json:Name`\n",
    "    Alias []string `json:Alias`\n",
    "}\n",
    "\n",
    "type DOILicenses struct {\n",
    "    DOILicense []DOILicense `json:\"DOILicense\"`\n",
    "}"
   ]
  },
  {
   "cell_type": "code",
   "execution_count": 22,
   "metadata": {},
   "outputs": [],
   "source": [
    "var licenses DOILicenses"
   ]
  },
  {
   "cell_type": "code",
   "execution_count": 23,
   "metadata": {},
   "outputs": [],
   "source": [
    "jfpath := \"/home/msonntag/Chaos/work/gin-doi/doi-licenses.json\"\n",
    "jfile, err := os.Open(jfpath)\n",
    "if err != nil {\n",
    "    fmt.Printf(\"Error opening file: %s\", err.Error())\n",
    "}\n",
    "\n",
    "jdata, err := ioutil.ReadAll(jfile)\n",
    "if err != nil {\n",
    "    fmt.Printf(\"Error reading file: %s\", err.Error())\n",
    "}\n",
    "\n",
    "if err = json.Unmarshal(jdata, &licenses); err != nil {\n",
    "    fmt.Printf(\"Error decoding json file: %s\", err.Error())\n",
    "}"
   ]
  },
  {
   "cell_type": "code",
   "execution_count": 24,
   "metadata": {},
   "outputs": [
    {
     "name": "stdout",
     "output_type": "stream",
     "text": [
      "Content: {[{http://www.apache.org/licenses/LICENSE-2.0 Apache License [Apache License Apache License 2.0]} {https://opensource.org/licenses/MIT The MIT License [The MIT License MIT License]} {https://opensource.org/licenses/BSD-3-Clause The 3-Clause BSD License [The 3-Clause BSD License BSD-3-Clause]} {https://www.gnu.org/licenses/gpl-3.0.en.html GNU General Public License v3.0 [GNU General Public License v3.0 GNU General Public License]} {https://creativecommons.org/publicdomain/zero/1.0/ CC0 1.0 Universal [CC0 1.0 Universal CC0 1.0 Universal (CC0 1.0) Public Domain Dedication Creative Commons CC0 1.0 Public Domain Dedication CC0]} {https://creativecommons.org/licenses/by-nc-sa/4.0/ Creative Commons Attribution-NonCommercial-ShareAlike 4.0 International Public License [Creative Commons Attribution-NonCommercial-ShareAlike 4.0 International Public License Attribution-NonCommercial-ShareAlike 4.0 International (CC BY-NC-SA 4.0) Creative Commons Attribution-NonCommercial-ShareAlike 4.0 International (CC BY-NC-SA 4.0) Attribution-NonCommercial-ShareAlike 4.0 International CC-BY-NC-SA 4.0 CC-BY-NC-SA]} {https://creativecommons.org/licenses/by-nc-nd/4.0 Creative Commons Attribution-NonCommercial-NoDerivatives 4.0 International Public License [Creative Commons Attribution-NonCommercial-NoDerivatives 4.0 International Public License Attribution-NonCommercial-NoDerivatives 4.0 International (CC BY-NC-ND 4.0) CC-BY-NC-ND 4.0 CC-BY-NC-ND]} {https://creativecommons.org/licenses/by-nc/4.0 Creative Commons Attribution-NonCommercial 4.0 International Public License [Creative Commons Attribution-NonCommercial 4.0 International Public License Attribution-NonCommercial 4.0 International (CC BY-NC 4.0) CC BY-NC 4.0 CC BY-NC]} {https://creativecommons.org/licenses/by-sa/4.0 Creative Commons Attribution-ShareAlike 4.0 International Public License [Creative Commons Attribution-ShareAlike 4.0 International Public License Attribution-ShareAlike 4.0 International (CC BY-SA 4.0) Creative Commons Attribution-ShareAlike 4.0 CC BY-SA 4.0 CC BY-SA]} {https://creativecommons.org/licenses/by/4.0 Creative Commons Attribution 4.0 International Public License [Creative Commons Attribution 4.0 International Public License Creative Commons Attribution 4.0 International License Attribution 4.0 International (CC BY 4.0) CC BY 4.0 CC BY]}]}"
     ]
    },
    {
     "data": {
      "text/plain": [
       "2343 <nil>"
      ]
     },
     "execution_count": 24,
     "metadata": {},
     "output_type": "execute_result"
    }
   ],
   "source": [
    "fmt.Printf(\"Content: %v\", licenses)"
   ]
  },
  {
   "cell_type": "code",
   "execution_count": null,
   "metadata": {},
   "outputs": [],
   "source": []
  }
 ],
 "metadata": {
  "kernelspec": {
   "display_name": "Go",
   "language": "go",
   "name": "gophernotes"
  },
  "language_info": {
   "codemirror_mode": "",
   "file_extension": ".go",
   "mimetype": "",
   "name": "go",
   "nbconvert_exporter": "",
   "pygments_lexer": "",
   "version": "go1.15.8"
  }
 },
 "nbformat": 4,
 "nbformat_minor": 4
}
