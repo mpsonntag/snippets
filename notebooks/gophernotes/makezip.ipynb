{
 "cells": [
  {
   "cell_type": "code",
   "execution_count": null,
   "metadata": {},
   "outputs": [],
   "source": [
    "import \"fmt\""
   ]
  },
  {
   "cell_type": "code",
   "execution_count": null,
   "metadata": {},
   "outputs": [],
   "source": [
    "func testFileExclusion(exclude []string, source ...string) {\n",
    "\tfor _, src := range source {\n",
    "\t\tvar skip bool\n",
    "\t\tfor i := range exclude {\n",
    "\t\t\tif exclude[i] == src {\n",
    "\t\t\t\tskip = true\n",
    "\t\t\t\tbreak\n",
    "\t\t\t}\n",
    "\t\t}\n",
    "\t\tif !skip {\n",
    "\t\t\tfmt.Println(src)\n",
    "\t\t} else {\n",
    "\t\t\tfmt.Printf(\"Excluding '%s'\\n\", src)\n",
    "\t\t}\n",
    "\t}\n",
    "}"
   ]
  },
  {
   "cell_type": "code",
   "execution_count": null,
   "metadata": {},
   "outputs": [],
   "source": [
    "test := []string{\"ab\", \"cd\", \"ef\"}\n",
    "testFileExclusion(test, \"one\", \"two\", \"three\", \"ab\")\n"
   ]
  },
  {
   "cell_type": "code",
   "execution_count": null,
   "metadata": {},
   "outputs": [],
   "source": [
    "import (\n",
    "    \"path/filepath\"\n",
    "    \"os\"\n",
    ")"
   ]
  },
  {
   "cell_type": "code",
   "execution_count": null,
   "metadata": {},
   "outputs": [],
   "source": [
    "walker := func(path string, fi os.FileInfo, err error) error {\n",
    "    // return on any error\n",
    "    if err != nil {\n",
    "        return err\n",
    "    }\n",
    "    fmt.Printf(\"Current path: %s\\n\", path)\n",
    "\n",
    "    return nil\n",
    "}"
   ]
  },
  {
   "cell_type": "code",
   "execution_count": null,
   "metadata": {},
   "outputs": [],
   "source": [
    "source := \".\"\n",
    "err := filepath.Walk(source, walker)\n",
    "if err != nil {\n",
    "    fmt.Printf(\"Error adding %s to zip file: %s\\n\", source, err.Error())\n",
    "}\n"
   ]
  },
  {
   "cell_type": "code",
   "execution_count": null,
   "metadata": {},
   "outputs": [],
   "source": []
  }
 ],
 "metadata": {
  "kernelspec": {
   "display_name": "Go",
   "language": "go",
   "name": "gophernotes"
  },
  "language_info": {
   "codemirror_mode": "",
   "file_extension": ".go",
   "mimetype": "",
   "name": "go",
   "nbconvert_exporter": "",
   "pygments_lexer": "",
   "version": "go1.15.8"
  }
 },
 "nbformat": 4,
 "nbformat_minor": 4
}
