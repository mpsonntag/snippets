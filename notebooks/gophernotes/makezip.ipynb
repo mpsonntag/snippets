{
 "cells": [
  {
   "cell_type": "code",
   "execution_count": null,
   "metadata": {},
   "outputs": [],
   "source": [
    "import (\n",
    "    \"fmt\"\n",
    "    \"path/filepath\"\n",
    "    \"os\"\n",
    ")"
   ]
  },
  {
   "cell_type": "code",
   "execution_count": null,
   "metadata": {},
   "outputs": [],
   "source": [
    "func testFileExclusion(exclude []string, source ...string) {\n",
    "    for _, src := range source {\n",
    "        var skip bool\n",
    "        for i := range exclude {\n",
    "            if exclude[i] == src {\n",
    "                skip = true\n",
    "                break\n",
    "            }\n",
    "        }\n",
    "        if !skip {\n",
    "            fmt.Println(src)\n",
    "        } else {\n",
    "            fmt.Printf(\"Excluding '%s'\\n\", src)\n",
    "        }\n",
    "    }\n",
    "}"
   ]
  },
  {
   "cell_type": "code",
   "execution_count": null,
   "metadata": {},
   "outputs": [],
   "source": [
    "test := []string{\"ab\", \"cd\", \"ef\"}\n",
    "testFileExclusion(test, \"one\", \"two\", \"three\", \"ab\")\n"
   ]
  },
  {
   "cell_type": "code",
   "execution_count": null,
   "metadata": {},
   "outputs": [],
   "source": [
    "testFileExclusion(nil, \"one\", \"two\", \"three\", \"ab\")"
   ]
  },
  {
   "cell_type": "code",
   "execution_count": null,
   "metadata": {},
   "outputs": [],
   "source": [
    "walker := func(path string, fi os.FileInfo, err error) error {\n",
    "    // return on any error\n",
    "    if err != nil {\n",
    "        return err\n",
    "    }\n",
    "    fmt.Printf(\"Current path: %s\\n\", path)\n",
    "\n",
    "    return nil\n",
    "}"
   ]
  },
  {
   "cell_type": "code",
   "execution_count": null,
   "metadata": {},
   "outputs": [],
   "source": [
    "source := \".\"\n",
    "err := filepath.Walk(source, walker)\n",
    "if err != nil {\n",
    "    fmt.Printf(\"Error walking path %s: %s\\n\", source, err.Error())\n",
    "}\n"
   ]
  },
  {
   "cell_type": "code",
   "execution_count": null,
   "metadata": {},
   "outputs": [],
   "source": [
    "var exclude []string\n",
    "exclwalker := func(path string, fi os.FileInfo, err error) error {\n",
    "    // return on any error\n",
    "    if err != nil {\n",
    "        return err\n",
    "    }\n",
    "\n",
    "    for i := range exclude {\n",
    "        if exclude[i] == path {\n",
    "            fmt.Printf(\"Excluding path: %s\\n\", path)\n",
    "            return filepath.SkipDir\n",
    "        }\n",
    "    }\n",
    "    fmt.Printf(\"Current path: %s\\n\", path)\n",
    "\n",
    "    return nil\n",
    "}"
   ]
  },
  {
   "cell_type": "code",
   "execution_count": null,
   "metadata": {},
   "outputs": [],
   "source": [
    "exclude = []string{\"ab\", \"cd\", \"ef\"}\n",
    "source := \".\"\n",
    "err := filepath.Walk(source, exclwalker)\n",
    "if err != nil {\n",
    "    fmt.Printf(\"Error walking path %s: %s\\n\", source, err.Error())\n",
    "}\n"
   ]
  },
  {
   "cell_type": "code",
   "execution_count": null,
   "metadata": {},
   "outputs": [],
   "source": [
    "exclude = []string{\".ipynb_checkpoints\"}\n",
    "source := \".\"\n",
    "err := filepath.Walk(source, exclwalker)\n",
    "if err != nil {\n",
    "    fmt.Printf(\"Error walking path %s: %s\\n\", source, err.Error())\n",
    "}\n"
   ]
  },
  {
   "cell_type": "code",
   "execution_count": null,
   "metadata": {},
   "outputs": [],
   "source": [
    "exclude = []string{\".ipynb_checkpoints\", \"makezip.ipynb\"}\n",
    "source := \".\"\n",
    "err := filepath.Walk(source, exclwalker)\n",
    "if err != nil {\n",
    "    fmt.Printf(\"Error walking path %s: %s\\n\", source, err.Error())\n",
    "}\n"
   ]
  },
  {
   "cell_type": "code",
   "execution_count": null,
   "metadata": {},
   "outputs": [],
   "source": [
    "exclude = nil\n",
    "source := \".\"\n",
    "err := filepath.Walk(source, exclwalker)\n",
    "if err != nil {\n",
    "    fmt.Printf(\"Error walking path %s: %s\\n\", source, err.Error())\n",
    "}\n"
   ]
  },
  {
   "cell_type": "code",
   "execution_count": null,
   "metadata": {},
   "outputs": [],
   "source": [
    "import \"archive/zip\"\n"
   ]
  },
  {
   "cell_type": "code",
   "execution_count": null,
   "metadata": {},
   "outputs": [],
   "source": [
    "zipfile := \"/tmp/test_libgin_makezip137891882/test_makezip.zip\"\n",
    "\n",
    "zipreader, err := zip.OpenReader(zipfile)\n",
    "if err != nil {\n",
    "    fmt.Printf(\"Error opening zip file: %v\", err)\n",
    "}\n",
    "defer zipreader.Close()\n"
   ]
  },
  {
   "cell_type": "code",
   "execution_count": null,
   "metadata": {},
   "outputs": [],
   "source": [
    "incl := map[string]struct{} {\n",
    "    \"included/included.md\": {},\n",
    "    \"included/not_excluded.md\": {},\n",
    "    \"included.md\": {},\n",
    "}\n",
    "\n",
    "excl := map[string]struct{} {\n",
    "    \".git/excluded.md\": {},\n",
    "    \"excluded/excluded.md\": {},\n",
    "}\n"
   ]
  },
  {
   "cell_type": "code",
   "execution_count": null,
   "metadata": {},
   "outputs": [],
   "source": [
    "var includedCounter []string\n",
    "for _, file := range zipreader.File {\n",
    "    if _, included := incl[file.Name]; !included {\n",
    "        if _, excluded := excl[file.Name]; excluded {\n",
    "            fmt.Printf(\"Invalid file found: %s\", file.Name)\n",
    "        }\n",
    "    } else {\n",
    "        includedCounter = append(includedCounter, file.Name)\n",
    "    }\n",
    "}\n"
   ]
  },
  {
   "cell_type": "code",
   "execution_count": null,
   "metadata": {},
   "outputs": [],
   "source": [
    "if len(includedCounter) != len(incl) {\n",
    "    fmt.Printf(\"Zip does not include correct number of elements: %v/%v\\n%v\", len(includedCounter), len(incl), includedCounter)\n",
    "}\n"
   ]
  },
  {
   "cell_type": "code",
   "execution_count": null,
   "metadata": {},
   "outputs": [],
   "source": []
  }
 ],
 "metadata": {
  "kernelspec": {
   "display_name": "Go",
   "language": "go",
   "name": "gophernotes"
  },
  "language_info": {
   "codemirror_mode": "",
   "file_extension": ".go",
   "mimetype": "",
   "name": "go",
   "nbconvert_exporter": "",
   "pygments_lexer": "",
   "version": "go1.15.8"
  }
 },
 "nbformat": 4,
 "nbformat_minor": 4
}
