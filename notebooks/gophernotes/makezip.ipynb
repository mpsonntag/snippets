{
 "cells": [
  {
   "cell_type": "code",
   "execution_count": null,
   "metadata": {},
   "outputs": [],
   "source": [
    "import \"fmt\""
   ]
  },
  {
   "cell_type": "code",
   "execution_count": null,
   "metadata": {},
   "outputs": [],
   "source": [
    "func testFileExclusion(exclude []string, source ...string) {\n",
    "\tfor _, src := range source {\n",
    "\t\tvar skip bool\n",
    "\t\tfor i := range exclude {\n",
    "\t\t\tif exclude[i] == src {\n",
    "\t\t\t\tskip = true\n",
    "\t\t\t\tbreak\n",
    "\t\t\t}\n",
    "\t\t}\n",
    "\t\tif !skip {\n",
    "\t\t\tfmt.Println(src)\n",
    "\t\t} else {\n",
    "\t\t\tfmt.Printf(\"Excluding '%s'\\n\", src)\n",
    "\t\t}\n",
    "\t}\n",
    "}"
   ]
  },
  {
   "cell_type": "code",
   "execution_count": null,
   "metadata": {},
   "outputs": [],
   "source": [
    "test := []string{\"ab\", \"cd\", \"ef\"}\n",
    "testFileExclusion(test, \"one\", \"two\", \"three\", \"ab\")\n"
   ]
  },
  {
   "cell_type": "code",
   "execution_count": null,
   "metadata": {},
   "outputs": [],
   "source": []
  }
 ],
 "metadata": {
  "kernelspec": {
   "display_name": "Go",
   "language": "go",
   "name": "gophernotes"
  },
  "language_info": {
   "codemirror_mode": "",
   "file_extension": ".go",
   "mimetype": "",
   "name": "go",
   "nbconvert_exporter": "",
   "pygments_lexer": "",
   "version": "go1.15.8"
  }
 },
 "nbformat": 4,
 "nbformat_minor": 4
}
