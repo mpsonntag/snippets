{
 "cells": [
  {
   "cell_type": "markdown",
   "id": "2f9b55bd",
   "metadata": {},
   "source": [
    "\n",
    "### RTG 2175 Retreat Sylvenstein, 20 - 21.10.2021\n",
    "\n",
    "# Testing code and increasing code quality\n",
    "\n",
    "                                    Michael Sonntag\n",
    "\n",
    "                                    Department Biologie II\n",
    "                                    Ludwig-Maximilians-Universität München\n",
    "\n",
    "\n",
    "![G-Node-logo.png](./resources/G-Node-logo.png)"
   ]
  },
  {
   "cell_type": "markdown",
   "id": "4ada5152",
   "metadata": {},
   "source": [
    "Find this notebook on gin: https://gin.g-node.org/RTG2175/RTG_Retreat_2021\n",
    "\n",
    "Use git to get it!\n",
    "\n",
    "```\n",
    "git clone https://gin.g-node.org/RTG2175/RTG_Retreat_2021.git\n",
    "```"
   ]
  },
  {
   "cell_type": "markdown",
   "id": "5ace6287",
   "metadata": {},
   "source": [
    "### Why test code\n",
    "\n",
    "Controls! When conducting experiments, running controls is essential. Tests act like controls for your code.\n",
    "\n",
    "- make sure code works as expected\n",
    "\n",
    "\n",
    "- ensure code changes do not change the expected results\n",
    "\n",
    "\n",
    "- ensure programming language or library package updates does not lead to different results\n",
    "\n",
    "\n",
    "- document how code is used: point people to tests to show how the code is MEANT to be used.\n",
    "\n"
   ]
  },
  {
   "cell_type": "markdown",
   "id": "2245b930",
   "metadata": {},
   "source": [
    "### What's your gain from this session\n",
    "\n",
    "- learn how to write and run simple tests\n",
    "\n",
    "\n",
    "- pointers in how to write tests for your own projects\n",
    "\n",
    "\n",
    "- crashcourse in how to write tests in Python\n",
    "\n",
    "\n",
    "- pointers how to write tests with Matlab\n",
    "\n"
   ]
  },
  {
   "cell_type": "markdown",
   "id": "9776b359",
   "metadata": {},
   "source": [
    "### Write and run basic tests\n",
    "\n",
    "The most basic way to test code is to write functions that check the result of another function"
   ]
  },
  {
   "cell_type": "code",
   "execution_count": null,
   "id": "7ffdde17",
   "metadata": {},
   "outputs": [],
   "source": [
    "assert True"
   ]
  },
  {
   "cell_type": "code",
   "execution_count": null,
   "id": "183057df",
   "metadata": {},
   "outputs": [],
   "source": [
    "assert False"
   ]
  },
  {
   "cell_type": "code",
   "execution_count": null,
   "id": "b36052f6",
   "metadata": {},
   "outputs": [],
   "source": [
    "def add_up(a, b):\n",
    "    return a + b\n",
    "\n",
    "def test_add_up_succeed():\n",
    "    assert add_up(1, 2) == 3\n",
    "\n",
    "def test_add_up_fail():\n",
    "    assert add_up(1, 2) == 4\n"
   ]
  },
  {
   "cell_type": "code",
   "execution_count": null,
   "id": "33b75d6b",
   "metadata": {},
   "outputs": [],
   "source": [
    "test_add_up_succeed()"
   ]
  },
  {
   "cell_type": "code",
   "execution_count": null,
   "id": "5eea36cf",
   "metadata": {},
   "outputs": [],
   "source": [
    "test_add_up_fail()"
   ]
  },
  {
   "cell_type": "markdown",
   "id": "a0a70e10",
   "metadata": {},
   "source": [
    "Lets make it an exercise!\n",
    "\n",
    "Use `ipython` or a new jupyter notebook to run the code snippets above or get crazy and write a function and test of your own."
   ]
  },
  {
   "cell_type": "markdown",
   "id": "7d96e583",
   "metadata": {},
   "source": [
    "Lets also include our amazing `git` skills!\n",
    "\n",
    "- fetch the RTG workshop noteboook from gin\n",
    "- create a repo on github e.g. \"testlint\" (always good to avoid any whitespaces or special characters)\n",
    "- git clone it locally (ideally using ssh)\n",
    "- optionally: if you do not want to create a github repo, initialize a local git repository\n",
    "- move into this repository\n"
   ]
  },
  {
   "cell_type": "markdown",
   "id": "ce3f0c77",
   "metadata": {},
   "source": [
    "### Test frameworks\n",
    "Could write your own test code without any additional packages. Its more convenient to use something thats already there.\n",
    "There are already testframeworks out there that make testing more convenient and provide additional functionality\n",
    "- `pytest`: https://docs.pytest.org\n",
    "- `nose`: https://nose.readthedocs.io\n",
    "- `tox`: https://tox.readthedocs.io\n",
    "- NOTE: if you stumble across `python setup.py test`: this is DEPRECATED.\n",
    "\n",
    "A fairly good introduction into testing and testing frameworks can be found here: https://pythontesting.net/start-here/\n",
    "\n",
    "We will be working with the __pytest__ framework."
   ]
  },
  {
   "cell_type": "markdown",
   "id": "1cca2a2b",
   "metadata": {},
   "source": [
    "### Pytest requirements\n",
    "\n",
    "```\n",
    "pip install pytest\n",
    "```\n"
   ]
  },
  {
   "cell_type": "markdown",
   "id": "e309aaa1",
   "metadata": {},
   "source": [
    "On the command line you can use pytest by just running the command\n",
    "\n",
    "```\n",
    "pytest \n",
    "```\n",
    "\n",
    "`pytest` will \n",
    "- check all Python files in the current folder and all files in any subfolder.\n",
    "- any file in a subfolder starting with \"test_\" will be run\n",
    "- any file that is specifically handed to pytest will be run\n",
    "- any function within a run file that starts with \"test_\" will be run\n"
   ]
  },
  {
   "cell_type": "markdown",
   "id": "01fa039b",
   "metadata": {},
   "source": [
    "Lets prepare a directory structure, Python code files and files that will serve as our test:\n",
    "\n",
    "\n",
    "```\n",
    "mkdir -p testlint/test\n",
    "touch testlint/test/example.py\n",
    "touch testlint/test/example_ignored.py\n",
    "touch testlint/test/test_example.py\n",
    "cd testlint\n",
    "```\n"
   ]
  },
  {
   "cell_type": "markdown",
   "id": "b0890c96",
   "metadata": {},
   "source": [
    "The directory structure should look like this:\n",
    "\n",
    "    testlint\n",
    "    └─ test\n",
    "       ├─ example.py\n",
    "       ├─ example_ignored.py\n",
    "       └─ test_example.py\n"
   ]
  },
  {
   "cell_type": "markdown",
   "id": "0fa45364",
   "metadata": {},
   "source": [
    "Functions and test code can be provided in the same file e.g. in file `example.py`:\n",
    "\n",
    "File content of `example.py`\n",
    "\n",
    "```\n",
    "def add_up(a, b):\n",
    "    return a + b\n",
    "\n",
    "def test_add_up_succeed():\n",
    "    assert add_up(1, 2) == 3\n",
    "\n",
    "def test_add_up_fail():\n",
    "    assert add_up(1, 2) == 4\n",
    "\n",
    "def ignore_me():\n",
    "    assert \"I will be\" == \"completely ignored\"\n",
    "```\n",
    "\n",
    "Run the test by providing the file name\n",
    "\n",
    "```\n",
    "pytest test/example.py\n",
    "```\n"
   ]
  },
  {
   "cell_type": "markdown",
   "id": "67d11804",
   "metadata": {},
   "source": [
    "By default Python files are ignored even if they contain test functions:\n",
    "\n",
    "File content of `example_ignored.py`:\n",
    "\n",
    "```\n",
    "def ignored():\n",
    "    assert \"a\" == \"b\"\n",
    "\n",
    "def test_ignored():\n",
    "    assert \"b\" == \"c\"\n",
    "```\n",
    "\n",
    "\n",
    "Run pytest with the contents of folder \"tests\"\n",
    "\n",
    "```\n",
    "pytest test\n",
    "```\n"
   ]
  },
  {
   "cell_type": "markdown",
   "id": "645936f9",
   "metadata": {},
   "source": [
    "By default Python files with the \"test_\" prefix are run:\n",
    "\n",
    "File content of `test_example.py`:\n",
    "\n",
    "```\n",
    "def i_am_ignored():\n",
    "    assert \"a\" == \"b\"\n",
    "\n",
    "\n",
    "def test_i_am_included_success():\n",
    "    assert 1 == 1\n",
    "\n",
    "\n",
    "def test_i_am_included_fail():\n",
    "    assert 1 == 2\n",
    "```\n",
    "\n",
    "Again run pytest with the contents of folder test\n",
    "\n",
    "```\n",
    "pytest test\n",
    "```\n",
    "\n",
    "Including files can be forced by providing the folder content:\n",
    "\n",
    "```\n",
    "pytest test/*\n",
    "```\n"
   ]
  },
  {
   "cell_type": "markdown",
   "id": "45882f6a",
   "metadata": {},
   "source": [
    "#### Exercise\n",
    "- create the package in your git repo as described above\n",
    "- add code and test code to the files\n",
    "- run pytest on your code\n",
    "- fix broken tests or come up with your own\n",
    "- git commit the changs"
   ]
  },
  {
   "cell_type": "markdown",
   "id": "db9258f0",
   "metadata": {},
   "source": [
    "\n",
    "##### Great. We know now how to write test functions and how to run them.\n",
    "\n",
    "But how do we write tests that include functions from a Python code package?\n"
   ]
  },
  {
   "cell_type": "markdown",
   "id": "d1f749e1",
   "metadata": {},
   "source": [
    "```\n",
    "mkdir -p testlint\n",
    "touch testlint/util.py\n",
    "touch testlint/__init__.py\n",
    "touch test/__init__.py\n",
    "touch test/test_testlint_util.py\n",
    "```\n",
    "\n",
    "The directory structure should now look like this:\n",
    "\n",
    "    testlint\n",
    "    ├─ testlint\n",
    "    |  ├─ __init__.py\n",
    "    |  └─ util.py\n",
    "    └─ test\n",
    "       ├─ __init__.py\n",
    "       ├─ example.py\n",
    "       ├─ example_ignored.py\n",
    "       ├─ test_example.py\n",
    "       └─ test_testlint_util.py\n"
   ]
  },
  {
   "cell_type": "markdown",
   "id": "abaa3ab5",
   "metadata": {},
   "source": [
    "\n",
    "Lets add some extremely import code to our package utility file; `testlint/util.py`:\n",
    "\n",
    "```\n",
    "def add_yourself(a):\n",
    "    return a + a\n",
    "```\n"
   ]
  },
  {
   "cell_type": "markdown",
   "id": "ed7f26c3",
   "metadata": {},
   "source": [
    "\n",
    "Lets make this function available to the testing package without installing the code package via the packages `\\__init__` file\n",
    "\n",
    "`testlint/__init__.py` content:\n",
    "\n",
    "```\n",
    "from . import util\n",
    "```\n"
   ]
  },
  {
   "cell_type": "markdown",
   "id": "9088c320",
   "metadata": {},
   "source": [
    "\n",
    "And lets add a test for our function in the `test/test_testlint_util.py` file:\n",
    "\n",
    "```\n",
    "import testlint\n",
    "\n",
    "\n",
    "def test_add_yourself_success():\n",
    "    assert testlint.util.add_yourself(1) == 2\n",
    "\n",
    "def test_add_yourself_fail():\n",
    "    assert testlint.util.add_yourself(1) == 3\n",
    "```\n",
    "\n",
    "We can now run the test by running pylint from the root of the package\n",
    "\n",
    "```\n",
    "pytest\n",
    "```\n"
   ]
  },
  {
   "cell_type": "markdown",
   "id": "fb3c0e92",
   "metadata": {},
   "source": [
    "When working on a specific part of the code, it might be inconvenient to run all tests all the time.\n",
    "\n",
    "```\n",
    "pytest test/test_testlint_util.py::test_add_yourself_fail\n",
    "```\n"
   ]
  },
  {
   "cell_type": "markdown",
   "id": "5f31ba9f",
   "metadata": {},
   "source": [
    "#### Exercise\n",
    "- update your existing package with the code above\n",
    "- run the tests\n",
    "- commit your changes\n",
    "- Update your remote repository so your hard work is safe!"
   ]
  },
  {
   "cell_type": "markdown",
   "id": "2594cb2f",
   "metadata": {},
   "source": [
    "### Writing tests with Matlab\n",
    "\n",
    "Matlab versions R2013b+ provide their own Test frameworks by default; you can find documentation on all different available test approaches here:\n",
    "\n",
    "https://de.mathworks.com/help/matlab/matlab-unit-test-framework.html\n",
    "\n",
    "The simplest option to run tests is by using the `runtest` command. A more detailled description about the requirements of running script based tests with Matlab can be found here:\n",
    "\n",
    "https://de.mathworks.com/help/matlab/matlab_prog/write-script-based-unit-tests.html\n",
    "\n",
    "- the test file name has to start or end with \"test\"\n",
    "- individual tests are specified by Matlab sections using the \"%%\" indicator\n",
    "- everything above the first indicator is content shared with all tests\n",
    "- variables defined within a test are not shared with other tests\n",
    "\n",
    "As an example, a simple test script `testFile.m` with the content:\n",
    "\n",
    "```\n",
    "testval = 1\n",
    "\n",
    "%% Test assert success\n",
    "assert (testval == 1)\n",
    "\n",
    "%% Test assert fail\n",
    "assert(testval == 2)\n",
    "```\n",
    "\n",
    "and run the file:\n",
    "\n",
    "```\n",
    "result = runtests('testFile');\n",
    "```\n",
    "\n",
    "When executing `runtest` without specifying a file, it will run all \n"
   ]
  },
  {
   "cell_type": "markdown",
   "id": "d8de3ce9",
   "metadata": {},
   "source": [
    "#### Stuck with older Matlab versions: use a minimal custom testing framework\n",
    "\n",
    "As far as I was able to identify, Matlab intruduced the full unit test framework with the R2013a release. For any previous releases you can write your own minimal testing framework:\n",
    "\n",
    "All tested code files and test files must be available to the Matlab path; the tests require the following files:\n",
    "- `tests/CustomRunTests.m` ... script to start running all available tests.\n",
    "- `tests/wrapper.m` ... wrapper function handling occurring errors.\n",
    "- `tests/TestUtils.m` ... Utility class printing the stack in case of an error.\n",
    "- `tests/TestExample.m` ... actual test file; there can be more than one file.\n",
    "\n",
    "The files require the following content:"
   ]
  },
  {
   "cell_type": "markdown",
   "id": "ec2f2d07",
   "metadata": {},
   "source": [
    "`tests/CustomRunTests.m`: add any new test files to the `all_tests` variable.\n",
    "```\n",
    "%-- Runner for all other tests.\n",
    "clear all;\n",
    "\n",
    "stats.okCount = 0;\n",
    "stats.errorCount = 0;\n",
    "\n",
    "disp([10 'starting tests']);\n",
    "\n",
    "all_tests = {};\n",
    "all_tests{end+1} = struct('name', 'EXAMPLE', 'tests', {TestExample()});\n",
    "\n",
    "for i = 1:length(all_tests)\n",
    "    fprintf([10 'Execute ' all_tests{i}.name ' tests:\\n\\n']);\n",
    "    \n",
    "    for j = 1:length(all_tests{i}.tests)\n",
    "        stats = wrapper(all_tests{i}.tests{j}, stats);\n",
    "    end\n",
    "end;\n",
    "\n",
    "disp([10 'Tests: ' num2str(stats.okCount) ' succeeded, ' num2str(stats.errorCount) ' failed']);\n",
    "```\n"
   ]
  },
  {
   "cell_type": "markdown",
   "id": "1c79f5ba",
   "metadata": {},
   "source": [
    "`tests/wrapper.m`: no need to edit this file\n",
    "\n",
    "```\n",
    "function stats = wrapper( func, stats )\n",
    "%WRAPPER Wrapper function for every test that catches the exception\n",
    "%   and prints out detaied report.\n",
    "\n",
    "    try\n",
    "        clearvars -except stats func; %-- ensure clean workspace\n",
    "\n",
    "        func(); % execute unit test\n",
    "\n",
    "        fprintf('Test %s ... OK\\n', func2str(func));\n",
    "        stats.okCount = stats.okCount + 1;\n",
    "        clearvars -except stats func; %-- close handles\n",
    "        \n",
    "    catch me\n",
    "        fprintf('Test %s ... ERROR\\n', func2str(func));\n",
    "        TestUtils.printErrorStack(me);\n",
    "        stats.errorCount = stats.errorCount + 1;\n",
    "    end;\n",
    "\n",
    "end\n",
    "```\n"
   ]
  },
  {
   "cell_type": "markdown",
   "id": "613d6453",
   "metadata": {},
   "source": [
    "`tests/TestUtils.m`: no need to edit this file\n",
    "\n",
    "```\n",
    "classdef TestUtils\n",
    "    methods(Static)\n",
    "        function printErrorStack(me)\n",
    "            disp([9 me.message]);\n",
    "            printStack = {me.stack(:).name; me.stack(:).file; me.stack(:).line}';\n",
    "            disp(vertcat({'Name', 'File', 'Line'}, printStack));\n",
    "        end;\n",
    "    end;\n",
    "end\n",
    "```"
   ]
  },
  {
   "cell_type": "markdown",
   "id": "ab61dc5a",
   "metadata": {},
   "source": [
    "`tests/TestExample.m`: this file contains the actual tests; when adding a new test, also add it to the function collection. There can also be multiple test files.\n",
    "\n",
    "```\n",
    "function funcs = TestExample\n",
    "%TESTEXAMPLE runs example tests\n",
    "%   Detailed explanation goes here\n",
    "\n",
    "    funcs = {};\n",
    "    funcs{end+1} = @test_add;\n",
    "    funcs{end+1} = @test_subtract;\n",
    "end\n",
    "\n",
    "%% Test: Addition test\n",
    "function [] = test_add( varargin )\n",
    "    assert(1+1 == 2);\n",
    "    assert(1+1 == 3);\n",
    "end\n",
    "\n",
    "%% Test: Subtraction test\n",
    "function [] = test_subtract( varargin )\n",
    "    assert(2-1 == 1);\n",
    "end\n",
    "```"
   ]
  },
  {
   "cell_type": "markdown",
   "id": "a06417fb",
   "metadata": {},
   "source": [
    "The tests can be run by executing the `CustomRunTests.m` script. There can be more than one Test file and every file can of course contain more than one test, but when adding files or tests the entries in `CustomRunTests.m` or in the corresponding test file have to be updated.\n"
   ]
  },
  {
   "cell_type": "markdown",
   "id": "8519a077",
   "metadata": {},
   "source": [
    "Where to go from here? How to start writing tests for our projects? How many tests should we write?\n",
    "\n",
    "You can write a test for each and every function you have in a code project: you will stumble accross edge cases where the software does not work how you expect it or where it is outright bugged.\n",
    "\n",
    "But you are scientists; your main job is to get data and analyse it - have at least one control; if you have time create more.\n",
    "\n",
    "\n",
    "- write a single test that shows that your code spits out the results you expect\n",
    "  - e.g. select a raw data file where you KNOW what the results of your analysis should be. Keep this file around with your code. Write a test, that runs your code with THIS file and check that the results you get at the end of this test are what is expected.\n",
    "  - run this test EVERYTIME you make changes to your code\n",
    "  \n",
    "  \n",
    "- usually an analysis has multiple distinct steps with distinct result files.\n",
    "  - write a test for every distinct step. This helps to narrow down if things break and to document how the individual steps should be run\n",
    "\n",
    "\n",
    "- when starting a new project\n",
    "  - write a test when the first useful result comes in and run the test everytime changes are made to the code or a new substep has been added.\n",
    "\n",
    "\n",
    "- re-use development code\n",
    "  - when developing you usually try it out until it works interactively; using `ipython`, in your IDE of choice, etc. Keep this code around! Copy your ipython history to a script file, add an assert at the very end and you have your first test -> this result should never change unexpectedly.\n"
   ]
  },
  {
   "cell_type": "markdown",
   "id": "11ed77ad",
   "metadata": {},
   "source": [
    "### Refactor existing code\n",
    "- make the final result testable\n",
    "- make the intermediate steps testable\n",
    "- make the small code pieces testable"
   ]
  },
  {
   "cell_type": "markdown",
   "id": "0d1f5661",
   "metadata": {},
   "source": [
    "### Using the Python `unittest` package\n",
    "\n",
    "pytest supports the `unittest` package that gives many many additional options to write sophisticated tests.\n",
    "\n",
    "Some of the nice features:\n",
    "- gain more sophisticated `asserts`, test exceptions raised\n",
    "- while writing code, run only specific tests\n",
    "- set up specific conditions before every test\n",
    "- clean up after every test\n"
   ]
  },
  {
   "cell_type": "markdown",
   "id": "0476c9cd",
   "metadata": {},
   "source": [
    "Lets update our example again:\n",
    "\n",
    "```\n",
    "touch test/test_unittest_example.py\n",
    "```\n",
    "\n",
    "`test_unittest_example.py` content:\n",
    "\n",
    "```\n",
    "import unittest\n",
    "\n",
    "import testlint\n",
    "\n",
    "\n",
    "class testutiladdyourself(unittest.TestCase):\n",
    "    def setUp(self):\n",
    "        self.setupvar = 2\n",
    "\n",
    "    def test_add_yourself_success(self):\n",
    "        self.assertEqual(testlint.util.add_yourself(self.setupvar), 4)\n",
    "\n",
    "    def test_add_yourself_fail(self):\n",
    "        self.assertEqual(testlint.util.add_yourself(self.setupvar), 3)\n",
    "```\n",
    "\n",
    "Run all tests including all tests from this class:\n",
    "\n",
    "```\n",
    "pytest\n",
    "```\n",
    "\n",
    "Run all tests from this class only\n",
    "\n",
    "```\n",
    "pytest test/test_unittest.py::testutiladdyourself\n",
    "```\n"
   ]
  },
  {
   "cell_type": "markdown",
   "id": "7d92ddc9",
   "metadata": {},
   "source": [
    "<table>\n",
    "<tr>\n",
    "<th>Method</th>\n",
    "<th>Checks that</th>\n",
    "<th>New in</th>\n",
    "</tr>\n",
    "<tr>\n",
    "<td>assertEqual(a, b)\n",
    "</td>\n",
    "<td>a == b</td>\n",
    "<td></td>\n",
    "</tr>\n",
    "<tr>\n",
    "<td>\n",
    "    assertNotEqual(a, b)\n",
    "</td>\n",
    "<td>a != b</td>\n",
    "<td></td>\n",
    "</tr>\n",
    "<tr>\n",
    "<td>assertTrue(x)\n",
    "</td>\n",
    "<td>bool(x) is True</td>\n",
    "<td></td>\n",
    "</tr>\n",
    "<tr>\n",
    "<td>assertFalse(x)\n",
    "</td>\n",
    "<td>bool(x) is False</td>\n",
    "<td></td>\n",
    "</tr>\n",
    "<tr>\n",
    "<td>assertIs(a, b)\n",
    "</td>\n",
    "<td>a is b</td>\n",
    "<td>3.1</td>\n",
    "</tr>\n",
    "<tr>\n",
    "<td>assertIsNot(a, b)\n",
    "</td>\n",
    "<td>a is not b</td>\n",
    "<td>3.1</td>\n",
    "</tr>\n",
    "<tr>\n",
    "<td>assertIsNone(x)\n",
    "</td>\n",
    "<td>x is None</td>\n",
    "<td>3.1</td>\n",
    "</tr>\n",
    "<tr>\n",
    "<td>assertIsNotNone(x)\n",
    "</td>\n",
    "<td>x is not None</td>\n",
    "<td>3.1</td>\n",
    "</tr>\n",
    "<tr>\n",
    "<td>assertIn(a, b)\n",
    "</td>\n",
    "<td>a in b</td>\n",
    "<td>3.1</td>\n",
    "</tr>\n",
    "<tr>\n",
    "<td>assertNotIn(a, b)\n",
    "</td>\n",
    "<td>a not in b</td>\n",
    "<td>3.1</td>\n",
    "</tr>\n",
    "<tr>\n",
    "<td>assertIsInstance(a, b)\n",
    "</td>\n",
    "<td>isinstance(a, b)</td>\n",
    "<td>3.2</td>\n",
    "</tr>\n",
    "<tr>\n",
    "<td>assertNotIsInstance(a, b)\n",
    "</td>\n",
    "<td>not isinstance(a, b)</td>\n",
    "<td>3.2</td>\n",
    "</tr>\n",
    "</table>\n"
   ]
  },
  {
   "cell_type": "markdown",
   "id": "ef8d15a6",
   "metadata": {},
   "source": [
    "\n",
    "- For more details on what the `unittest` can do, check out the unittest documentation: https://docs.python.org/3/library/unittest.html\n",
    "- For a list of available asserts, check here: https://docs.python.org/3/library/unittest.html#test-cases:"
   ]
  },
  {
   "cell_type": "markdown",
   "id": "6e12c735",
   "metadata": {},
   "source": [
    "### Practical testing issues"
   ]
  },
  {
   "cell_type": "markdown",
   "id": "e21579a0",
   "metadata": {},
   "source": [
    "#### Testing resource files\n",
    "\n",
    "Keep your test resources close. Ideally in a `resources` folder right with the tests:\n",
    "\n",
    "    testlint\n",
    "    ├─ testlint\n",
    "    |  ├─ __init__.py\n",
    "    |  └─ util.py\n",
    "    └─ test\n",
    "       ├─ resources\n",
    "       |  └─ resource_file.csv\n",
    "       ├─ __init__.py\n",
    "       ├─ example.py\n",
    "       ├─ example_ignored.py\n",
    "       ├─ test_example.py\n",
    "       └─ test_testlint_util.py\n"
   ]
  },
  {
   "cell_type": "markdown",
   "id": "19a863d7",
   "metadata": {},
   "source": [
    "#### Making script files testable\n",
    "\n",
    "Split code into smaller functions"
   ]
  },
  {
   "cell_type": "markdown",
   "id": "ea35581d",
   "metadata": {},
   "source": [
    "#### Test a command line script\n",
    "\n",
    "Using a callable wrapper function and how to pass command line arguments"
   ]
  },
  {
   "cell_type": "markdown",
   "id": "aa2b7230",
   "metadata": {},
   "source": [
    "#### Testing expected fails\n",
    "\n",
    "We might also want to make sure that our code fails when it should fail. Otherwise we also might not get the results we should.\n",
    "\n",
    "```\n",
    "import pytest\n",
    "\n",
    "def append_gullibly(obj, item):\n",
    "    obj.append(item)\n",
    "\n",
    "    return obj\n",
    "\n",
    "def test_append_gullibly_success():\n",
    "    test_obj = []\n",
    "    content = \"i am an item\"\n",
    "    res = append_gullibly(test_obj, content)\n",
    "    assert res[0] == content\n",
    "\n",
    "def test_append_gullibly_fail():\n",
    "    test_obj = 1\n",
    "    content = \"i am an item\"\n",
    "    with pytest.raises(KeyError):\n",
    "        res = append_gullibly(test_obj, content)\n",
    "```\n"
   ]
  },
  {
   "cell_type": "markdown",
   "id": "2004e849",
   "metadata": {},
   "source": [
    "#### Handling transient testing output files\n",
    "\n",
    "Using the `tempdir` package, the `setUp` and `tearDown` test methods\n"
   ]
  },
  {
   "cell_type": "code",
   "execution_count": null,
   "id": "90405a46",
   "metadata": {},
   "outputs": [],
   "source": [
    "import pytest\n",
    "\n",
    "def append_gullibly(obj, item):\n",
    "    obj.append(item)\n",
    "\n",
    "    return obj\n",
    "\n",
    "def test_append_gullibly_success():\n",
    "    test_obj = []\n",
    "    content = \"i am an item\"\n",
    "    res = append_gullibly(test_obj, content)\n",
    "    assert res[0] == content\n",
    "\n",
    "def test_append_gullibly_fail():\n",
    "    test_obj = 1\n",
    "    content = \"i am an item\"\n",
    "    with pytest.raises(KeyError):\n",
    "        res = append_gullibly(test_obj, content)\n",
    "\n",
    "test_append_gullibly_fail()"
   ]
  },
  {
   "cell_type": "markdown",
   "id": "05d27e9b",
   "metadata": {},
   "source": [
    "### Testing pitfalls\n",
    "- equals with objects\n"
   ]
  },
  {
   "cell_type": "markdown",
   "id": "464f24fd",
   "metadata": {},
   "source": [
    "## Increasing code quality"
   ]
  },
  {
   "cell_type": "markdown",
   "id": "cd1d4c78",
   "metadata": {},
   "source": [
    "Keeping code organized and well maintained has multiple benefits. Most of these benefits lie in the future...\n",
    "- have an easier time reading your own code:\n",
    "  - keep your naming scheme consistent and include useful variable names so you know what the content is\n",
    "  - using small functions or methods with fewer variables helps to grasp what they actually do\n",
    "- have an easier time updating and rewriting your code\n",
    "- have an easier time writing useful tests\n",
    "  - having small functions help writing easy tests\n",
    "- make it easier for other people to understand your code\n",
    "- confidence booster: don't be hesitant to show other people your code because of quality\n",
    "- write better code over time\n"
   ]
  },
  {
   "cell_type": "markdown",
   "id": "3b016aa1",
   "metadata": {},
   "source": [
    "General guidelines to write clean Python code - PEP8:\n",
    "https://www.python.org/dev/peps/pep-0008/\n",
    "\n",
    "These are many things to keep in mind and do not even touch \"code smells\". To help increase code quality and making it part of a routine, there are \"linters\" out there to make it easy for you. Examples are:\n",
    "- pylint\n",
    "- flake8\n",
    "- autopep8\n",
    "- pychecker\n",
    "- pylama\n",
    "- ...\n",
    "\n",
    "We are going to use pylint (https://pylint.org/) which has a good balance between clean code styles and identifying code smells."
   ]
  },
  {
   "cell_type": "markdown",
   "id": "22e3580f",
   "metadata": {},
   "source": [
    "### pylint requirements\n",
    "\n",
    "\n",
    "```\n",
    "pip install pylint\n",
    "```\n",
    "\n",
    "Run it from the command line\n",
    "\n",
    "```\n",
    "pylint pylint testlint/util.py\n",
    "```\n",
    "\n",
    "And now we work our way through all the issues...\n"
   ]
  },
  {
   "cell_type": "markdown",
   "id": "55bb5729",
   "metadata": {},
   "source": [
    "You can deactivate specific messages either\n",
    "- via the command line\n",
    "- via a setup file\n",
    "\n",
    "You can ignore specific messages\n",
    "\n",
    "```\n",
    "pylint --disable=C0114 testlint/util.py\n",
    "```\n",
    "\n",
    "Create a file \"setup.cfg\" at the root of the project and paste the following:\n",
    "```\n",
    "[pycodestyle]\n",
    "max-line-length = 100\n",
    "statistics = True\n",
    "```\n",
    "\n"
   ]
  },
  {
   "cell_type": "markdown",
   "id": "85182de5",
   "metadata": {},
   "source": [
    "#### Exercise\n",
    "- lint your way through the files you created so far."
   ]
  },
  {
   "cell_type": "markdown",
   "id": "23fc56d2",
   "metadata": {},
   "source": [
    "- Make it a habit of running pylint before you commit\n",
    "- with existing projects:\n",
    "  - there will be a long list of things to fix\n",
    "  - work at it over time; focus on single message IDs only\n",
    "  - run tests when you are touching actual code\n"
   ]
  },
  {
   "cell_type": "markdown",
   "id": "b5e566ac",
   "metadata": {},
   "source": [
    "#### Linting makes sense, some examples\n",
    "\n",
    "- import order\n",
    "- variable name length\n",
    "- no-shadow\n",
    "- too many statements\n"
   ]
  },
  {
   "cell_type": "markdown",
   "id": "bd4db24b",
   "metadata": {},
   "source": [
    "#### How to keep jupyter notebooks clean?\n",
    "\n",
    "https://stackoverflow.com/questions/26126853/verifying-pep8-in-ipython-notebook-code\n",
    "\n",
    "```\n",
    "pip install flake8 pycodestyle_magic\n",
    "```"
   ]
  },
  {
   "cell_type": "code",
   "execution_count": null,
   "id": "aff4b8d1",
   "metadata": {},
   "outputs": [],
   "source": [
    "%load_ext pycodestyle_magic"
   ]
  },
  {
   "cell_type": "code",
   "execution_count": null,
   "id": "81733881",
   "metadata": {},
   "outputs": [],
   "source": [
    "%pycodestyle_on"
   ]
  },
  {
   "cell_type": "code",
   "execution_count": null,
   "id": "cb7e80ce",
   "metadata": {},
   "outputs": [],
   "source": [
    "a=1\n",
    "print(a)"
   ]
  },
  {
   "cell_type": "markdown",
   "id": "e304217b",
   "metadata": {},
   "source": [
    "I noted, that using pycodestyle_magic sometimes disables cell print output."
   ]
  },
  {
   "cell_type": "code",
   "execution_count": null,
   "id": "390b0650",
   "metadata": {},
   "outputs": [],
   "source": [
    "a=\"I shall not be printed\"\n",
    "a"
   ]
  },
  {
   "cell_type": "markdown",
   "id": "090e2012",
   "metadata": {},
   "source": [
    "To do cleanup on the command line, one can also convert a Jupyter notebook to a script and run pylint on this script for cleanup:\n",
    "\n",
    "```\n",
    "jupyter nbconvert --to=script --output-dir=/tmp/converted-notebooks/ notebook_name.ipynb\n",
    "pylint --disable=C0103,C0413,C0305 /tmp/converted-notebooks/notebook_name.py\n",
    "```"
   ]
  },
  {
   "cell_type": "markdown",
   "id": "19fae4d9",
   "metadata": {},
   "source": [
    "Here is also an interesting blogpost how jupyter notebook testing can be further automatized: https://www.blog.pythonlibrary.org/2018/10/16/testing-jupyter-notebooks/"
   ]
  },
  {
   "cell_type": "markdown",
   "id": "a799a43f",
   "metadata": {},
   "source": [
    "### Matlab code checker and styleguides\n",
    "\n",
    "Since R2011b, Matlab ships its own code checker: https://de.mathworks.com/help/matlab/ref/checkcode.html\n",
    "\n",
    "The checker can be run against a single file:\n",
    "```\n",
    "checkcode(filename)\n",
    "```\n",
    "\n",
    "It will also print a list of potential errors and suggestions how to improve the code quality.\n",
    "\n",
    "Older versions of Matlab feature a tool called `mlintrpt` that basically works identical to `checkcode`."
   ]
  },
  {
   "cell_type": "markdown",
   "id": "f5b13768",
   "metadata": {},
   "source": [
    "I did not find an official document regarding Matlab code style analogous to PEP8, but there are a couple of inofficial documents around that address certain standards that can be observed when writing Matlab code to keep it consistent and easy to read; e.g.:\n",
    "\n",
    "http://www.cs.cornell.edu/courses/cs321/2003fa/Matlab%20Coding%20Style.pdf"
   ]
  },
  {
   "cell_type": "markdown",
   "id": "a4b601d6",
   "metadata": {},
   "source": [
    "### Create a workflow habit\n",
    "\n",
    "- `git fetch --all`\n",
    "- `git pull` or `git rebase [yourBranch]`\n",
    "- write code\n",
    "- create a test / update existing test\n",
    "- run `pytest` and fix any issues\n",
    "- run `pylint` and fix any issues\n",
    "- `git commit`\n",
    "- `git push`\n",
    "\n",
    "And from time to time:\n",
    "- recreate your environment from scratch\n",
    "  - use a different Python version\n",
    "  - re-install all required packages into a clean environment "
   ]
  },
  {
   "cell_type": "markdown",
   "id": "f32a74f4",
   "metadata": {},
   "source": [
    "## Linklist\n",
    "### Python\n",
    "- https://docs.pytest.org\n",
    "- https://nose.readthedocs.io\n",
    "- https://tox.readthedocs.io\n",
    "- https://pythontesting.net/start-here/\n",
    "- https://docs.python.org/3/library/unittest.html\n",
    "- https://docs.python.org/3/library/unittest.html#test-cases\n",
    "- https://www.python.org/dev/peps/pep-0008\n",
    "- https://pylint.org\n",
    "- https://stackoverflow.com/questions/26126853/verifying-pep8-in-ipython-notebook-code\n",
    "- https://www.blog.pythonlibrary.org/2018/10/16/testing-jupyter-notebooks\n",
    "\n",
    "### Matlab\n",
    "- https://de.mathworks.com/help/matlab/matlab-unit-test-framework.html\n",
    "- https://de.mathworks.com/help/matlab/matlab_prog/write-script-based-unit-tests.html\n",
    "- https://de.mathworks.com/help/matlab/ref/checkcode.html\n",
    "- http://www.cs.cornell.edu/courses/cs321/2003fa/Matlab%20Coding%20Style.pdf"
   ]
  },
  {
   "cell_type": "code",
   "execution_count": null,
   "id": "0c49ed5b",
   "metadata": {},
   "outputs": [],
   "source": []
  }
 ],
 "metadata": {
  "kernelspec": {
   "display_name": "Python 3 (ipykernel)",
   "language": "python",
   "name": "python3"
  },
  "language_info": {
   "codemirror_mode": {
    "name": "ipython",
    "version": 3
   },
   "file_extension": ".py",
   "mimetype": "text/x-python",
   "name": "python",
   "nbconvert_exporter": "python",
   "pygments_lexer": "ipython3",
   "version": "3.9.7"
  }
 },
 "nbformat": 4,
 "nbformat_minor": 5
}
