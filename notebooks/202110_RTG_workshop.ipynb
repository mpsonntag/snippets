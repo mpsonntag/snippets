{
 "cells": [
  {
   "cell_type": "markdown",
   "id": "2f9b55bd",
   "metadata": {},
   "source": [
    "\n",
    "### RTG 2175 Retreat Sylvenstein, 20 - 21.10.2021\n",
    "\n",
    "# Testing code and increasing code quality\n",
    "\n",
    "                                    Michael Sonntag\n",
    "\n",
    "                                    Department Biologie II\n",
    "                                    Ludwig-Maximilians-Universität München\n",
    "\n",
    "\n",
    "![G-Node-logo.png](./resources/G-Node-logo.png)"
   ]
  },
  {
   "cell_type": "markdown",
   "id": "4ada5152",
   "metadata": {},
   "source": [
    "Find this notebook on gin: https://gin.g-node.org/RTG2175/RTG_Retreat_2021\n",
    "\n",
    "Use git to get it!\n",
    "\n",
    "```\n",
    "git clone https://gin.g-node.org/RTG2175/RTG_Retreat_2021.git\n",
    "```"
   ]
  },
  {
   "cell_type": "markdown",
   "id": "5ace6287",
   "metadata": {},
   "source": [
    "### Why test code\n",
    "\n",
    "Controls! When conducting experiments, running controls is essential. Tests act like controls for your code.\n",
    "\n",
    "- make sure code works as expected\n",
    "\n",
    "\n",
    "- ensure code changes do not change the expected results\n",
    "\n",
    "\n",
    "- ensure programming language or library package updates does not lead to different results\n",
    "\n",
    "\n",
    "- document how code is used: point people to tests to show how the code is MEANT to be used.\n",
    "\n"
   ]
  },
  {
   "cell_type": "markdown",
   "id": "2245b930",
   "metadata": {},
   "source": [
    "### What's your gain from this session\n",
    "\n",
    "- learn how to write and run simple tests\n",
    "\n",
    "\n",
    "- pointers in how to write tests for your own projects\n",
    "\n",
    "\n",
    "- crashcourse in how to write tests in Python\n",
    "\n",
    "\n",
    "- pointers how to write tests with Matlab\n",
    "\n"
   ]
  },
  {
   "cell_type": "markdown",
   "id": "9776b359",
   "metadata": {},
   "source": [
    "### Write and run basic tests\n",
    "\n",
    "The most basic way to test code is to write functions that check the result of another function"
   ]
  },
  {
   "cell_type": "code",
   "execution_count": null,
   "id": "7ffdde17",
   "metadata": {},
   "outputs": [],
   "source": [
    "assert True"
   ]
  },
  {
   "cell_type": "code",
   "execution_count": null,
   "id": "183057df",
   "metadata": {},
   "outputs": [],
   "source": [
    "assert False"
   ]
  },
  {
   "cell_type": "code",
   "execution_count": null,
   "id": "b36052f6",
   "metadata": {},
   "outputs": [],
   "source": [
    "def add_up(a, b):\n",
    "    return a + b\n",
    "\n",
    "def test_add_up_succeed():\n",
    "    assert add_up(1, 2) == 3\n",
    "\n",
    "def test_add_up_fail():\n",
    "    assert add_up(1, 2) == 4\n"
   ]
  },
  {
   "cell_type": "code",
   "execution_count": null,
   "id": "33b75d6b",
   "metadata": {},
   "outputs": [],
   "source": [
    "test_add_up_succeed()"
   ]
  },
  {
   "cell_type": "code",
   "execution_count": null,
   "id": "5eea36cf",
   "metadata": {},
   "outputs": [],
   "source": [
    "test_add_up_fail()"
   ]
  },
  {
   "cell_type": "markdown",
   "id": "a0a70e10",
   "metadata": {},
   "source": [
    "Lets make it an exercise!\n",
    "\n",
    "Use `ipython` or a new jupyter notebook to run the code snippets above or get crazy and write a function and test of your own."
   ]
  },
  {
   "cell_type": "markdown",
   "id": "7d96e583",
   "metadata": {},
   "source": [
    "Lets also include our amazing `git` skills!\n",
    "\n",
    "- fetch the RTG workshop noteboook from gin\n",
    "- create a repo on github e.g. \"testlint\" (always good to avoid any whitespaces or special characters)\n",
    "- git clone it locally (ideally using ssh)\n",
    "- optionally: if you do not want to create a github repo, initialize a local git repository\n",
    "- move into this repository\n"
   ]
  },
  {
   "cell_type": "markdown",
   "id": "ce3f0c77",
   "metadata": {},
   "source": [
    "### Test frameworks\n",
    "Could write your own test code without any additional packages. Its more convenient to use something thats already there.\n",
    "There are already testframeworks out there that make testing more convenient and provide additional functionality\n",
    "- `pytest`: https://docs.pytest.org\n",
    "- `nose`: https://nose.readthedocs.io\n",
    "- `tox`: https://tox.readthedocs.io\n",
    "- NOTE: if you stumble across `python setup.py test`: this is DEPRECATED.\n",
    "\n",
    "A fairly good introduction into testing and testing frameworks can be found here: https://pythontesting.net/start-here/\n",
    "\n",
    "We will be working with the __pytest__ framework."
   ]
  },
  {
   "cell_type": "markdown",
   "id": "1cca2a2b",
   "metadata": {},
   "source": [
    "### Pytest requirements\n",
    "\n",
    "```\n",
    "pip install pytest\n",
    "```\n"
   ]
  },
  {
   "cell_type": "markdown",
   "id": "e309aaa1",
   "metadata": {},
   "source": [
    "On the command line you can use pytest by just running the command\n",
    "\n",
    "```\n",
    "pytest \n",
    "```\n",
    "\n",
    "`pytest` will \n",
    "- check all Python files in the current folder and all files in any subfolder.\n",
    "- any file in a subfolder starting with \"test_\" will be run\n",
    "- any file that is specifically handed to pytest will be run\n",
    "- any function within a run file that starts with \"test_\" will be run\n"
   ]
  },
  {
   "cell_type": "markdown",
   "id": "01fa039b",
   "metadata": {},
   "source": [
    "Lets prepare a directory structure, Python code files and files that will serve as our test:\n",
    "\n",
    "\n",
    "```\n",
    "mkdir -p testlint/test\n",
    "touch testlint/test/example.py\n",
    "touch testlint/test/example_ignored.py\n",
    "touch testlint/test/test_example.py\n",
    "cd testlint\n",
    "```\n"
   ]
  },
  {
   "cell_type": "markdown",
   "id": "b0890c96",
   "metadata": {},
   "source": [
    "The directory structure should look like this:\n",
    "\n",
    "    testlint\n",
    "    └─ test\n",
    "       ├─ example.py\n",
    "       ├─ example_ignored.py\n",
    "       └─ test_example.py\n"
   ]
  },
  {
   "cell_type": "markdown",
   "id": "0fa45364",
   "metadata": {},
   "source": [
    "Functions and test code can be provided in the same file e.g. in file `example.py`:\n",
    "\n",
    "File content of `example.py`\n",
    "\n",
    "```\n",
    "def add_up(a, b):\n",
    "    return a + b\n",
    "\n",
    "def test_add_up_succeed():\n",
    "    assert add_up(1, 2) == 3\n",
    "\n",
    "def test_add_up_fail():\n",
    "    assert add_up(1, 2) == 4\n",
    "\n",
    "def ignore_me():\n",
    "    assert \"I will be\" == \"completely ignored\"\n",
    "```\n",
    "\n",
    "Run the test by providing the file name\n",
    "\n",
    "```\n",
    "pytest test/example.py\n",
    "```\n"
   ]
  },
  {
   "cell_type": "markdown",
   "id": "67d11804",
   "metadata": {},
   "source": [
    "By default Python files are ignored even if they contain test functions:\n",
    "\n",
    "File content of `example_ignored.py`:\n",
    "\n",
    "```\n",
    "def ignored():\n",
    "    assert \"a\" == \"b\"\n",
    "\n",
    "def test_ignored():\n",
    "    assert \"b\" == \"c\"\n",
    "```\n",
    "\n",
    "\n",
    "Run pytest with the contents of folder \"tests\"\n",
    "\n",
    "```\n",
    "pytest test\n",
    "```\n"
   ]
  },
  {
   "cell_type": "markdown",
   "id": "645936f9",
   "metadata": {},
   "source": [
    "By default Python files with the \"test_\" prefix are run:\n",
    "\n",
    "File content of `test_example.py`:\n",
    "\n",
    "```\n",
    "def i_am_ignored():\n",
    "    assert \"a\" == \"b\"\n",
    "\n",
    "\n",
    "def test_i_am_included_success():\n",
    "    assert 1 == 1\n",
    "\n",
    "\n",
    "def test_i_am_included_fail():\n",
    "    assert 1 == 2\n",
    "```\n",
    "\n",
    "Again run pytest with the contents of folder test\n",
    "\n",
    "```\n",
    "pytest test\n",
    "```\n",
    "\n",
    "Including files can be forced by providing the folder content:\n",
    "\n",
    "```\n",
    "pytest test/*\n",
    "```\n"
   ]
  },
  {
   "cell_type": "markdown",
   "id": "45882f6a",
   "metadata": {},
   "source": [
    "#### Exercise\n",
    "- create the package in your git repo as described above\n",
    "- add code and test code to the files\n",
    "- run pytest on your code\n",
    "- fix broken tests or come up with your own\n",
    "- git commit the changs"
   ]
  },
  {
   "cell_type": "markdown",
   "id": "db9258f0",
   "metadata": {},
   "source": [
    "\n",
    "##### Great. We know now how to write test functions and how to run them.\n",
    "\n",
    "But how do we write tests that include functions from a Python code package?\n"
   ]
  },
  {
   "cell_type": "markdown",
   "id": "d1f749e1",
   "metadata": {},
   "source": [
    "```\n",
    "mkdir -p testlint\n",
    "touch testlint/util.py\n",
    "touch testlint/__init__.py\n",
    "touch test/__init__.py\n",
    "touch test/test_testlint_util.py\n",
    "```\n",
    "\n",
    "The directory structure should now look like this:\n",
    "\n",
    "    testlint\n",
    "    ├─ testlint\n",
    "    |  ├─ __init__.py\n",
    "    |  └─ util.py\n",
    "    └─ test\n",
    "       ├─ __init__.py\n",
    "       ├─ example.py\n",
    "       ├─ example_ignored.py\n",
    "       ├─ test_example.py\n",
    "       └─ test_testlint_util.py\n"
   ]
  },
  {
   "cell_type": "markdown",
   "id": "abaa3ab5",
   "metadata": {},
   "source": [
    "\n",
    "Lets add some extremely import code to our package utility file; `testlint/util.py`:\n",
    "\n",
    "```\n",
    "def add_yourself(a):\n",
    "    return a + a\n",
    "```\n"
   ]
  },
  {
   "cell_type": "markdown",
   "id": "ed7f26c3",
   "metadata": {},
   "source": [
    "\n",
    "Lets make this function available to the testing package without installing the code package via the packages `\\__init__` file\n",
    "\n",
    "`testlint/__init__.py` content:\n",
    "\n",
    "```\n",
    "from . import util\n",
    "```\n"
   ]
  },
  {
   "cell_type": "markdown",
   "id": "9088c320",
   "metadata": {},
   "source": [
    "\n",
    "And lets add a test for our function in the `test/test_testlint_util.py` file:\n",
    "\n",
    "```\n",
    "import testlint\n",
    "\n",
    "\n",
    "def test_add_yourself_success():\n",
    "    assert testlint.util.add_yourself(1) == 2\n",
    "\n",
    "def test_add_yourself_fail():\n",
    "    assert testlint.util.add_yourself(1) == 3\n",
    "```\n",
    "\n",
    "We can now run the test by running pylint from the root of the package\n",
    "\n",
    "```\n",
    "pytest\n",
    "```\n"
   ]
  },
  {
   "cell_type": "markdown",
   "id": "fb3c0e92",
   "metadata": {},
   "source": [
    "When working on a specific part of the code, it might be inconvenient to run all tests all the time.\n",
    "\n",
    "```\n",
    "pytest test/test_testlint_util.py::test_add_yourself_fail\n",
    "```\n"
   ]
  },
  {
   "cell_type": "markdown",
   "id": "5f31ba9f",
   "metadata": {},
   "source": [
    "#### Exercise\n",
    "- update your existing package with the code above\n",
    "- run the tests\n",
    "- commit your changes\n",
    "- Update your remote repository so your hard work is safe!"
   ]
  },
  {
   "cell_type": "markdown",
   "id": "2594cb2f",
   "metadata": {},
   "source": [
    "### Writing tests with Matlab\n",
    "\n",
    "Matlab versions R2013b+ provide their own Test frameworks by default; you can find documentation on all different available test approaches here:\n",
    "\n",
    "https://de.mathworks.com/help/matlab/matlab-unit-test-framework.html\n",
    "\n",
    "The simplest option to run tests is by using the `runtest` command. A more detailled description about the requirements of running script based tests with Matlab can be found here:\n",
    "\n",
    "https://de.mathworks.com/help/matlab/matlab_prog/write-script-based-unit-tests.html\n",
    "\n",
    "- the test file name has to start or end with \"test\"\n",
    "- individual tests are specified by Matlab sections using the \"%%\" indicator\n",
    "- everything above the first indicator is content shared with all tests\n",
    "- variables defined within a test are not shared with other tests\n",
    "\n",
    "As an example, a simple test script `testFile.m` with the content:\n",
    "\n",
    "```\n",
    "testval = 1\n",
    "\n",
    "%% Test assert success\n",
    "assert (testval == 1)\n",
    "\n",
    "%% Test assert fail\n",
    "assert(testval == 2)\n",
    "```\n",
    "\n",
    "and run the file:\n",
    "\n",
    "```\n",
    "result = runtests('testFile');\n",
    "```\n",
    "\n",
    "When executing `runtest` without specifying a file, it will run all \n"
   ]
  },
  {
   "cell_type": "markdown",
   "id": "d8de3ce9",
   "metadata": {},
   "source": [
    "#### Stuck with older Matlab versions: use a minimal custom testing framework\n",
    "\n",
    "As far as I was able to identify, Matlab intruduced the full unit test framework with the R2013a release. For any previous releases you can write your own minimal testing framework:\n",
    "\n",
    "All tested code files and test files must be available to the Matlab path; the tests require the following files:\n",
    "- `tests/CustomRunTests.m` ... script to start running all available tests.\n",
    "- `tests/wrapper.m` ... wrapper function handling occurring errors.\n",
    "- `tests/TestUtils.m` ... Utility class printing the stack in case of an error.\n",
    "- `tests/TestExample.m` ... actual test file; there can be more than one file.\n",
    "\n",
    "The files require the following content:"
   ]
  },
  {
   "cell_type": "markdown",
   "id": "ec2f2d07",
   "metadata": {},
   "source": [
    "`tests/CustomRunTests.m`: add any new test files to the `all_tests` variable.\n",
    "```\n",
    "%-- Runner for all other tests.\n",
    "clear all;\n",
    "\n",
    "stats.okCount = 0;\n",
    "stats.errorCount = 0;\n",
    "\n",
    "disp([10 'starting tests']);\n",
    "\n",
    "all_tests = {};\n",
    "all_tests{end+1} = struct('name', 'EXAMPLE', 'tests', {TestExample()});\n",
    "\n",
    "for i = 1:length(all_tests)\n",
    "    fprintf([10 'Execute ' all_tests{i}.name ' tests:\\n\\n']);\n",
    "    \n",
    "    for j = 1:length(all_tests{i}.tests)\n",
    "        stats = wrapper(all_tests{i}.tests{j}, stats);\n",
    "    end\n",
    "end;\n",
    "\n",
    "disp([10 'Tests: ' num2str(stats.okCount) ' succeeded, ' num2str(stats.errorCount) ' failed']);\n",
    "```\n"
   ]
  },
  {
   "cell_type": "markdown",
   "id": "1c79f5ba",
   "metadata": {},
   "source": [
    "`tests/wrapper.m`: no need to edit this file\n",
    "\n",
    "```\n",
    "function stats = wrapper( func, stats )\n",
    "%WRAPPER Wrapper function for every test that catches the exception\n",
    "%   and prints out detaied report.\n",
    "\n",
    "    try\n",
    "        clearvars -except stats func; %-- ensure clean workspace\n",
    "\n",
    "        func(); % execute unit test\n",
    "\n",
    "        fprintf('Test %s ... OK\\n', func2str(func));\n",
    "        stats.okCount = stats.okCount + 1;\n",
    "        clearvars -except stats func; %-- close handles\n",
    "        \n",
    "    catch me\n",
    "        fprintf('Test %s ... ERROR\\n', func2str(func));\n",
    "        TestUtils.printErrorStack(me);\n",
    "        stats.errorCount = stats.errorCount + 1;\n",
    "    end;\n",
    "\n",
    "end\n",
    "```\n"
   ]
  },
  {
   "cell_type": "markdown",
   "id": "613d6453",
   "metadata": {},
   "source": [
    "`tests/TestUtils.m`: no need to edit this file\n",
    "\n",
    "```\n",
    "classdef TestUtils\n",
    "    methods(Static)\n",
    "        function printErrorStack(me)\n",
    "            disp([9 me.message]);\n",
    "            printStack = {me.stack(:).name; me.stack(:).file; me.stack(:).line}';\n",
    "            disp(vertcat({'Name', 'File', 'Line'}, printStack));\n",
    "        end;\n",
    "    end;\n",
    "end\n",
    "```"
   ]
  },
  {
   "cell_type": "markdown",
   "id": "ab61dc5a",
   "metadata": {},
   "source": [
    "`tests/TestExample.m`: this file contains the actual tests; when adding a new test, also add it to the function collection. There can also be multiple test files.\n",
    "\n",
    "```\n",
    "function funcs = TestExample\n",
    "%TESTEXAMPLE runs example tests\n",
    "%   Detailed explanation goes here\n",
    "\n",
    "    funcs = {};\n",
    "    funcs{end+1} = @test_add;\n",
    "    funcs{end+1} = @test_subtract;\n",
    "end\n",
    "\n",
    "%% Test: Addition test\n",
    "function [] = test_add( varargin )\n",
    "    assert(1+1 == 2);\n",
    "    assert(1+1 == 3);\n",
    "end\n",
    "\n",
    "%% Test: Subtraction test\n",
    "function [] = test_subtract( varargin )\n",
    "    assert(2-1 == 1);\n",
    "end\n",
    "```"
   ]
  },
  {
   "cell_type": "markdown",
   "id": "a06417fb",
   "metadata": {},
   "source": [
    "The tests can be run by executing the `CustomRunTests.m` script. There can be more than one Test file and every file can of course contain more than one test, but when adding files or tests the entries in `CustomRunTests.m` or in the corresponding test file have to be updated.\n"
   ]
  },
  {
   "cell_type": "markdown",
   "id": "8519a077",
   "metadata": {},
   "source": [
    "## Start writing tests for project code\n",
    "\n",
    "- write a single test that shows that your code spits out the results you expect\n",
    "  - select a raw data file where you KNOW what the results of your analysis should be.\n",
    "  - keep this file with your code.\n",
    "  - write a test, that runs your code using this file and assert the results are what you expect.\n",
    "  - run this test everytime you make changes to your code\n",
    "\n",
    "\n",
    "- usually an analysis has multiple distinct steps with distinct result files.\n",
    "  - split your code into functions for each step\n",
    "  - write a test for every step where again you control the input and the outpu.\n",
    "  - this helps to narrow down if things break\n",
    "  - this also documents how the individual steps should be run\n",
    "\n",
    "\n",
    "- when starting a new project or you are adding new code to an existing one\n",
    "  - write a test when the new code works the first time\n",
    "  - run this test everytime changes are made to the code\n",
    "\n",
    "\n",
    "- re-use development \"test\" code\n",
    "  - when developing you usually try it out until it works interactively; using `ipython`, in your IDE of choice, etc.\n",
    "  - keep this code around! Copy your ipython history to a script file, add an assert at the very end and you have your first test.\n"
   ]
  },
  {
   "cell_type": "markdown",
   "id": "fe8250cb",
   "metadata": {},
   "source": [
    "### Refactor existing code to make it more testable\n"
   ]
  },
  {
   "cell_type": "code",
   "execution_count": null,
   "id": "db71f83d",
   "metadata": {},
   "outputs": [],
   "source": [
    "%matplotlib notebook\n",
    "#%matplotlib widget\n",
    "\n",
    "import matplotlib.pyplot as plt\n",
    "import pandas as pd\n",
    "\n",
    "\n",
    "HEAD_COL = ['curr_frame', 'time_elapsed', 'obj_subtracted', 'subtracted_value',\n",
    "            'obj_value', 'obj_size', 'background_value', 'xold', 'yold']\n",
    "\n",
    "\n",
    "parse_file = \"./resources/ca_rawdatafile.csv\"\n",
    "\n",
    "ca_data = pd.read_csv(parse_file, header=None, names=HEAD_COL)\n",
    "\n",
    "extract_data = ca_data[\"obj_value\"]\n",
    "time_elapsed = ca_data[\"time_elapsed\"]\n",
    "\n",
    "edit_data = extract_data*2\n",
    "\n",
    "edit_data.to_csv(\"mod_data.txt\")\n",
    "\n",
    "plt.plot(time_elapsed, edit_data, label=\"Neuron activity over time\")\n",
    "plt.xlabel(\"Time [ms]\")\n",
    "plt.ylabel(\"Object flourescence\")\n",
    "plt.legend()\n",
    "plt.show()\n"
   ]
  },
  {
   "cell_type": "markdown",
   "id": "7d830a94",
   "metadata": {},
   "source": [
    "Use a main function; as a very basic test, you can now write a test that simply calls the `main` function and check whether the output file has been written and that it contains the expected content.\n",
    "\n",
    "<table>\n",
    "<tr>\n",
    "<td style=\"text-align:left\">\n",
    "\n",
    "```\n",
    "import matplotlib.pyplot as plt\n",
    "import pandas as pd\n",
    "\n",
    "\n",
    "HEAD_COL = ['curr_frame', 'time_elapsed', \n",
    "            'obj_subtracted', 'subtracted_value',\n",
    "            'obj_value', 'obj_size', \n",
    "            'background_value', 'xold', 'yold']\n",
    "\n",
    "\n",
    "parse_file = \"./resources/ca_rawdatafile.csv\"\n",
    "\n",
    "ca_data = pd.read_csv(parse_file, \n",
    "                      header=None, names=HEAD_COL)\n",
    "\n",
    "extract_data = ca_data[\"obj_value\"]\n",
    "time_elapsed = ca_data[\"time_elapsed\"]\n",
    "\n",
    "edit_data = extract_data*2\n",
    "\n",
    "edit_data.to_csv(\"mod_data.txt\")\n",
    "\n",
    "plt.plot(time_elapsed, edit_data, \n",
    "         label=\"Neuron activity over time\")\n",
    "plt.xlabel(\"Time\")\n",
    "plt.ylabel(\"Object flourescence\")\n",
    "plt.legend()\n",
    "plt.show()\n",
    "```\n",
    "\n",
    "</td>\n",
    "<td style=\"text-align:left\">\n",
    "\n",
    "```\n",
    "import os    \n",
    "\n",
    "import matplotlib.pyplot as plt\n",
    "import pandas as pd\n",
    "\n",
    "\n",
    "HEAD_COL = ['curr_frame', 'time_elapsed', \n",
    "            'obj_subtracted', 'subtracted_value',\n",
    "            'obj_value', 'obj_size', \n",
    "            'background_value', 'xold', 'yold']\n",
    "\n",
    "\n",
    "def main():\n",
    "    parse_file = \"./resources/ca_rawdatafile.csv\"\n",
    "\n",
    "    ca_data = pd.read_csv(parse_file, \n",
    "                          header=None, names=HEAD_COL)\n",
    "\n",
    "    extract_data = ca_data[\"obj_value\"]\n",
    "    time_elapsed = ca_data[\"time_elapsed\"]\n",
    "\n",
    "    edit_data = extract_data*2\n",
    "\n",
    "    edit_data.to_csv(\"mod_data.txt\")\n",
    "\n",
    "    plt.plot(time_elapsed, edit_data, \n",
    "             label=\"Neuron activity over time\")\n",
    "    plt.xlabel(\"Time\")\n",
    "    plt.ylabel(\"Object flourescence\")\n",
    "    plt.legend()\n",
    "    plt.show()\n",
    "\n",
    "\n",
    "def test_main():\n",
    "    main()\n",
    "    assert os.path.isfile(\"mod_data.txt\")\n",
    "\n",
    "    \n",
    "if __name__ == \"__main__\":\n",
    "    main()\n",
    "```\n",
    "\n",
    "</td>\n",
    "</tr>\n",
    "</table>"
   ]
  },
  {
   "cell_type": "markdown",
   "id": "4b56b278",
   "metadata": {},
   "source": [
    "Design your code so that your tests can be independent from your analysis.\n",
    "\n",
    "<table>\n",
    "<tr>\n",
    "<td style=\"text-align:left\">\n",
    "\n",
    "```\n",
    "import matplotlib.pyplot as plt\n",
    "import pandas as pd\n",
    "\n",
    "\n",
    "HEAD_COL = ['curr_frame', 'time_elapsed', \n",
    "            'obj_subtracted', 'subtracted_value',\n",
    "            'obj_value', 'obj_size', \n",
    "            'background_value', 'xold', 'yold']\n",
    "\n",
    "\n",
    "def main():\n",
    "    parse_file = \"./resources/ca_rawdatafile.csv\"\n",
    "\n",
    "    ca_data = pd.read_csv(parse_file, \n",
    "                          header=None, names=HEAD_COL)\n",
    "\n",
    "    extract_data = ca_data[\"obj_value\"]\n",
    "    time_elapsed = ca_data[\"time_elapsed\"]\n",
    "\n",
    "    edit_data = extract_data*2\n",
    "\n",
    "    edit_data.to_csv(\"mod_data.txt\")\n",
    "\n",
    "    plt.plot(time_elapsed, edit_data, \n",
    "             label=\"Neuron activity over time\")\n",
    "    plt.xlabel(\"Time\")\n",
    "    plt.ylabel(\"Object flourescence\")\n",
    "    plt.legend()\n",
    "    plt.show()\n",
    "    \n",
    "if __name__ == \"__main__\":\n",
    "    main()\n",
    "```\n",
    "\n",
    "</td>\n",
    "<td style=\"text-align:left\">\n",
    "\n",
    "```\n",
    "import matplotlib.pyplot as plt\n",
    "import pandas as pd\n",
    "\n",
    "\n",
    "HEAD_COL = ['curr_frame', 'time_elapsed', \n",
    "            'obj_subtracted', 'subtracted_value',\n",
    "            'obj_value', 'obj_size', \n",
    "            'background_value', 'xold', 'yold']\n",
    "\n",
    "\n",
    "def main(parse_file):\n",
    "    ca_data = pd.read_csv(parse_file, \n",
    "                          header=None, names=HEAD_COL)\n",
    "\n",
    "    extract_data = ca_data[\"obj_value\"]\n",
    "    time_elapsed = ca_data[\"time_elapsed\"]\n",
    "\n",
    "    edit_data = extract_data*2\n",
    "\n",
    "    edit_data.to_csv(\"mod_data.txt\")\n",
    "\n",
    "    plt.plot(time_elapsed, edit_data, \n",
    "             label=\"Neuron activity over time\")\n",
    "    plt.xlabel(\"Time\")\n",
    "    plt.ylabel(\"Object flourescence\")\n",
    "    plt.legend()\n",
    "    plt.show()\n",
    "    \n",
    "if __name__ == \"__main__\":\n",
    "    main(\"./resources/ca_rawdatafile.csv\")\n",
    "```\n",
    "\n",
    "</td>\n",
    "</tr>\n",
    "</table>\n",
    "\n",
    "By moving the file name definition outside of the main function, you can now pass in your test file name in your test."
   ]
  },
  {
   "cell_type": "markdown",
   "id": "b74d28ab",
   "metadata": {},
   "source": [
    "Split your code further according to its function.\n",
    "\n",
    "<table>\n",
    "<tr>\n",
    "<td style=\"text-align:left\">\n",
    "\n",
    "```\n",
    "import matplotlib.pyplot as plt\n",
    "import pandas as pd\n",
    "\n",
    "\n",
    "HEAD_COL = ['curr_frame', 'time_elapsed', \n",
    "            'obj_subtracted', 'subtracted_value',\n",
    "            'obj_value', 'obj_size', \n",
    "            'background_value', 'xold', 'yold']\n",
    "\n",
    "\n",
    "def main(parse_file):\n",
    "    ca_data = pd.read_csv(parse_file, \n",
    "                          header=None, names=HEAD_COL)\n",
    "\n",
    "    extract_data = ca_data[\"obj_value\"]\n",
    "    time_elapsed = ca_data[\"time_elapsed\"]\n",
    "\n",
    "    edit_data = extract_data*2\n",
    "\n",
    "    edit_data.to_csv(\"mod_data.txt\")\n",
    "\n",
    "    plt.plot(time_elapsed, edit_data, \n",
    "             label=\"Neuron activity over time\")\n",
    "    plt.xlabel(\"Time\")\n",
    "    plt.ylabel(\"Object flourescence\")\n",
    "    plt.legend()\n",
    "    plt.show()\n",
    "    \n",
    "if __name__ == \"__main__\":\n",
    "    main(\"./resources/ca_rawdatafile.csv\")\n",
    "```\n",
    "\n",
    "</td>\n",
    "<td style=\"text-align:left\">\n",
    "\n",
    "```\n",
    "import matplotlib.pyplot as plt\n",
    "import pandas as pd\n",
    "\n",
    "\n",
    "HEAD_COL = ['curr_frame', 'time_elapsed', \n",
    "            'obj_subtracted', 'subtracted_value',\n",
    "            'obj_value', 'obj_size', \n",
    "            'background_value', 'xold', 'yold']\n",
    "\n",
    "def load_data(parse_file):\n",
    "    return pd.read_csv(parse_file, \n",
    "                       header=None, names=HEAD_COL)\n",
    "\n",
    "def modify_data(extract_data):\n",
    "    return extract_data * 2    \n",
    "\n",
    "def save_edit_data(data):\n",
    "    data.to_csv(\"mod_data.txt\")\n",
    "\n",
    "def plot_data(time_elapsed, edit_data):\n",
    "    plt.plot(time_elapsed, edit_data, \n",
    "             label=\"Neuron activity over time\")\n",
    "    plt.xlabel(\"Time\")\n",
    "    plt.ylabel(\"Object flourescence\")\n",
    "    plt.legend()\n",
    "    plt.show()\n",
    "\n",
    "def main(parse_file):\n",
    "    ca_data = load_data(parse_file)\n",
    "\n",
    "    extract_data = ca_data[\"obj_value\"]\n",
    "    time_elapsed = ca_data[\"time_elapsed\"]\n",
    "\n",
    "    edit_data = modify_data(extract_data)\n",
    "\n",
    "    save_edit_data(edit_data)\n",
    "\n",
    "    plot_data(time_elapsed, edit_data)\n",
    "    \n",
    "if __name__ == \"__main__\":\n",
    "    main(\"./resources/ca_rawdatafile.csv\")\n",
    "```\n",
    "\n",
    "</td>\n",
    "</tr>\n",
    "</table>\n",
    "\n",
    "You can still run the very first test your wrote, but you can also now write more specific tests. e.g. you can directly test whether the output of your data modification function returns the expected result."
   ]
  },
  {
   "cell_type": "markdown",
   "id": "6e12c735",
   "metadata": {},
   "source": [
    "### Practical testing issues"
   ]
  },
  {
   "cell_type": "markdown",
   "id": "e21579a0",
   "metadata": {},
   "source": [
    "#### Testing resource files\n",
    "\n",
    "Keep your test resources close. Ideally in a `resources` folder right with the tests:\n",
    "\n",
    "    testlint\n",
    "    ├─ testlint\n",
    "    |  ├─ __init__.py\n",
    "    |  └─ util.py\n",
    "    └─ test\n",
    "       ├─ resources\n",
    "       |  └─ resource_file.csv\n",
    "       ├─ __init__.py\n",
    "       ├─ example.py\n",
    "       ├─ example_ignored.py\n",
    "       ├─ test_example.py\n",
    "       └─ test_testlint_util.py\n"
   ]
  },
  {
   "cell_type": "markdown",
   "id": "aa2b7230",
   "metadata": {},
   "source": [
    "#### Testing expected fails\n",
    "\n",
    "We might want to make sure that our code fails when it should fail. Otherwise we might not get the results we should.\n"
   ]
  },
  {
   "cell_type": "code",
   "execution_count": null,
   "id": "90405a46",
   "metadata": {},
   "outputs": [],
   "source": [
    "import pytest\n",
    "\n",
    "def append_gullibly(obj, item):\n",
    "    obj.append(item)\n",
    "\n",
    "    return obj\n",
    "\n",
    "def test_append_gullibly_success():\n",
    "    test_obj = []\n",
    "    content = \"i am an item\"\n",
    "    res = append_gullibly(test_obj, content)\n",
    "    assert res[0] == content\n",
    "\n",
    "def test_append_gullibly_fail():\n",
    "    test_obj = 1\n",
    "    content = \"i am an item\"\n",
    "    with pytest.raises(AttributeError):\n",
    "        res = append_gullibly(test_obj, content)\n",
    "\n",
    "def test_append_gullibly_invalid_exception():\n",
    "    test_obj = 1\n",
    "    content = \"i am an item\"\n",
    "    with pytest.raises(KeyError):\n",
    "        res = append_gullibly(test_obj, content)\n"
   ]
  },
  {
   "cell_type": "code",
   "execution_count": null,
   "id": "140d9646",
   "metadata": {},
   "outputs": [],
   "source": [
    "test_append_gullibly_success()"
   ]
  },
  {
   "cell_type": "code",
   "execution_count": null,
   "id": "77fd8db6",
   "metadata": {},
   "outputs": [],
   "source": [
    "test_append_gullibly_fail()"
   ]
  },
  {
   "cell_type": "code",
   "execution_count": null,
   "id": "041bad7f",
   "metadata": {},
   "outputs": [],
   "source": [
    "test_append_gullibly_invalid_exception()"
   ]
  },
  {
   "cell_type": "markdown",
   "id": "2004e849",
   "metadata": {},
   "source": [
    "#### Handling transient testing output files\n",
    "\n",
    "Use the `tempfile` package:\n",
    "\n",
    "https://docs.python.org/3/library/tempfile.html\n"
   ]
  },
  {
   "cell_type": "code",
   "execution_count": null,
   "id": "f9e75531",
   "metadata": {},
   "outputs": [],
   "source": [
    "import tempfile\n",
    "\n",
    "\n",
    "test_dir = tempfile.mkdtemp()\n",
    "\n",
    "print(test_dir)\n"
   ]
  },
  {
   "cell_type": "code",
   "execution_count": null,
   "id": "cdc89b9e",
   "metadata": {},
   "outputs": [],
   "source": [
    "test_dir_suffix = tempfile.mkdtemp(suffix=\"-utiltest\")\n",
    "print(test_dir_suffix)"
   ]
  },
  {
   "cell_type": "markdown",
   "id": "464f24fd",
   "metadata": {},
   "source": [
    "# Increasing code quality"
   ]
  },
  {
   "cell_type": "markdown",
   "id": "cd1d4c78",
   "metadata": {},
   "source": [
    "Keeping code organized and well maintained has multiple benefits. Most of these benefits lie in the future...\n",
    "- have an easier time reading your own code:\n",
    "  - keep your naming scheme consistent and include useful variable names so you know what the content is\n",
    "  - using small functions or methods with fewer variables helps to grasp what they actually do\n",
    "\n",
    "\n",
    "- have an easier time updating and rewriting your code\n",
    "\n",
    "\n",
    "- have an easier time writing useful tests\n",
    "  - having small functions help writing easy tests\n",
    "\n",
    "\n",
    "- make it easier for other people to understand your code\n",
    "\n",
    "\n",
    "- confidence booster: don't be hesitant to show other people your code because of quality\n",
    "\n",
    "\n",
    "- write better code over time\n"
   ]
  },
  {
   "cell_type": "markdown",
   "id": "3b016aa1",
   "metadata": {},
   "source": [
    "### Use linters\n",
    "\n",
    "General guidelines to write clean Python code - PEP8:\n",
    "https://www.python.org/dev/peps/pep-0008/\n",
    "\n",
    "PEP8 comments are many things to keep in mind and do not touch many \"code smells\". IDEs like Pycharm have built-in options that point PEP8 issues out.\n",
    "\n",
    "To help increase code quality and making it part of a routine, there are \"linters\" out there to make it easy for you.\n",
    "\n",
    "Examples are:\n",
    "- pylint\n",
    "- flake8\n",
    "- autopep8\n",
    "- pychecker\n",
    "- pylama\n",
    "- ...\n",
    "\n",
    "We are going to use pylint (https://pylint.org/) which has a good balance between clean code styles and identifying code smells."
   ]
  },
  {
   "cell_type": "markdown",
   "id": "22e3580f",
   "metadata": {},
   "source": [
    "### pylint requirements\n",
    "\n",
    "\n",
    "```\n",
    "pip install pylint\n",
    "```\n",
    "\n",
    "Run it from the command line\n",
    "\n",
    "```\n",
    "pylint testlint/util.py\n",
    "```\n",
    "\n",
    "And now we work our way through all the issues...\n"
   ]
  },
  {
   "cell_type": "markdown",
   "id": "55bb5729",
   "metadata": {},
   "source": [
    "You can deactivate specific messages either\n",
    "- via the command line\n",
    "- via a setup file\n",
    "\n",
    "You can ignore specific messages\n",
    "\n",
    "```\n",
    "pylint --disable=C0114 testlint/util.py\n",
    "```\n",
    "\n",
    "Create a file \"setup.cfg\" at the root of the project and paste the following:\n",
    "```\n",
    "[pycodestyle]\n",
    "max-line-length = 100\n",
    "statistics = True\n",
    "```\n",
    "\n"
   ]
  },
  {
   "cell_type": "markdown",
   "id": "a799a43f",
   "metadata": {},
   "source": [
    "### Matlab code checker and styleguides\n",
    "\n",
    "Since R2011b, Matlab ships its own code checker: https://de.mathworks.com/help/matlab/ref/checkcode.html\n",
    "\n",
    "The checker can be run against a single file:\n",
    "```\n",
    "checkcode(filename)\n",
    "```\n",
    "\n",
    "It will also print a list of potential errors and suggestions how to improve the code quality.\n",
    "\n",
    "Older versions of Matlab feature a tool called `mlintrpt` that basically works identical to `checkcode`."
   ]
  },
  {
   "cell_type": "markdown",
   "id": "f5b13768",
   "metadata": {},
   "source": [
    "I did not find an official document regarding Matlab code style analogous to PEP8, but there are a couple of inofficial documents around that address certain standards that can be observed when writing Matlab code to keep it consistent and easy to read; e.g.:\n",
    "\n",
    "http://www.cs.cornell.edu/courses/cs321/2003fa/Matlab%20Coding%20Style.pdf"
   ]
  },
  {
   "cell_type": "markdown",
   "id": "85182de5",
   "metadata": {},
   "source": [
    "#### Exercise\n",
    "- lint your way through the files you created so far."
   ]
  },
  {
   "cell_type": "markdown",
   "id": "23fc56d2",
   "metadata": {},
   "source": [
    "- Make it a habit of running pylint before you commit\n",
    "\n",
    "\n",
    "- when starting to lint existing projects:\n",
    "  - there will be a long list of things to fix\n",
    "  - work at it over time; focus on single message IDs only\n",
    "  - run tests when you are touching actual code\n"
   ]
  },
  {
   "cell_type": "markdown",
   "id": "bd4db24b",
   "metadata": {},
   "source": [
    "#### How to keep jupyter notebooks clean?\n",
    "\n",
    "https://stackoverflow.com/questions/26126853/verifying-pep8-in-ipython-notebook-code\n",
    "\n",
    "```\n",
    "pip install flake8 pycodestyle_magic\n",
    "```"
   ]
  },
  {
   "cell_type": "code",
   "execution_count": null,
   "id": "aff4b8d1",
   "metadata": {},
   "outputs": [],
   "source": [
    "%load_ext pycodestyle_magic"
   ]
  },
  {
   "cell_type": "code",
   "execution_count": null,
   "id": "81733881",
   "metadata": {},
   "outputs": [],
   "source": [
    "%pycodestyle_on"
   ]
  },
  {
   "cell_type": "code",
   "execution_count": null,
   "id": "cb7e80ce",
   "metadata": {},
   "outputs": [],
   "source": [
    "a=1\n",
    "print(a)"
   ]
  },
  {
   "cell_type": "markdown",
   "id": "e304217b",
   "metadata": {},
   "source": [
    "I noted, that using pycodestyle_magic sometimes disables cell print output."
   ]
  },
  {
   "cell_type": "code",
   "execution_count": null,
   "id": "390b0650",
   "metadata": {},
   "outputs": [],
   "source": [
    "a=\"I shall not be printed\"\n",
    "a"
   ]
  },
  {
   "cell_type": "markdown",
   "id": "090e2012",
   "metadata": {},
   "source": [
    "To do cleanup on the command line, one can also convert a Jupyter notebook to a script and run pylint on this script for cleanup:\n",
    "\n",
    "```\n",
    "jupyter nbconvert --to=script --output-dir=/tmp/converted-notebooks/ notebook_name.ipynb\n",
    "pylint --disable=C0103,C0413,C0305 /tmp/converted-notebooks/notebook_name.py\n",
    "```"
   ]
  },
  {
   "cell_type": "markdown",
   "id": "19fae4d9",
   "metadata": {},
   "source": [
    "Here is also an interesting blogpost how jupyter notebook testing can be further automatized: https://www.blog.pythonlibrary.org/2018/10/16/testing-jupyter-notebooks/"
   ]
  },
  {
   "cell_type": "markdown",
   "id": "a4b601d6",
   "metadata": {},
   "source": [
    "### Create a workflow habit\n",
    "\n",
    "- `git fetch --all`\n",
    "- `git pull` or `git rebase [yourBranch]`\n",
    "- write code\n",
    "- create a test / update existing test\n",
    "- run `pytest` and fix any issues\n",
    "- run `pylint` and fix any issues\n",
    "- `git commit`\n",
    "- `git push`\n",
    "\n",
    "And from time to time:\n",
    "- recreate your environment from scratch\n",
    "  - use a different Python version\n",
    "  - re-install all required packages into a clean environment "
   ]
  },
  {
   "cell_type": "markdown",
   "id": "f32a74f4",
   "metadata": {},
   "source": [
    "## Linklist\n",
    "### Python\n",
    "- https://docs.pytest.org\n",
    "- https://nose.readthedocs.io\n",
    "- https://tox.readthedocs.io\n",
    "- https://pythontesting.net/start-here/\n",
    "- https://docs.python.org/3/library/tempfile.html\n",
    "\n",
    "\n",
    "- https://www.python.org/dev/peps/pep-0008\n",
    "- https://pylint.org\n",
    "- https://stackoverflow.com/questions/26126853/verifying-pep8-in-ipython-notebook-code\n",
    "- https://www.blog.pythonlibrary.org/2018/10/16/testing-jupyter-notebooks\n",
    "\n",
    "### Matlab\n",
    "- https://de.mathworks.com/help/matlab/matlab-unit-test-framework.html\n",
    "- https://de.mathworks.com/help/matlab/matlab_prog/write-script-based-unit-tests.html\n",
    "\n",
    "\n",
    "- https://de.mathworks.com/help/matlab/ref/checkcode.html\n",
    "- http://www.cs.cornell.edu/courses/cs321/2003fa/Matlab%20Coding%20Style.pdf"
   ]
  }
 ],
 "metadata": {
  "kernelspec": {
   "display_name": "Python 3 (ipykernel)",
   "language": "python",
   "name": "python3"
  },
  "language_info": {
   "codemirror_mode": {
    "name": "ipython",
    "version": 3
   },
   "file_extension": ".py",
   "mimetype": "text/x-python",
   "name": "python",
   "nbconvert_exporter": "python",
   "pygments_lexer": "ipython3",
   "version": "3.9.7"
  }
 },
 "nbformat": 4,
 "nbformat_minor": 5
}
