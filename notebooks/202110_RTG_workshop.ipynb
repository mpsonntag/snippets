{
 "cells": [
  {
   "cell_type": "markdown",
   "id": "2245b930",
   "metadata": {},
   "source": [
    "# RTG workshop\n",
    "## Testing code\n",
    "\n",
    "- crashcourse in how to write tests in Python\n",
    "- points in how to write tests with Matlab"
   ]
  },
  {
   "cell_type": "markdown",
   "id": "0fa45364",
   "metadata": {},
   "source": [
    "### Why test code\n",
    "  - make sure code works as expected\n",
    "  - ensure introducted code changes do not change expected results\n",
    "  - ensure programming language update does not lead to differnt results\n",
    "  - document how code is used: point people to tests\n",
    "\n",
    "### What you should gain from this session\n",
    "  - learn how to write and run tests\n",
    "  - get an idea how and where to start writing tests for your own projects\n",
    "\n",
    "### Requirements\n",
    "\n",
    "pip install pytest\n",
    "\n",
    "Find documentation here: https://docs.pytest.org\n",
    "\n",
    "On the commandline you can use pytest:\n",
    "\n",
    "pytest \n",
    "\n",
    "Which tests are done?\n",
    "\n",
    "pytest will \n",
    "- check all Python files in the current folder and all files in any subfolder.\n",
    "\n",
    "- any file in a subfolder starting with \"test_\" will be run\n",
    "- any file that is specifically handed to pytest will be run\n",
    "\n",
    "- any function within a run file that starts with \"test_\" will be run\n",
    "\n",
    "mkdir test_lint\n",
    "touch test_lint/example.py\n",
    "touch test_lint/example_ignored.py\n",
    "touch test_lint/test_example.py\n",
    "\n",
    "Function and test can be in the same file e.g. in example.py:\n",
    "\n",
    "- file content of example.py\n",
    "def add_up(a, b):\n",
    "    return a + b\n",
    "\n",
    "def test_add_up_succeed():\n",
    "    assert add_up(1, 2) == 3\n",
    "\n",
    "def test_add_up_fail():\n",
    "    assert add_up(1, 2) == 4\n",
    "\n",
    "def ignore_me():\n",
    "    assert \"I will be\" == \"completely ignored\"\n",
    "\n",
    "Run the test by providing the file name\n",
    "\n",
    "pytest test_lint/example.py\n",
    "\n",
    "By default Python files are ignored even if they contain test functions:\n",
    "\n",
    "- file content of example_ignored.py:\n",
    "def ignored():\n",
    "    assert \"a\" == \"b\"\n",
    "\n",
    "def test_ignored():\n",
    "    assert \"b\" == \"c\"\n",
    "\n",
    "pytest test_lint\n",
    "\n",
    "By default Python files with the \"test_\" prefix are run:\n",
    "\n",
    "- file content of test_example.py:\n",
    "def i_am_ignored():\n",
    "    assert \"a\" == \"b\"\n",
    "\n",
    "\n",
    "def test_i_am_included_success():\n",
    "    assert 1 == 1\n",
    "\n",
    "\n",
    "def test_i_am_included_fail():\n",
    "    assert 1 == 2\n",
    "\n",
    "pytest test_lint\n",
    "\n",
    "Including files can be forced by providing the folder content:\n",
    "\n",
    "pytest test_lint/*\n",
    "\n",
    "\n",
    "Great. We know now how to write test functions and how to run them.\n",
    "\n",
    "- how to do it\n",
    "- granularity\n",
    "- covering large projects\n",
    "- write test before changing a function and check if the function returns the expected result."
   ]
  },
  {
   "cell_type": "markdown",
   "id": "78f26bea",
   "metadata": {},
   "source": [
    "- when switching to a new version of a programming language - happens more often with Matlab but can be an issue with Python as well -> be sure that the code still finishes with the same result as with the version before\n",
    "- document how your code is supposed to be used: you can simply point people to your tests and tell them: this is how you should run it."
   ]
  },
  {
   "cell_type": "markdown",
   "id": "464f24fd",
   "metadata": {},
   "source": [
    "## Increasing code quality with Python and Matlab"
   ]
  },
  {
   "cell_type": "markdown",
   "id": "cd1d4c78",
   "metadata": {},
   "source": [
    "- why should we care\n",
    "- requirements\n",
    "- how to do it\n",
    "- how to start with a new project\n",
    "- what to do with an existing project"
   ]
  },
  {
   "cell_type": "markdown",
   "id": "ba9097bb",
   "metadata": {},
   "source": [
    "<table>\n",
    "<tr>\n",
    "<th>Python</th>\n",
    "<th>Matlab</th>\n",
    "</tr>\n",
    "<tr>\n",
    "<td>\n",
    "\n",
    "```python\n",
    "pytest test/testfile.py\n",
    "```\n",
    "\n",
    "</td>\n",
    "<td>\n",
    "\n",
    "```matlab\n",
    "import matlab.unittest.TestRunner\n",
    "import matlab.unittest.TestSuite\n",
    "\n",
    "suite = TestSuite.fromClass(?mypackage.MyTestClass);\n",
    "runner = TestRunner.withTextOutput;\n",
    "result = runner.run(suite)\n",
    "```\n",
    "\n",
    "</td>\n",
    "</tr>\n",
    "</table>\n"
   ]
  },
  {
   "cell_type": "markdown",
   "id": "416a1907",
   "metadata": {},
   "source": [
    "jupyter nbconvert --to=script --output-dir=/tmp/converted-notebooks/ notebook_name.ipynb\n",
    "pylint --disable=C0103,C0413,C0305 /tmp/converted-notebooks/notebook_name.py"
   ]
  },
  {
   "cell_type": "code",
   "execution_count": null,
   "id": "4aad1589",
   "metadata": {},
   "outputs": [],
   "source": []
  }
 ],
 "metadata": {
  "kernelspec": {
   "display_name": "Python 3 (ipykernel)",
   "language": "python",
   "name": "python3"
  },
  "language_info": {
   "codemirror_mode": {
    "name": "ipython",
    "version": 3
   },
   "file_extension": ".py",
   "mimetype": "text/x-python",
   "name": "python",
   "nbconvert_exporter": "python",
   "pygments_lexer": "ipython3",
   "version": "3.9.7"
  }
 },
 "nbformat": 4,
 "nbformat_minor": 5
}
